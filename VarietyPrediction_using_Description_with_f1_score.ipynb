{
  "nbformat": 4,
  "nbformat_minor": 0,
  "metadata": {
    "colab": {
      "provenance": [],
      "collapsed_sections": []
    },
    "kernelspec": {
      "name": "python3",
      "display_name": "Python 3"
    },
    "language_info": {
      "name": "python"
    },
    "accelerator": "GPU",
    "gpuClass": "standard"
  },
  "cells": [
    {
      "cell_type": "code",
      "source": [
        "import os\n",
        "print(os.getcwd())"
      ],
      "metadata": {
        "colab": {
          "base_uri": "https://localhost:8080/"
        },
        "id": "UQdahT49cPX8",
        "outputId": "f8d6b173-4680-480e-8955-2fba829d2f1b"
      },
      "execution_count": 1,
      "outputs": [
        {
          "output_type": "stream",
          "name": "stdout",
          "text": [
            "/content\n"
          ]
        }
      ]
    },
    {
      "cell_type": "code",
      "source": [
        "import pandas as pd\n",
        "import numpy as np\n",
        "import matplotlib.pyplot as plt\n",
        "import seaborn as sns\n",
        "\n",
        "import spacy\n",
        "from gensim.models import Word2Vec # importing Word2Vec\n",
        "\n",
        "import tensorflow as tf\n",
        "from tensorflow.keras.optimizers import Adam, SGD\n",
        "from tensorflow.keras.models import Sequential\n",
        "from tensorflow.keras.layers import Dense, GlobalAveragePooling1D, Conv1D, Dropout, SpatialDropout1D, LSTM, Embedding, GlobalMaxPool1D\n",
        "from tensorflow.keras.callbacks import ModelCheckpoint, EarlyStopping, ReduceLROnPlateau, LearningRateScheduler\n",
        "from tensorflow.keras.preprocessing.text import Tokenizer\n",
        "from tensorflow.keras.preprocessing.sequence import pad_sequences"
      ],
      "metadata": {
        "id": "4oPTsY2AcO6_"
      },
      "execution_count": 2,
      "outputs": []
    },
    {
      "cell_type": "code",
      "source": [
        "df = pd.read_csv('/content/drive/MyDrive/VarietyPredictionusingDescription/AssignmentData.csv')"
      ],
      "metadata": {
        "id": "bttGQ4JecO3u"
      },
      "execution_count": 3,
      "outputs": []
    },
    {
      "cell_type": "code",
      "source": [
        "df.head()"
      ],
      "metadata": {
        "id": "Syj6NICScO0m",
        "colab": {
          "base_uri": "https://localhost:8080/",
          "height": 704
        },
        "outputId": "b8f44169-2304-4122-9700-c2bf51153ad3"
      },
      "execution_count": 4,
      "outputs": [
        {
          "output_type": "execute_result",
          "data": {
            "text/plain": [
              "   Unnamed: 0   country                                        description  \\\n",
              "0           0     Italy  Aromas include tropical fruit, broom, brimston...   \n",
              "1           1  Portugal  This is ripe and fruity, a wine that is smooth...   \n",
              "2           2        US  Tart and snappy, the flavors of lime flesh and...   \n",
              "3           3        US  Pineapple rind, lemon pith and orange blossom ...   \n",
              "4           4        US  Much like the regular bottling from 2012, this...   \n",
              "\n",
              "                          designation  points  price           province  \\\n",
              "0                        Vulkà Bianco      87    NaN  Sicily & Sardinia   \n",
              "1                            Avidagos      87   15.0              Douro   \n",
              "2                                 NaN      87   14.0             Oregon   \n",
              "3                Reserve Late Harvest      87   13.0           Michigan   \n",
              "4  Vintner's Reserve Wild Child Block      87   65.0             Oregon   \n",
              "\n",
              "              region_1           region_2         taster_name  \\\n",
              "0                 Etna                NaN       Kerin O’Keefe   \n",
              "1                  NaN                NaN          Roger Voss   \n",
              "2    Willamette Valley  Willamette Valley        Paul Gregutt   \n",
              "3  Lake Michigan Shore                NaN  Alexander Peartree   \n",
              "4    Willamette Valley  Willamette Valley        Paul Gregutt   \n",
              "\n",
              "  taster_twitter_handle                                              title  \\\n",
              "0          @kerinokeefe                  Nicosia 2013 Vulkà Bianco  (Etna)   \n",
              "1            @vossroger      Quinta dos Avidagos 2011 Avidagos Red (Douro)   \n",
              "2           @paulgwine       Rainstorm 2013 Pinot Gris (Willamette Valley)   \n",
              "3                   NaN  St. Julian 2013 Reserve Late Harvest Riesling ...   \n",
              "4           @paulgwine   Sweet Cheeks 2012 Vintner's Reserve Wild Child...   \n",
              "\n",
              "          variety               winery  Unnamed: 14  Unnamed: 15  Unnamed: 16  \n",
              "0     White Blend              Nicosia          NaN          NaN          NaN  \n",
              "1  Portuguese Red  Quinta dos Avidagos          NaN          NaN          NaN  \n",
              "2      Pinot Gris            Rainstorm          NaN          NaN          NaN  \n",
              "3        Riesling           St. Julian          NaN          NaN          NaN  \n",
              "4      Pinot Noir         Sweet Cheeks          NaN          NaN          NaN  "
            ],
            "text/html": [
              "\n",
              "  <div id=\"df-26cf2bc1-5b35-43ca-a32c-5c68f251190f\">\n",
              "    <div class=\"colab-df-container\">\n",
              "      <div>\n",
              "<style scoped>\n",
              "    .dataframe tbody tr th:only-of-type {\n",
              "        vertical-align: middle;\n",
              "    }\n",
              "\n",
              "    .dataframe tbody tr th {\n",
              "        vertical-align: top;\n",
              "    }\n",
              "\n",
              "    .dataframe thead th {\n",
              "        text-align: right;\n",
              "    }\n",
              "</style>\n",
              "<table border=\"1\" class=\"dataframe\">\n",
              "  <thead>\n",
              "    <tr style=\"text-align: right;\">\n",
              "      <th></th>\n",
              "      <th>Unnamed: 0</th>\n",
              "      <th>country</th>\n",
              "      <th>description</th>\n",
              "      <th>designation</th>\n",
              "      <th>points</th>\n",
              "      <th>price</th>\n",
              "      <th>province</th>\n",
              "      <th>region_1</th>\n",
              "      <th>region_2</th>\n",
              "      <th>taster_name</th>\n",
              "      <th>taster_twitter_handle</th>\n",
              "      <th>title</th>\n",
              "      <th>variety</th>\n",
              "      <th>winery</th>\n",
              "      <th>Unnamed: 14</th>\n",
              "      <th>Unnamed: 15</th>\n",
              "      <th>Unnamed: 16</th>\n",
              "    </tr>\n",
              "  </thead>\n",
              "  <tbody>\n",
              "    <tr>\n",
              "      <th>0</th>\n",
              "      <td>0</td>\n",
              "      <td>Italy</td>\n",
              "      <td>Aromas include tropical fruit, broom, brimston...</td>\n",
              "      <td>Vulkà Bianco</td>\n",
              "      <td>87</td>\n",
              "      <td>NaN</td>\n",
              "      <td>Sicily &amp; Sardinia</td>\n",
              "      <td>Etna</td>\n",
              "      <td>NaN</td>\n",
              "      <td>Kerin O’Keefe</td>\n",
              "      <td>@kerinokeefe</td>\n",
              "      <td>Nicosia 2013 Vulkà Bianco  (Etna)</td>\n",
              "      <td>White Blend</td>\n",
              "      <td>Nicosia</td>\n",
              "      <td>NaN</td>\n",
              "      <td>NaN</td>\n",
              "      <td>NaN</td>\n",
              "    </tr>\n",
              "    <tr>\n",
              "      <th>1</th>\n",
              "      <td>1</td>\n",
              "      <td>Portugal</td>\n",
              "      <td>This is ripe and fruity, a wine that is smooth...</td>\n",
              "      <td>Avidagos</td>\n",
              "      <td>87</td>\n",
              "      <td>15.0</td>\n",
              "      <td>Douro</td>\n",
              "      <td>NaN</td>\n",
              "      <td>NaN</td>\n",
              "      <td>Roger Voss</td>\n",
              "      <td>@vossroger</td>\n",
              "      <td>Quinta dos Avidagos 2011 Avidagos Red (Douro)</td>\n",
              "      <td>Portuguese Red</td>\n",
              "      <td>Quinta dos Avidagos</td>\n",
              "      <td>NaN</td>\n",
              "      <td>NaN</td>\n",
              "      <td>NaN</td>\n",
              "    </tr>\n",
              "    <tr>\n",
              "      <th>2</th>\n",
              "      <td>2</td>\n",
              "      <td>US</td>\n",
              "      <td>Tart and snappy, the flavors of lime flesh and...</td>\n",
              "      <td>NaN</td>\n",
              "      <td>87</td>\n",
              "      <td>14.0</td>\n",
              "      <td>Oregon</td>\n",
              "      <td>Willamette Valley</td>\n",
              "      <td>Willamette Valley</td>\n",
              "      <td>Paul Gregutt</td>\n",
              "      <td>@paulgwine</td>\n",
              "      <td>Rainstorm 2013 Pinot Gris (Willamette Valley)</td>\n",
              "      <td>Pinot Gris</td>\n",
              "      <td>Rainstorm</td>\n",
              "      <td>NaN</td>\n",
              "      <td>NaN</td>\n",
              "      <td>NaN</td>\n",
              "    </tr>\n",
              "    <tr>\n",
              "      <th>3</th>\n",
              "      <td>3</td>\n",
              "      <td>US</td>\n",
              "      <td>Pineapple rind, lemon pith and orange blossom ...</td>\n",
              "      <td>Reserve Late Harvest</td>\n",
              "      <td>87</td>\n",
              "      <td>13.0</td>\n",
              "      <td>Michigan</td>\n",
              "      <td>Lake Michigan Shore</td>\n",
              "      <td>NaN</td>\n",
              "      <td>Alexander Peartree</td>\n",
              "      <td>NaN</td>\n",
              "      <td>St. Julian 2013 Reserve Late Harvest Riesling ...</td>\n",
              "      <td>Riesling</td>\n",
              "      <td>St. Julian</td>\n",
              "      <td>NaN</td>\n",
              "      <td>NaN</td>\n",
              "      <td>NaN</td>\n",
              "    </tr>\n",
              "    <tr>\n",
              "      <th>4</th>\n",
              "      <td>4</td>\n",
              "      <td>US</td>\n",
              "      <td>Much like the regular bottling from 2012, this...</td>\n",
              "      <td>Vintner's Reserve Wild Child Block</td>\n",
              "      <td>87</td>\n",
              "      <td>65.0</td>\n",
              "      <td>Oregon</td>\n",
              "      <td>Willamette Valley</td>\n",
              "      <td>Willamette Valley</td>\n",
              "      <td>Paul Gregutt</td>\n",
              "      <td>@paulgwine</td>\n",
              "      <td>Sweet Cheeks 2012 Vintner's Reserve Wild Child...</td>\n",
              "      <td>Pinot Noir</td>\n",
              "      <td>Sweet Cheeks</td>\n",
              "      <td>NaN</td>\n",
              "      <td>NaN</td>\n",
              "      <td>NaN</td>\n",
              "    </tr>\n",
              "  </tbody>\n",
              "</table>\n",
              "</div>\n",
              "      <button class=\"colab-df-convert\" onclick=\"convertToInteractive('df-26cf2bc1-5b35-43ca-a32c-5c68f251190f')\"\n",
              "              title=\"Convert this dataframe to an interactive table.\"\n",
              "              style=\"display:none;\">\n",
              "        \n",
              "  <svg xmlns=\"http://www.w3.org/2000/svg\" height=\"24px\"viewBox=\"0 0 24 24\"\n",
              "       width=\"24px\">\n",
              "    <path d=\"M0 0h24v24H0V0z\" fill=\"none\"/>\n",
              "    <path d=\"M18.56 5.44l.94 2.06.94-2.06 2.06-.94-2.06-.94-.94-2.06-.94 2.06-2.06.94zm-11 1L8.5 8.5l.94-2.06 2.06-.94-2.06-.94L8.5 2.5l-.94 2.06-2.06.94zm10 10l.94 2.06.94-2.06 2.06-.94-2.06-.94-.94-2.06-.94 2.06-2.06.94z\"/><path d=\"M17.41 7.96l-1.37-1.37c-.4-.4-.92-.59-1.43-.59-.52 0-1.04.2-1.43.59L10.3 9.45l-7.72 7.72c-.78.78-.78 2.05 0 2.83L4 21.41c.39.39.9.59 1.41.59.51 0 1.02-.2 1.41-.59l7.78-7.78 2.81-2.81c.8-.78.8-2.07 0-2.86zM5.41 20L4 18.59l7.72-7.72 1.47 1.35L5.41 20z\"/>\n",
              "  </svg>\n",
              "      </button>\n",
              "      \n",
              "  <style>\n",
              "    .colab-df-container {\n",
              "      display:flex;\n",
              "      flex-wrap:wrap;\n",
              "      gap: 12px;\n",
              "    }\n",
              "\n",
              "    .colab-df-convert {\n",
              "      background-color: #E8F0FE;\n",
              "      border: none;\n",
              "      border-radius: 50%;\n",
              "      cursor: pointer;\n",
              "      display: none;\n",
              "      fill: #1967D2;\n",
              "      height: 32px;\n",
              "      padding: 0 0 0 0;\n",
              "      width: 32px;\n",
              "    }\n",
              "\n",
              "    .colab-df-convert:hover {\n",
              "      background-color: #E2EBFA;\n",
              "      box-shadow: 0px 1px 2px rgba(60, 64, 67, 0.3), 0px 1px 3px 1px rgba(60, 64, 67, 0.15);\n",
              "      fill: #174EA6;\n",
              "    }\n",
              "\n",
              "    [theme=dark] .colab-df-convert {\n",
              "      background-color: #3B4455;\n",
              "      fill: #D2E3FC;\n",
              "    }\n",
              "\n",
              "    [theme=dark] .colab-df-convert:hover {\n",
              "      background-color: #434B5C;\n",
              "      box-shadow: 0px 1px 3px 1px rgba(0, 0, 0, 0.15);\n",
              "      filter: drop-shadow(0px 1px 2px rgba(0, 0, 0, 0.3));\n",
              "      fill: #FFFFFF;\n",
              "    }\n",
              "  </style>\n",
              "\n",
              "      <script>\n",
              "        const buttonEl =\n",
              "          document.querySelector('#df-26cf2bc1-5b35-43ca-a32c-5c68f251190f button.colab-df-convert');\n",
              "        buttonEl.style.display =\n",
              "          google.colab.kernel.accessAllowed ? 'block' : 'none';\n",
              "\n",
              "        async function convertToInteractive(key) {\n",
              "          const element = document.querySelector('#df-26cf2bc1-5b35-43ca-a32c-5c68f251190f');\n",
              "          const dataTable =\n",
              "            await google.colab.kernel.invokeFunction('convertToInteractive',\n",
              "                                                     [key], {});\n",
              "          if (!dataTable) return;\n",
              "\n",
              "          const docLinkHtml = 'Like what you see? Visit the ' +\n",
              "            '<a target=\"_blank\" href=https://colab.research.google.com/notebooks/data_table.ipynb>data table notebook</a>'\n",
              "            + ' to learn more about interactive tables.';\n",
              "          element.innerHTML = '';\n",
              "          dataTable['output_type'] = 'display_data';\n",
              "          await google.colab.output.renderOutput(dataTable, element);\n",
              "          const docLink = document.createElement('div');\n",
              "          docLink.innerHTML = docLinkHtml;\n",
              "          element.appendChild(docLink);\n",
              "        }\n",
              "      </script>\n",
              "    </div>\n",
              "  </div>\n",
              "  "
            ]
          },
          "metadata": {},
          "execution_count": 4
        }
      ]
    },
    {
      "cell_type": "markdown",
      "source": [
        "Dropping the last columns which have Nan Values and the first column which have index"
      ],
      "metadata": {
        "id": "kALgmKo4j73t"
      }
    },
    {
      "cell_type": "code",
      "source": [
        "df=df.drop('Unnamed: 0', inplace=False, axis=1)"
      ],
      "metadata": {
        "id": "C8yUD_usl1Pm"
      },
      "execution_count": 5,
      "outputs": []
    },
    {
      "cell_type": "code",
      "source": [
        "df=df.dropna(axis=1, how=\"all\", inplace=False)"
      ],
      "metadata": {
        "id": "Z-HkdvLljGw0"
      },
      "execution_count": 6,
      "outputs": []
    },
    {
      "cell_type": "code",
      "source": [
        "df.head()"
      ],
      "metadata": {
        "colab": {
          "base_uri": "https://localhost:8080/",
          "height": 687
        },
        "id": "wYw7yulujrx8",
        "outputId": "6dcf9cfe-eb0e-477d-b9cc-f078536e6936"
      },
      "execution_count": 7,
      "outputs": [
        {
          "output_type": "execute_result",
          "data": {
            "text/plain": [
              "    country                                        description  \\\n",
              "0     Italy  Aromas include tropical fruit, broom, brimston...   \n",
              "1  Portugal  This is ripe and fruity, a wine that is smooth...   \n",
              "2        US  Tart and snappy, the flavors of lime flesh and...   \n",
              "3        US  Pineapple rind, lemon pith and orange blossom ...   \n",
              "4        US  Much like the regular bottling from 2012, this...   \n",
              "\n",
              "                          designation  points  price           province  \\\n",
              "0                        Vulkà Bianco      87    NaN  Sicily & Sardinia   \n",
              "1                            Avidagos      87   15.0              Douro   \n",
              "2                                 NaN      87   14.0             Oregon   \n",
              "3                Reserve Late Harvest      87   13.0           Michigan   \n",
              "4  Vintner's Reserve Wild Child Block      87   65.0             Oregon   \n",
              "\n",
              "              region_1           region_2         taster_name  \\\n",
              "0                 Etna                NaN       Kerin O’Keefe   \n",
              "1                  NaN                NaN          Roger Voss   \n",
              "2    Willamette Valley  Willamette Valley        Paul Gregutt   \n",
              "3  Lake Michigan Shore                NaN  Alexander Peartree   \n",
              "4    Willamette Valley  Willamette Valley        Paul Gregutt   \n",
              "\n",
              "  taster_twitter_handle                                              title  \\\n",
              "0          @kerinokeefe                  Nicosia 2013 Vulkà Bianco  (Etna)   \n",
              "1            @vossroger      Quinta dos Avidagos 2011 Avidagos Red (Douro)   \n",
              "2           @paulgwine       Rainstorm 2013 Pinot Gris (Willamette Valley)   \n",
              "3                   NaN  St. Julian 2013 Reserve Late Harvest Riesling ...   \n",
              "4           @paulgwine   Sweet Cheeks 2012 Vintner's Reserve Wild Child...   \n",
              "\n",
              "          variety               winery  \n",
              "0     White Blend              Nicosia  \n",
              "1  Portuguese Red  Quinta dos Avidagos  \n",
              "2      Pinot Gris            Rainstorm  \n",
              "3        Riesling           St. Julian  \n",
              "4      Pinot Noir         Sweet Cheeks  "
            ],
            "text/html": [
              "\n",
              "  <div id=\"df-46242c69-7e4b-463a-af10-89c73e57073a\">\n",
              "    <div class=\"colab-df-container\">\n",
              "      <div>\n",
              "<style scoped>\n",
              "    .dataframe tbody tr th:only-of-type {\n",
              "        vertical-align: middle;\n",
              "    }\n",
              "\n",
              "    .dataframe tbody tr th {\n",
              "        vertical-align: top;\n",
              "    }\n",
              "\n",
              "    .dataframe thead th {\n",
              "        text-align: right;\n",
              "    }\n",
              "</style>\n",
              "<table border=\"1\" class=\"dataframe\">\n",
              "  <thead>\n",
              "    <tr style=\"text-align: right;\">\n",
              "      <th></th>\n",
              "      <th>country</th>\n",
              "      <th>description</th>\n",
              "      <th>designation</th>\n",
              "      <th>points</th>\n",
              "      <th>price</th>\n",
              "      <th>province</th>\n",
              "      <th>region_1</th>\n",
              "      <th>region_2</th>\n",
              "      <th>taster_name</th>\n",
              "      <th>taster_twitter_handle</th>\n",
              "      <th>title</th>\n",
              "      <th>variety</th>\n",
              "      <th>winery</th>\n",
              "    </tr>\n",
              "  </thead>\n",
              "  <tbody>\n",
              "    <tr>\n",
              "      <th>0</th>\n",
              "      <td>Italy</td>\n",
              "      <td>Aromas include tropical fruit, broom, brimston...</td>\n",
              "      <td>Vulkà Bianco</td>\n",
              "      <td>87</td>\n",
              "      <td>NaN</td>\n",
              "      <td>Sicily &amp; Sardinia</td>\n",
              "      <td>Etna</td>\n",
              "      <td>NaN</td>\n",
              "      <td>Kerin O’Keefe</td>\n",
              "      <td>@kerinokeefe</td>\n",
              "      <td>Nicosia 2013 Vulkà Bianco  (Etna)</td>\n",
              "      <td>White Blend</td>\n",
              "      <td>Nicosia</td>\n",
              "    </tr>\n",
              "    <tr>\n",
              "      <th>1</th>\n",
              "      <td>Portugal</td>\n",
              "      <td>This is ripe and fruity, a wine that is smooth...</td>\n",
              "      <td>Avidagos</td>\n",
              "      <td>87</td>\n",
              "      <td>15.0</td>\n",
              "      <td>Douro</td>\n",
              "      <td>NaN</td>\n",
              "      <td>NaN</td>\n",
              "      <td>Roger Voss</td>\n",
              "      <td>@vossroger</td>\n",
              "      <td>Quinta dos Avidagos 2011 Avidagos Red (Douro)</td>\n",
              "      <td>Portuguese Red</td>\n",
              "      <td>Quinta dos Avidagos</td>\n",
              "    </tr>\n",
              "    <tr>\n",
              "      <th>2</th>\n",
              "      <td>US</td>\n",
              "      <td>Tart and snappy, the flavors of lime flesh and...</td>\n",
              "      <td>NaN</td>\n",
              "      <td>87</td>\n",
              "      <td>14.0</td>\n",
              "      <td>Oregon</td>\n",
              "      <td>Willamette Valley</td>\n",
              "      <td>Willamette Valley</td>\n",
              "      <td>Paul Gregutt</td>\n",
              "      <td>@paulgwine</td>\n",
              "      <td>Rainstorm 2013 Pinot Gris (Willamette Valley)</td>\n",
              "      <td>Pinot Gris</td>\n",
              "      <td>Rainstorm</td>\n",
              "    </tr>\n",
              "    <tr>\n",
              "      <th>3</th>\n",
              "      <td>US</td>\n",
              "      <td>Pineapple rind, lemon pith and orange blossom ...</td>\n",
              "      <td>Reserve Late Harvest</td>\n",
              "      <td>87</td>\n",
              "      <td>13.0</td>\n",
              "      <td>Michigan</td>\n",
              "      <td>Lake Michigan Shore</td>\n",
              "      <td>NaN</td>\n",
              "      <td>Alexander Peartree</td>\n",
              "      <td>NaN</td>\n",
              "      <td>St. Julian 2013 Reserve Late Harvest Riesling ...</td>\n",
              "      <td>Riesling</td>\n",
              "      <td>St. Julian</td>\n",
              "    </tr>\n",
              "    <tr>\n",
              "      <th>4</th>\n",
              "      <td>US</td>\n",
              "      <td>Much like the regular bottling from 2012, this...</td>\n",
              "      <td>Vintner's Reserve Wild Child Block</td>\n",
              "      <td>87</td>\n",
              "      <td>65.0</td>\n",
              "      <td>Oregon</td>\n",
              "      <td>Willamette Valley</td>\n",
              "      <td>Willamette Valley</td>\n",
              "      <td>Paul Gregutt</td>\n",
              "      <td>@paulgwine</td>\n",
              "      <td>Sweet Cheeks 2012 Vintner's Reserve Wild Child...</td>\n",
              "      <td>Pinot Noir</td>\n",
              "      <td>Sweet Cheeks</td>\n",
              "    </tr>\n",
              "  </tbody>\n",
              "</table>\n",
              "</div>\n",
              "      <button class=\"colab-df-convert\" onclick=\"convertToInteractive('df-46242c69-7e4b-463a-af10-89c73e57073a')\"\n",
              "              title=\"Convert this dataframe to an interactive table.\"\n",
              "              style=\"display:none;\">\n",
              "        \n",
              "  <svg xmlns=\"http://www.w3.org/2000/svg\" height=\"24px\"viewBox=\"0 0 24 24\"\n",
              "       width=\"24px\">\n",
              "    <path d=\"M0 0h24v24H0V0z\" fill=\"none\"/>\n",
              "    <path d=\"M18.56 5.44l.94 2.06.94-2.06 2.06-.94-2.06-.94-.94-2.06-.94 2.06-2.06.94zm-11 1L8.5 8.5l.94-2.06 2.06-.94-2.06-.94L8.5 2.5l-.94 2.06-2.06.94zm10 10l.94 2.06.94-2.06 2.06-.94-2.06-.94-.94-2.06-.94 2.06-2.06.94z\"/><path d=\"M17.41 7.96l-1.37-1.37c-.4-.4-.92-.59-1.43-.59-.52 0-1.04.2-1.43.59L10.3 9.45l-7.72 7.72c-.78.78-.78 2.05 0 2.83L4 21.41c.39.39.9.59 1.41.59.51 0 1.02-.2 1.41-.59l7.78-7.78 2.81-2.81c.8-.78.8-2.07 0-2.86zM5.41 20L4 18.59l7.72-7.72 1.47 1.35L5.41 20z\"/>\n",
              "  </svg>\n",
              "      </button>\n",
              "      \n",
              "  <style>\n",
              "    .colab-df-container {\n",
              "      display:flex;\n",
              "      flex-wrap:wrap;\n",
              "      gap: 12px;\n",
              "    }\n",
              "\n",
              "    .colab-df-convert {\n",
              "      background-color: #E8F0FE;\n",
              "      border: none;\n",
              "      border-radius: 50%;\n",
              "      cursor: pointer;\n",
              "      display: none;\n",
              "      fill: #1967D2;\n",
              "      height: 32px;\n",
              "      padding: 0 0 0 0;\n",
              "      width: 32px;\n",
              "    }\n",
              "\n",
              "    .colab-df-convert:hover {\n",
              "      background-color: #E2EBFA;\n",
              "      box-shadow: 0px 1px 2px rgba(60, 64, 67, 0.3), 0px 1px 3px 1px rgba(60, 64, 67, 0.15);\n",
              "      fill: #174EA6;\n",
              "    }\n",
              "\n",
              "    [theme=dark] .colab-df-convert {\n",
              "      background-color: #3B4455;\n",
              "      fill: #D2E3FC;\n",
              "    }\n",
              "\n",
              "    [theme=dark] .colab-df-convert:hover {\n",
              "      background-color: #434B5C;\n",
              "      box-shadow: 0px 1px 3px 1px rgba(0, 0, 0, 0.15);\n",
              "      filter: drop-shadow(0px 1px 2px rgba(0, 0, 0, 0.3));\n",
              "      fill: #FFFFFF;\n",
              "    }\n",
              "  </style>\n",
              "\n",
              "      <script>\n",
              "        const buttonEl =\n",
              "          document.querySelector('#df-46242c69-7e4b-463a-af10-89c73e57073a button.colab-df-convert');\n",
              "        buttonEl.style.display =\n",
              "          google.colab.kernel.accessAllowed ? 'block' : 'none';\n",
              "\n",
              "        async function convertToInteractive(key) {\n",
              "          const element = document.querySelector('#df-46242c69-7e4b-463a-af10-89c73e57073a');\n",
              "          const dataTable =\n",
              "            await google.colab.kernel.invokeFunction('convertToInteractive',\n",
              "                                                     [key], {});\n",
              "          if (!dataTable) return;\n",
              "\n",
              "          const docLinkHtml = 'Like what you see? Visit the ' +\n",
              "            '<a target=\"_blank\" href=https://colab.research.google.com/notebooks/data_table.ipynb>data table notebook</a>'\n",
              "            + ' to learn more about interactive tables.';\n",
              "          element.innerHTML = '';\n",
              "          dataTable['output_type'] = 'display_data';\n",
              "          await google.colab.output.renderOutput(dataTable, element);\n",
              "          const docLink = document.createElement('div');\n",
              "          docLink.innerHTML = docLinkHtml;\n",
              "          element.appendChild(docLink);\n",
              "        }\n",
              "      </script>\n",
              "    </div>\n",
              "  </div>\n",
              "  "
            ]
          },
          "metadata": {},
          "execution_count": 7
        }
      ]
    },
    {
      "cell_type": "markdown",
      "source": [
        "Finding all the non Unique description "
      ],
      "metadata": {
        "id": "wE5TbV7_g7zn"
      }
    },
    {
      "cell_type": "code",
      "source": [
        "df['description'].nunique()"
      ],
      "metadata": {
        "id": "x-mKg17fcOxR",
        "colab": {
          "base_uri": "https://localhost:8080/"
        },
        "outputId": "f20839a0-6752-4bc8-85a7-9dc4fa7b7e66"
      },
      "execution_count": 8,
      "outputs": [
        {
          "output_type": "execute_result",
          "data": {
            "text/plain": [
              "119955"
            ]
          },
          "metadata": {},
          "execution_count": 8
        }
      ]
    },
    {
      "cell_type": "code",
      "source": [
        "duplicate = df[df.duplicated('description', keep=False)]"
      ],
      "metadata": {
        "id": "_8xxfEhccOuR"
      },
      "execution_count": 9,
      "outputs": []
    },
    {
      "cell_type": "markdown",
      "source": [
        "Showing the description which is repeated"
      ],
      "metadata": {
        "id": "izYeompshBWS"
      }
    },
    {
      "cell_type": "code",
      "source": [
        "duplicate['description'].value_counts()"
      ],
      "metadata": {
        "id": "_GqwvGg-cOro",
        "colab": {
          "base_uri": "https://localhost:8080/"
        },
        "outputId": "8e26e17b-9278-4f88-b39f-6cf0a6eda068"
      },
      "execution_count": 10,
      "outputs": [
        {
          "output_type": "execute_result",
          "data": {
            "text/plain": [
              "Gravenstein apple, honeysuckle and jasmine aromas show on the relatively boisterous nose of this bottling from a large vineyard on Highway 46 east of Paso Robles. There is compellingly grippy texture to the sip, with ripe flavors of pear and honeydew melon. A salty acidity takes it to the next level.                                                                                                                             3\n",
              "Cigar box, café au lait, and dried tobacco aromas are followed by coffee and cherry flavors, with barrel spices lingering on the finish. The wood gets a bit out front but it still delivers enjoyment.                                                                                                                                                                                                                                   3\n",
              "This zesty red has pretty aromas that suggest small red berry, blue flower and a whiff of moist soil. The vibrant palate offers sour cherry, pomegranate and a hint of anise alongside zesty acidity and refined tannins.                                                                                                                                                                                                                 3\n",
              "Seductively tart in lemon pith, cranberry and pomegranate, this refreshing, light-bodied quaff is infinitely enjoyable, both on its own or at the table. It continues to expand on the palate into an increasing array of fresh flavors, finishing in cherry and orange.                                                                                                                                                                  3\n",
              "Ripe plum, game, truffle, leather and menthol are some of the aromas you'll find on this earthy wine. The tightly wound palate offers dried black cherry, chopped sage, mint and roasted coffee bean alongside raspy tannins that leave a mouth-drying finish.                                                                                                                                                                            3\n",
              "                                                                                                                                                                                                                                                                                                                                                                                                                                         ..\n",
              "Classic varietal smells of chalk and golden raisin emerge from this wine. It's lusciously smooth once sipped, with orange, limestone and vanilla pudding leaning up against bitter greens and just-ripe nectarine. Serve with beets and goat cheese or Chinese chicken salad.                                                                                                                                                             2\n",
              "Zesty lemon and lime aromas add elegance to unctuous white peach and apricot flavors on this delicate, yet remarkably complex wine. Off-dry in style, it balances a youthful fruit profile with nuanced shades of smoke and earth. Nervy citrus acidity drives a long, focused finish.                                                                                                                                                    2\n",
              "Distinctive aromatic qualities mark this afforable bottling, an exclusive for Hawaiian supermarket chain Foodland from the team at Terravant Wine Company in Buellton. The aromas recall chaparral scrub, mint tea and black sage. The herbaceousness continues on the palate, with a sticky tannic structure. Not exactly the wine for those seeking a red fruit experience, but good for those seeking the savory side of the grape.    2\n",
              "This wine shows the riper, spicier side to German Pinot Noir. Lush black cherry and plum flavors are fleshy and dense on the palate, tinged with notes of cassis and bramble. Crisp acidity adds elegance and structure, along with a penetrating layer of finely textured tannins. Drink now for its bold, decadent style.                                                                                                               2\n",
              "This vineyard is at the heart of the fine run of premier crus that lie midway up the slope above the village. This wine is packed with fruit and also with intense acidity and minerality. It is already refreshing and crisp, although as the toastiness develops, it will become even more impressive. Drink from 2017.                                                                                                                 2\n",
              "Name: description, Length: 10010, dtype: int64"
            ]
          },
          "metadata": {},
          "execution_count": 10
        }
      ]
    },
    {
      "cell_type": "markdown",
      "source": [
        "Finding the duplicated values of Description and Variety "
      ],
      "metadata": {
        "id": "MI_Ar2oHkHNn"
      }
    },
    {
      "cell_type": "code",
      "source": [
        "vardescr = df[df.duplicated(['description', 'variety'],keep=False)]"
      ],
      "metadata": {
        "id": "w0lqStdngqtD"
      },
      "execution_count": 11,
      "outputs": []
    },
    {
      "cell_type": "code",
      "source": [
        "duplicate[duplicate[['description', 'variety']].eq(vardescr[['description', 'variety']]).all(axis=1)==False]"
      ],
      "metadata": {
        "colab": {
          "base_uri": "https://localhost:8080/",
          "height": 1000
        },
        "id": "oCMBXhy3hMWp",
        "outputId": "c78019ed-7281-47b2-cedc-99f355dfc925"
      },
      "execution_count": 12,
      "outputs": [
        {
          "output_type": "execute_result",
          "data": {
            "text/plain": [
              "          country                                        description  \\\n",
              "16162       Italy  This opens with subtle aromas of wild flower a...   \n",
              "21810       Italy  Vibrant and spicy, this savory red delivers ar...   \n",
              "26490       Italy  This opens with subtle aromas of wild flower a...   \n",
              "31584       Italy  Vibrant and spicy, this savory red delivers ar...   \n",
              "33110   Argentina  Stalky aromas suggest hay and green herbs, wit...   \n",
              "33463      Greece  Aromas of citrus, melon and orange blossom sta...   \n",
              "36475       Italy  Green bell pepper, red currant and dark spice ...   \n",
              "37160       Italy  The subdued nose eventually reveals black cher...   \n",
              "51315   Australia  In 2009 this single vineyard offering includes...   \n",
              "52601       Italy  This offers aromas and flavors suggesting unri...   \n",
              "59358          US  In 2009 this single vineyard offering includes...   \n",
              "62186       Italy  The subdued nose eventually reveals black cher...   \n",
              "87797       Italy  Green bell pepper, red currant and dark spice ...   \n",
              "93839       Italy  This offers aromas and flavors suggesting unri...   \n",
              "103115         US  The tannins are so fierce on this baby Caberne...   \n",
              "113218         US  Gravenstein apple, honeysuckle and jasmine aro...   \n",
              "118069         US  The tannins are so fierce on this baby Caberne...   \n",
              "124931     Greece  Aromas of citrus, melon and orange blossom sta...   \n",
              "\n",
              "                    designation  points  price            province  \\\n",
              "16162                  Ventidue      93   35.0      Southern Italy   \n",
              "21810              Grotta Rossa      89   14.0   Sicily & Sardinia   \n",
              "26490            Vigne di Sande      87    NaN              Veneto   \n",
              "31584                   Costera      90   18.0   Sicily & Sardinia   \n",
              "33110             Finca La Niña      84   10.0    Mendoza Province   \n",
              "33463                       NaN      88   15.0     Atalanti Valley   \n",
              "36475                       NaN      85    NaN  Northeastern Italy   \n",
              "37160       Marchese Montefusco      85   10.0   Sicily & Sardinia   \n",
              "51315               Noble Baron      90   50.0     South Australia   \n",
              "52601   Vermentino del marchese      85   20.0   Sicily & Sardinia   \n",
              "59358     Horse Heaven Vineyard      90   15.0          Washington   \n",
              "62186               Poggionotte      86   18.0   Sicily & Sardinia   \n",
              "87797                       NaN      90    NaN  Northeastern Italy   \n",
              "93839                       NaN      87    NaN   Sicily & Sardinia   \n",
              "103115                      NaN      95   65.0          California   \n",
              "113218                      NaN      89   24.0          California   \n",
              "118069                      NaN      95   55.0          California   \n",
              "124931                      NaN      89   22.0          Cephalonia   \n",
              "\n",
              "                    region_1         region_2        taster_name  \\\n",
              "16162      Fiano di Avellino              NaN      Kerin O’Keefe   \n",
              "21810   Carignano del Sulcis              NaN      Kerin O’Keefe   \n",
              "26490                  Soave              NaN      Kerin O’Keefe   \n",
              "31584   Cannonau di Sardegna              NaN      Kerin O’Keefe   \n",
              "33110                Mendoza              NaN  Michael Schachner   \n",
              "33463                    NaN              NaN    Susan Kostrzewa   \n",
              "36475                 Collio              NaN      Kerin O’Keefe   \n",
              "37160        Terre Siciliane              NaN      Kerin O’Keefe   \n",
              "51315                Barossa              NaN     Joe Czerwinski   \n",
              "52601                Sicilia              NaN      Kerin O’Keefe   \n",
              "59358     Horse Heaven Hills  Columbia Valley       Paul Gregutt   \n",
              "62186        Terre Siciliane              NaN      Kerin O’Keefe   \n",
              "87797                 Collio              NaN      Kerin O’Keefe   \n",
              "93839        Terre Siciliane              NaN      Kerin O’Keefe   \n",
              "103115       Howell Mountain             Napa                NaN   \n",
              "113218           Paso Robles    Central Coast      Matt Kettmann   \n",
              "118069       Howell Mountain             Napa                NaN   \n",
              "124931                   NaN              NaN    Susan Kostrzewa   \n",
              "\n",
              "       taster_twitter_handle  \\\n",
              "16162           @kerinokeefe   \n",
              "21810           @kerinokeefe   \n",
              "26490           @kerinokeefe   \n",
              "31584           @kerinokeefe   \n",
              "33110            @wineschach   \n",
              "33463          @suskostrzewa   \n",
              "36475           @kerinokeefe   \n",
              "37160           @kerinokeefe   \n",
              "51315                 @JoeCz   \n",
              "52601           @kerinokeefe   \n",
              "59358            @paulgwine    \n",
              "62186           @kerinokeefe   \n",
              "87797           @kerinokeefe   \n",
              "93839           @kerinokeefe   \n",
              "103115                   NaN   \n",
              "113218         @mattkettmann   \n",
              "118069                   NaN   \n",
              "124931         @suskostrzewa   \n",
              "\n",
              "                                                    title             variety  \\\n",
              "16162     Villa Raiano 2014 Ventidue  (Fiano di Avellino)               Fiano   \n",
              "21810   Cantina Santadi 2012 Grotta Rossa  (Carignano ...           Carignano   \n",
              "26490       Villa Canestrari 2016 Vigne di Sande  (Soave)           Garganega   \n",
              "31584       Argiolas 2013 Costera  (Cannonau di Sardegna)           Red Blend   \n",
              "33110   Don Cristobal 1492 2010 Finca La Niña Cabernet...  Cabernet Sauvignon   \n",
              "33463     Hatzimichalis 2015 Chardonnay (Atalanti Valley)          Chardonnay   \n",
              "36475                 Ca'Ronesca 2013 Pinot Nero (Collio)          Pinot Nero   \n",
              "37160   Cantine Ermes 2014 Marchese Montefusco Nero d'...        Nero d'Avola   \n",
              "51315   Château Tanunda 2007 Noble Baron Cabernet Sauv...  Cabernet Sauvignon   \n",
              "52601   Marchesi De Gregorio 2015 Vermentino del march...         White Blend   \n",
              "59358   Chateau Ste. Michelle 2009 Horse Heaven Vineya...     Sauvignon Blanc   \n",
              "62186   Di Giovanna 2013 Poggionotte Red (Terre Sicili...           Red Blend   \n",
              "87797                 Zorzon 2013 Cabernet Franc (Collio)      Cabernet Franc   \n",
              "93839          MandraRossa 2015 Zibibbo (Terre Siciliane)             Zibibbo   \n",
              "103115  La Jota Vineyard 2009 Cabernet Sauvignon (Howe...  Cabernet Sauvignon   \n",
              "113218     Broken Earth 2015 Grenache Blanc (Paso Robles)      Grenache Blanc   \n",
              "118069     La Jota Vineyard 2009 Merlot (Howell Mountain)              Merlot   \n",
              "124931                 Gentilini 2015 Robola (Cephalonia)              Robola   \n",
              "\n",
              "                       winery  \n",
              "16162            Villa Raiano  \n",
              "21810         Cantina Santadi  \n",
              "26490        Villa Canestrari  \n",
              "31584                Argiolas  \n",
              "33110      Don Cristobal 1492  \n",
              "33463           Hatzimichalis  \n",
              "36475              Ca'Ronesca  \n",
              "37160           Cantine Ermes  \n",
              "51315         Château Tanunda  \n",
              "52601    Marchesi De Gregorio  \n",
              "59358   Chateau Ste. Michelle  \n",
              "62186             Di Giovanna  \n",
              "87797                  Zorzon  \n",
              "93839             MandraRossa  \n",
              "103115       La Jota Vineyard  \n",
              "113218           Broken Earth  \n",
              "118069       La Jota Vineyard  \n",
              "124931              Gentilini  "
            ],
            "text/html": [
              "\n",
              "  <div id=\"df-8a8543fe-446a-4baa-acfa-8e6493734894\">\n",
              "    <div class=\"colab-df-container\">\n",
              "      <div>\n",
              "<style scoped>\n",
              "    .dataframe tbody tr th:only-of-type {\n",
              "        vertical-align: middle;\n",
              "    }\n",
              "\n",
              "    .dataframe tbody tr th {\n",
              "        vertical-align: top;\n",
              "    }\n",
              "\n",
              "    .dataframe thead th {\n",
              "        text-align: right;\n",
              "    }\n",
              "</style>\n",
              "<table border=\"1\" class=\"dataframe\">\n",
              "  <thead>\n",
              "    <tr style=\"text-align: right;\">\n",
              "      <th></th>\n",
              "      <th>country</th>\n",
              "      <th>description</th>\n",
              "      <th>designation</th>\n",
              "      <th>points</th>\n",
              "      <th>price</th>\n",
              "      <th>province</th>\n",
              "      <th>region_1</th>\n",
              "      <th>region_2</th>\n",
              "      <th>taster_name</th>\n",
              "      <th>taster_twitter_handle</th>\n",
              "      <th>title</th>\n",
              "      <th>variety</th>\n",
              "      <th>winery</th>\n",
              "    </tr>\n",
              "  </thead>\n",
              "  <tbody>\n",
              "    <tr>\n",
              "      <th>16162</th>\n",
              "      <td>Italy</td>\n",
              "      <td>This opens with subtle aromas of wild flower a...</td>\n",
              "      <td>Ventidue</td>\n",
              "      <td>93</td>\n",
              "      <td>35.0</td>\n",
              "      <td>Southern Italy</td>\n",
              "      <td>Fiano di Avellino</td>\n",
              "      <td>NaN</td>\n",
              "      <td>Kerin O’Keefe</td>\n",
              "      <td>@kerinokeefe</td>\n",
              "      <td>Villa Raiano 2014 Ventidue  (Fiano di Avellino)</td>\n",
              "      <td>Fiano</td>\n",
              "      <td>Villa Raiano</td>\n",
              "    </tr>\n",
              "    <tr>\n",
              "      <th>21810</th>\n",
              "      <td>Italy</td>\n",
              "      <td>Vibrant and spicy, this savory red delivers ar...</td>\n",
              "      <td>Grotta Rossa</td>\n",
              "      <td>89</td>\n",
              "      <td>14.0</td>\n",
              "      <td>Sicily &amp; Sardinia</td>\n",
              "      <td>Carignano del Sulcis</td>\n",
              "      <td>NaN</td>\n",
              "      <td>Kerin O’Keefe</td>\n",
              "      <td>@kerinokeefe</td>\n",
              "      <td>Cantina Santadi 2012 Grotta Rossa  (Carignano ...</td>\n",
              "      <td>Carignano</td>\n",
              "      <td>Cantina Santadi</td>\n",
              "    </tr>\n",
              "    <tr>\n",
              "      <th>26490</th>\n",
              "      <td>Italy</td>\n",
              "      <td>This opens with subtle aromas of wild flower a...</td>\n",
              "      <td>Vigne di Sande</td>\n",
              "      <td>87</td>\n",
              "      <td>NaN</td>\n",
              "      <td>Veneto</td>\n",
              "      <td>Soave</td>\n",
              "      <td>NaN</td>\n",
              "      <td>Kerin O’Keefe</td>\n",
              "      <td>@kerinokeefe</td>\n",
              "      <td>Villa Canestrari 2016 Vigne di Sande  (Soave)</td>\n",
              "      <td>Garganega</td>\n",
              "      <td>Villa Canestrari</td>\n",
              "    </tr>\n",
              "    <tr>\n",
              "      <th>31584</th>\n",
              "      <td>Italy</td>\n",
              "      <td>Vibrant and spicy, this savory red delivers ar...</td>\n",
              "      <td>Costera</td>\n",
              "      <td>90</td>\n",
              "      <td>18.0</td>\n",
              "      <td>Sicily &amp; Sardinia</td>\n",
              "      <td>Cannonau di Sardegna</td>\n",
              "      <td>NaN</td>\n",
              "      <td>Kerin O’Keefe</td>\n",
              "      <td>@kerinokeefe</td>\n",
              "      <td>Argiolas 2013 Costera  (Cannonau di Sardegna)</td>\n",
              "      <td>Red Blend</td>\n",
              "      <td>Argiolas</td>\n",
              "    </tr>\n",
              "    <tr>\n",
              "      <th>33110</th>\n",
              "      <td>Argentina</td>\n",
              "      <td>Stalky aromas suggest hay and green herbs, wit...</td>\n",
              "      <td>Finca La Niña</td>\n",
              "      <td>84</td>\n",
              "      <td>10.0</td>\n",
              "      <td>Mendoza Province</td>\n",
              "      <td>Mendoza</td>\n",
              "      <td>NaN</td>\n",
              "      <td>Michael Schachner</td>\n",
              "      <td>@wineschach</td>\n",
              "      <td>Don Cristobal 1492 2010 Finca La Niña Cabernet...</td>\n",
              "      <td>Cabernet Sauvignon</td>\n",
              "      <td>Don Cristobal 1492</td>\n",
              "    </tr>\n",
              "    <tr>\n",
              "      <th>33463</th>\n",
              "      <td>Greece</td>\n",
              "      <td>Aromas of citrus, melon and orange blossom sta...</td>\n",
              "      <td>NaN</td>\n",
              "      <td>88</td>\n",
              "      <td>15.0</td>\n",
              "      <td>Atalanti Valley</td>\n",
              "      <td>NaN</td>\n",
              "      <td>NaN</td>\n",
              "      <td>Susan Kostrzewa</td>\n",
              "      <td>@suskostrzewa</td>\n",
              "      <td>Hatzimichalis 2015 Chardonnay (Atalanti Valley)</td>\n",
              "      <td>Chardonnay</td>\n",
              "      <td>Hatzimichalis</td>\n",
              "    </tr>\n",
              "    <tr>\n",
              "      <th>36475</th>\n",
              "      <td>Italy</td>\n",
              "      <td>Green bell pepper, red currant and dark spice ...</td>\n",
              "      <td>NaN</td>\n",
              "      <td>85</td>\n",
              "      <td>NaN</td>\n",
              "      <td>Northeastern Italy</td>\n",
              "      <td>Collio</td>\n",
              "      <td>NaN</td>\n",
              "      <td>Kerin O’Keefe</td>\n",
              "      <td>@kerinokeefe</td>\n",
              "      <td>Ca'Ronesca 2013 Pinot Nero (Collio)</td>\n",
              "      <td>Pinot Nero</td>\n",
              "      <td>Ca'Ronesca</td>\n",
              "    </tr>\n",
              "    <tr>\n",
              "      <th>37160</th>\n",
              "      <td>Italy</td>\n",
              "      <td>The subdued nose eventually reveals black cher...</td>\n",
              "      <td>Marchese Montefusco</td>\n",
              "      <td>85</td>\n",
              "      <td>10.0</td>\n",
              "      <td>Sicily &amp; Sardinia</td>\n",
              "      <td>Terre Siciliane</td>\n",
              "      <td>NaN</td>\n",
              "      <td>Kerin O’Keefe</td>\n",
              "      <td>@kerinokeefe</td>\n",
              "      <td>Cantine Ermes 2014 Marchese Montefusco Nero d'...</td>\n",
              "      <td>Nero d'Avola</td>\n",
              "      <td>Cantine Ermes</td>\n",
              "    </tr>\n",
              "    <tr>\n",
              "      <th>51315</th>\n",
              "      <td>Australia</td>\n",
              "      <td>In 2009 this single vineyard offering includes...</td>\n",
              "      <td>Noble Baron</td>\n",
              "      <td>90</td>\n",
              "      <td>50.0</td>\n",
              "      <td>South Australia</td>\n",
              "      <td>Barossa</td>\n",
              "      <td>NaN</td>\n",
              "      <td>Joe Czerwinski</td>\n",
              "      <td>@JoeCz</td>\n",
              "      <td>Château Tanunda 2007 Noble Baron Cabernet Sauv...</td>\n",
              "      <td>Cabernet Sauvignon</td>\n",
              "      <td>Château Tanunda</td>\n",
              "    </tr>\n",
              "    <tr>\n",
              "      <th>52601</th>\n",
              "      <td>Italy</td>\n",
              "      <td>This offers aromas and flavors suggesting unri...</td>\n",
              "      <td>Vermentino del marchese</td>\n",
              "      <td>85</td>\n",
              "      <td>20.0</td>\n",
              "      <td>Sicily &amp; Sardinia</td>\n",
              "      <td>Sicilia</td>\n",
              "      <td>NaN</td>\n",
              "      <td>Kerin O’Keefe</td>\n",
              "      <td>@kerinokeefe</td>\n",
              "      <td>Marchesi De Gregorio 2015 Vermentino del march...</td>\n",
              "      <td>White Blend</td>\n",
              "      <td>Marchesi De Gregorio</td>\n",
              "    </tr>\n",
              "    <tr>\n",
              "      <th>59358</th>\n",
              "      <td>US</td>\n",
              "      <td>In 2009 this single vineyard offering includes...</td>\n",
              "      <td>Horse Heaven Vineyard</td>\n",
              "      <td>90</td>\n",
              "      <td>15.0</td>\n",
              "      <td>Washington</td>\n",
              "      <td>Horse Heaven Hills</td>\n",
              "      <td>Columbia Valley</td>\n",
              "      <td>Paul Gregutt</td>\n",
              "      <td>@paulgwine</td>\n",
              "      <td>Chateau Ste. Michelle 2009 Horse Heaven Vineya...</td>\n",
              "      <td>Sauvignon Blanc</td>\n",
              "      <td>Chateau Ste. Michelle</td>\n",
              "    </tr>\n",
              "    <tr>\n",
              "      <th>62186</th>\n",
              "      <td>Italy</td>\n",
              "      <td>The subdued nose eventually reveals black cher...</td>\n",
              "      <td>Poggionotte</td>\n",
              "      <td>86</td>\n",
              "      <td>18.0</td>\n",
              "      <td>Sicily &amp; Sardinia</td>\n",
              "      <td>Terre Siciliane</td>\n",
              "      <td>NaN</td>\n",
              "      <td>Kerin O’Keefe</td>\n",
              "      <td>@kerinokeefe</td>\n",
              "      <td>Di Giovanna 2013 Poggionotte Red (Terre Sicili...</td>\n",
              "      <td>Red Blend</td>\n",
              "      <td>Di Giovanna</td>\n",
              "    </tr>\n",
              "    <tr>\n",
              "      <th>87797</th>\n",
              "      <td>Italy</td>\n",
              "      <td>Green bell pepper, red currant and dark spice ...</td>\n",
              "      <td>NaN</td>\n",
              "      <td>90</td>\n",
              "      <td>NaN</td>\n",
              "      <td>Northeastern Italy</td>\n",
              "      <td>Collio</td>\n",
              "      <td>NaN</td>\n",
              "      <td>Kerin O’Keefe</td>\n",
              "      <td>@kerinokeefe</td>\n",
              "      <td>Zorzon 2013 Cabernet Franc (Collio)</td>\n",
              "      <td>Cabernet Franc</td>\n",
              "      <td>Zorzon</td>\n",
              "    </tr>\n",
              "    <tr>\n",
              "      <th>93839</th>\n",
              "      <td>Italy</td>\n",
              "      <td>This offers aromas and flavors suggesting unri...</td>\n",
              "      <td>NaN</td>\n",
              "      <td>87</td>\n",
              "      <td>NaN</td>\n",
              "      <td>Sicily &amp; Sardinia</td>\n",
              "      <td>Terre Siciliane</td>\n",
              "      <td>NaN</td>\n",
              "      <td>Kerin O’Keefe</td>\n",
              "      <td>@kerinokeefe</td>\n",
              "      <td>MandraRossa 2015 Zibibbo (Terre Siciliane)</td>\n",
              "      <td>Zibibbo</td>\n",
              "      <td>MandraRossa</td>\n",
              "    </tr>\n",
              "    <tr>\n",
              "      <th>103115</th>\n",
              "      <td>US</td>\n",
              "      <td>The tannins are so fierce on this baby Caberne...</td>\n",
              "      <td>NaN</td>\n",
              "      <td>95</td>\n",
              "      <td>65.0</td>\n",
              "      <td>California</td>\n",
              "      <td>Howell Mountain</td>\n",
              "      <td>Napa</td>\n",
              "      <td>NaN</td>\n",
              "      <td>NaN</td>\n",
              "      <td>La Jota Vineyard 2009 Cabernet Sauvignon (Howe...</td>\n",
              "      <td>Cabernet Sauvignon</td>\n",
              "      <td>La Jota Vineyard</td>\n",
              "    </tr>\n",
              "    <tr>\n",
              "      <th>113218</th>\n",
              "      <td>US</td>\n",
              "      <td>Gravenstein apple, honeysuckle and jasmine aro...</td>\n",
              "      <td>NaN</td>\n",
              "      <td>89</td>\n",
              "      <td>24.0</td>\n",
              "      <td>California</td>\n",
              "      <td>Paso Robles</td>\n",
              "      <td>Central Coast</td>\n",
              "      <td>Matt Kettmann</td>\n",
              "      <td>@mattkettmann</td>\n",
              "      <td>Broken Earth 2015 Grenache Blanc (Paso Robles)</td>\n",
              "      <td>Grenache Blanc</td>\n",
              "      <td>Broken Earth</td>\n",
              "    </tr>\n",
              "    <tr>\n",
              "      <th>118069</th>\n",
              "      <td>US</td>\n",
              "      <td>The tannins are so fierce on this baby Caberne...</td>\n",
              "      <td>NaN</td>\n",
              "      <td>95</td>\n",
              "      <td>55.0</td>\n",
              "      <td>California</td>\n",
              "      <td>Howell Mountain</td>\n",
              "      <td>Napa</td>\n",
              "      <td>NaN</td>\n",
              "      <td>NaN</td>\n",
              "      <td>La Jota Vineyard 2009 Merlot (Howell Mountain)</td>\n",
              "      <td>Merlot</td>\n",
              "      <td>La Jota Vineyard</td>\n",
              "    </tr>\n",
              "    <tr>\n",
              "      <th>124931</th>\n",
              "      <td>Greece</td>\n",
              "      <td>Aromas of citrus, melon and orange blossom sta...</td>\n",
              "      <td>NaN</td>\n",
              "      <td>89</td>\n",
              "      <td>22.0</td>\n",
              "      <td>Cephalonia</td>\n",
              "      <td>NaN</td>\n",
              "      <td>NaN</td>\n",
              "      <td>Susan Kostrzewa</td>\n",
              "      <td>@suskostrzewa</td>\n",
              "      <td>Gentilini 2015 Robola (Cephalonia)</td>\n",
              "      <td>Robola</td>\n",
              "      <td>Gentilini</td>\n",
              "    </tr>\n",
              "  </tbody>\n",
              "</table>\n",
              "</div>\n",
              "      <button class=\"colab-df-convert\" onclick=\"convertToInteractive('df-8a8543fe-446a-4baa-acfa-8e6493734894')\"\n",
              "              title=\"Convert this dataframe to an interactive table.\"\n",
              "              style=\"display:none;\">\n",
              "        \n",
              "  <svg xmlns=\"http://www.w3.org/2000/svg\" height=\"24px\"viewBox=\"0 0 24 24\"\n",
              "       width=\"24px\">\n",
              "    <path d=\"M0 0h24v24H0V0z\" fill=\"none\"/>\n",
              "    <path d=\"M18.56 5.44l.94 2.06.94-2.06 2.06-.94-2.06-.94-.94-2.06-.94 2.06-2.06.94zm-11 1L8.5 8.5l.94-2.06 2.06-.94-2.06-.94L8.5 2.5l-.94 2.06-2.06.94zm10 10l.94 2.06.94-2.06 2.06-.94-2.06-.94-.94-2.06-.94 2.06-2.06.94z\"/><path d=\"M17.41 7.96l-1.37-1.37c-.4-.4-.92-.59-1.43-.59-.52 0-1.04.2-1.43.59L10.3 9.45l-7.72 7.72c-.78.78-.78 2.05 0 2.83L4 21.41c.39.39.9.59 1.41.59.51 0 1.02-.2 1.41-.59l7.78-7.78 2.81-2.81c.8-.78.8-2.07 0-2.86zM5.41 20L4 18.59l7.72-7.72 1.47 1.35L5.41 20z\"/>\n",
              "  </svg>\n",
              "      </button>\n",
              "      \n",
              "  <style>\n",
              "    .colab-df-container {\n",
              "      display:flex;\n",
              "      flex-wrap:wrap;\n",
              "      gap: 12px;\n",
              "    }\n",
              "\n",
              "    .colab-df-convert {\n",
              "      background-color: #E8F0FE;\n",
              "      border: none;\n",
              "      border-radius: 50%;\n",
              "      cursor: pointer;\n",
              "      display: none;\n",
              "      fill: #1967D2;\n",
              "      height: 32px;\n",
              "      padding: 0 0 0 0;\n",
              "      width: 32px;\n",
              "    }\n",
              "\n",
              "    .colab-df-convert:hover {\n",
              "      background-color: #E2EBFA;\n",
              "      box-shadow: 0px 1px 2px rgba(60, 64, 67, 0.3), 0px 1px 3px 1px rgba(60, 64, 67, 0.15);\n",
              "      fill: #174EA6;\n",
              "    }\n",
              "\n",
              "    [theme=dark] .colab-df-convert {\n",
              "      background-color: #3B4455;\n",
              "      fill: #D2E3FC;\n",
              "    }\n",
              "\n",
              "    [theme=dark] .colab-df-convert:hover {\n",
              "      background-color: #434B5C;\n",
              "      box-shadow: 0px 1px 3px 1px rgba(0, 0, 0, 0.15);\n",
              "      filter: drop-shadow(0px 1px 2px rgba(0, 0, 0, 0.3));\n",
              "      fill: #FFFFFF;\n",
              "    }\n",
              "  </style>\n",
              "\n",
              "      <script>\n",
              "        const buttonEl =\n",
              "          document.querySelector('#df-8a8543fe-446a-4baa-acfa-8e6493734894 button.colab-df-convert');\n",
              "        buttonEl.style.display =\n",
              "          google.colab.kernel.accessAllowed ? 'block' : 'none';\n",
              "\n",
              "        async function convertToInteractive(key) {\n",
              "          const element = document.querySelector('#df-8a8543fe-446a-4baa-acfa-8e6493734894');\n",
              "          const dataTable =\n",
              "            await google.colab.kernel.invokeFunction('convertToInteractive',\n",
              "                                                     [key], {});\n",
              "          if (!dataTable) return;\n",
              "\n",
              "          const docLinkHtml = 'Like what you see? Visit the ' +\n",
              "            '<a target=\"_blank\" href=https://colab.research.google.com/notebooks/data_table.ipynb>data table notebook</a>'\n",
              "            + ' to learn more about interactive tables.';\n",
              "          element.innerHTML = '';\n",
              "          dataTable['output_type'] = 'display_data';\n",
              "          await google.colab.output.renderOutput(dataTable, element);\n",
              "          const docLink = document.createElement('div');\n",
              "          docLink.innerHTML = docLinkHtml;\n",
              "          element.appendChild(docLink);\n",
              "        }\n",
              "      </script>\n",
              "    </div>\n",
              "  </div>\n",
              "  "
            ]
          },
          "metadata": {},
          "execution_count": 12
        }
      ]
    },
    {
      "cell_type": "code",
      "source": [
        "df.isna().sum()"
      ],
      "metadata": {
        "colab": {
          "base_uri": "https://localhost:8080/"
        },
        "id": "TEaiJlyfhXXn",
        "outputId": "74dd1b62-1115-44fc-c554-a398a1677cc9"
      },
      "execution_count": 13,
      "outputs": [
        {
          "output_type": "execute_result",
          "data": {
            "text/plain": [
              "country                     63\n",
              "description                  0\n",
              "designation              37465\n",
              "points                       0\n",
              "price                     8996\n",
              "province                    63\n",
              "region_1                 21247\n",
              "region_2                 79460\n",
              "taster_name              26244\n",
              "taster_twitter_handle    31213\n",
              "title                        0\n",
              "variety                      1\n",
              "winery                       0\n",
              "dtype: int64"
            ]
          },
          "metadata": {},
          "execution_count": 13
        }
      ]
    },
    {
      "cell_type": "markdown",
      "source": [
        "Top Varieties"
      ],
      "metadata": {
        "id": "Dh9XicaMkNmD"
      }
    },
    {
      "cell_type": "code",
      "source": [
        "# top 20 varieties\n",
        "top20df = pd.DataFrame(df['variety'].value_counts().head(20))"
      ],
      "metadata": {
        "id": "XPVBjqvvh98X"
      },
      "execution_count": 14,
      "outputs": []
    },
    {
      "cell_type": "markdown",
      "source": [
        "Unbalnced Variety column"
      ],
      "metadata": {
        "id": "PW9wThuEmrw-"
      }
    },
    {
      "cell_type": "code",
      "source": [
        "top20df"
      ],
      "metadata": {
        "colab": {
          "base_uri": "https://localhost:8080/",
          "height": 677
        },
        "id": "uwg-hTsAiS5N",
        "outputId": "f313a8be-9a51-4336-ab16-19d9c6ba852f"
      },
      "execution_count": 15,
      "outputs": [
        {
          "output_type": "execute_result",
          "data": {
            "text/plain": [
              "                          variety\n",
              "Pinot Noir                  13272\n",
              "Chardonnay                  11753\n",
              "Cabernet Sauvignon           9472\n",
              "Red Blend                    8946\n",
              "Bordeaux-style Red Blend     6915\n",
              "Riesling                     5189\n",
              "Sauvignon Blanc              4967\n",
              "Syrah                        4142\n",
              "Rosé                         3564\n",
              "Merlot                       3102\n",
              "Nebbiolo                     2804\n",
              "Zinfandel                    2714\n",
              "Sangiovese                   2707\n",
              "Malbec                       2652\n",
              "Portuguese Red               2466\n",
              "White Blend                  2360\n",
              "Sparkling Blend              2153\n",
              "Tempranillo                  1810\n",
              "Rhône-style Red Blend        1471\n",
              "Pinot Gris                   1455"
            ],
            "text/html": [
              "\n",
              "  <div id=\"df-61bde05f-96f4-4e77-be99-59e13938e5b5\">\n",
              "    <div class=\"colab-df-container\">\n",
              "      <div>\n",
              "<style scoped>\n",
              "    .dataframe tbody tr th:only-of-type {\n",
              "        vertical-align: middle;\n",
              "    }\n",
              "\n",
              "    .dataframe tbody tr th {\n",
              "        vertical-align: top;\n",
              "    }\n",
              "\n",
              "    .dataframe thead th {\n",
              "        text-align: right;\n",
              "    }\n",
              "</style>\n",
              "<table border=\"1\" class=\"dataframe\">\n",
              "  <thead>\n",
              "    <tr style=\"text-align: right;\">\n",
              "      <th></th>\n",
              "      <th>variety</th>\n",
              "    </tr>\n",
              "  </thead>\n",
              "  <tbody>\n",
              "    <tr>\n",
              "      <th>Pinot Noir</th>\n",
              "      <td>13272</td>\n",
              "    </tr>\n",
              "    <tr>\n",
              "      <th>Chardonnay</th>\n",
              "      <td>11753</td>\n",
              "    </tr>\n",
              "    <tr>\n",
              "      <th>Cabernet Sauvignon</th>\n",
              "      <td>9472</td>\n",
              "    </tr>\n",
              "    <tr>\n",
              "      <th>Red Blend</th>\n",
              "      <td>8946</td>\n",
              "    </tr>\n",
              "    <tr>\n",
              "      <th>Bordeaux-style Red Blend</th>\n",
              "      <td>6915</td>\n",
              "    </tr>\n",
              "    <tr>\n",
              "      <th>Riesling</th>\n",
              "      <td>5189</td>\n",
              "    </tr>\n",
              "    <tr>\n",
              "      <th>Sauvignon Blanc</th>\n",
              "      <td>4967</td>\n",
              "    </tr>\n",
              "    <tr>\n",
              "      <th>Syrah</th>\n",
              "      <td>4142</td>\n",
              "    </tr>\n",
              "    <tr>\n",
              "      <th>Rosé</th>\n",
              "      <td>3564</td>\n",
              "    </tr>\n",
              "    <tr>\n",
              "      <th>Merlot</th>\n",
              "      <td>3102</td>\n",
              "    </tr>\n",
              "    <tr>\n",
              "      <th>Nebbiolo</th>\n",
              "      <td>2804</td>\n",
              "    </tr>\n",
              "    <tr>\n",
              "      <th>Zinfandel</th>\n",
              "      <td>2714</td>\n",
              "    </tr>\n",
              "    <tr>\n",
              "      <th>Sangiovese</th>\n",
              "      <td>2707</td>\n",
              "    </tr>\n",
              "    <tr>\n",
              "      <th>Malbec</th>\n",
              "      <td>2652</td>\n",
              "    </tr>\n",
              "    <tr>\n",
              "      <th>Portuguese Red</th>\n",
              "      <td>2466</td>\n",
              "    </tr>\n",
              "    <tr>\n",
              "      <th>White Blend</th>\n",
              "      <td>2360</td>\n",
              "    </tr>\n",
              "    <tr>\n",
              "      <th>Sparkling Blend</th>\n",
              "      <td>2153</td>\n",
              "    </tr>\n",
              "    <tr>\n",
              "      <th>Tempranillo</th>\n",
              "      <td>1810</td>\n",
              "    </tr>\n",
              "    <tr>\n",
              "      <th>Rhône-style Red Blend</th>\n",
              "      <td>1471</td>\n",
              "    </tr>\n",
              "    <tr>\n",
              "      <th>Pinot Gris</th>\n",
              "      <td>1455</td>\n",
              "    </tr>\n",
              "  </tbody>\n",
              "</table>\n",
              "</div>\n",
              "      <button class=\"colab-df-convert\" onclick=\"convertToInteractive('df-61bde05f-96f4-4e77-be99-59e13938e5b5')\"\n",
              "              title=\"Convert this dataframe to an interactive table.\"\n",
              "              style=\"display:none;\">\n",
              "        \n",
              "  <svg xmlns=\"http://www.w3.org/2000/svg\" height=\"24px\"viewBox=\"0 0 24 24\"\n",
              "       width=\"24px\">\n",
              "    <path d=\"M0 0h24v24H0V0z\" fill=\"none\"/>\n",
              "    <path d=\"M18.56 5.44l.94 2.06.94-2.06 2.06-.94-2.06-.94-.94-2.06-.94 2.06-2.06.94zm-11 1L8.5 8.5l.94-2.06 2.06-.94-2.06-.94L8.5 2.5l-.94 2.06-2.06.94zm10 10l.94 2.06.94-2.06 2.06-.94-2.06-.94-.94-2.06-.94 2.06-2.06.94z\"/><path d=\"M17.41 7.96l-1.37-1.37c-.4-.4-.92-.59-1.43-.59-.52 0-1.04.2-1.43.59L10.3 9.45l-7.72 7.72c-.78.78-.78 2.05 0 2.83L4 21.41c.39.39.9.59 1.41.59.51 0 1.02-.2 1.41-.59l7.78-7.78 2.81-2.81c.8-.78.8-2.07 0-2.86zM5.41 20L4 18.59l7.72-7.72 1.47 1.35L5.41 20z\"/>\n",
              "  </svg>\n",
              "      </button>\n",
              "      \n",
              "  <style>\n",
              "    .colab-df-container {\n",
              "      display:flex;\n",
              "      flex-wrap:wrap;\n",
              "      gap: 12px;\n",
              "    }\n",
              "\n",
              "    .colab-df-convert {\n",
              "      background-color: #E8F0FE;\n",
              "      border: none;\n",
              "      border-radius: 50%;\n",
              "      cursor: pointer;\n",
              "      display: none;\n",
              "      fill: #1967D2;\n",
              "      height: 32px;\n",
              "      padding: 0 0 0 0;\n",
              "      width: 32px;\n",
              "    }\n",
              "\n",
              "    .colab-df-convert:hover {\n",
              "      background-color: #E2EBFA;\n",
              "      box-shadow: 0px 1px 2px rgba(60, 64, 67, 0.3), 0px 1px 3px 1px rgba(60, 64, 67, 0.15);\n",
              "      fill: #174EA6;\n",
              "    }\n",
              "\n",
              "    [theme=dark] .colab-df-convert {\n",
              "      background-color: #3B4455;\n",
              "      fill: #D2E3FC;\n",
              "    }\n",
              "\n",
              "    [theme=dark] .colab-df-convert:hover {\n",
              "      background-color: #434B5C;\n",
              "      box-shadow: 0px 1px 3px 1px rgba(0, 0, 0, 0.15);\n",
              "      filter: drop-shadow(0px 1px 2px rgba(0, 0, 0, 0.3));\n",
              "      fill: #FFFFFF;\n",
              "    }\n",
              "  </style>\n",
              "\n",
              "      <script>\n",
              "        const buttonEl =\n",
              "          document.querySelector('#df-61bde05f-96f4-4e77-be99-59e13938e5b5 button.colab-df-convert');\n",
              "        buttonEl.style.display =\n",
              "          google.colab.kernel.accessAllowed ? 'block' : 'none';\n",
              "\n",
              "        async function convertToInteractive(key) {\n",
              "          const element = document.querySelector('#df-61bde05f-96f4-4e77-be99-59e13938e5b5');\n",
              "          const dataTable =\n",
              "            await google.colab.kernel.invokeFunction('convertToInteractive',\n",
              "                                                     [key], {});\n",
              "          if (!dataTable) return;\n",
              "\n",
              "          const docLinkHtml = 'Like what you see? Visit the ' +\n",
              "            '<a target=\"_blank\" href=https://colab.research.google.com/notebooks/data_table.ipynb>data table notebook</a>'\n",
              "            + ' to learn more about interactive tables.';\n",
              "          element.innerHTML = '';\n",
              "          dataTable['output_type'] = 'display_data';\n",
              "          await google.colab.output.renderOutput(dataTable, element);\n",
              "          const docLink = document.createElement('div');\n",
              "          docLink.innerHTML = docLinkHtml;\n",
              "          element.appendChild(docLink);\n",
              "        }\n",
              "      </script>\n",
              "    </div>\n",
              "  </div>\n",
              "  "
            ]
          },
          "metadata": {},
          "execution_count": 15
        }
      ]
    },
    {
      "cell_type": "code",
      "source": [
        "# creating dataframe with the top 20 varieties\n",
        "newdf = df[df['variety'].isin(top20df.index)]"
      ],
      "metadata": {
        "id": "q5HOH6tniT49"
      },
      "execution_count": 16,
      "outputs": []
    },
    {
      "cell_type": "code",
      "source": [
        "# threshold of miniority variety to over sample (use sentences as document instead of the whole description)\n",
        "minority_threshold = 5000 \n",
        "\n",
        "# making a dataframe of the miniority classes\n",
        "minority_df = newdf[newdf['variety'].isin(top20df[top20df <  minority_threshold].dropna().index)]\n",
        "print(minority_df.shape)\n",
        "print(len(minority_df['variety'].unique()))\n",
        "minority_df.head(2)"
      ],
      "metadata": {
        "colab": {
          "base_uri": "https://localhost:8080/",
          "height": 386
        },
        "id": "e12GyLRpiT1X",
        "outputId": "326636f2-b767-442c-b72d-2e0802181d3e"
      },
      "execution_count": 17,
      "outputs": [
        {
          "output_type": "stream",
          "name": "stdout",
          "text": [
            "(38367, 13)\n",
            "14\n"
          ]
        },
        {
          "output_type": "execute_result",
          "data": {
            "text/plain": [
              "    country                                        description   designation  \\\n",
              "0     Italy  Aromas include tropical fruit, broom, brimston...  Vulkà Bianco   \n",
              "1  Portugal  This is ripe and fruity, a wine that is smooth...      Avidagos   \n",
              "\n",
              "   points  price           province region_1 region_2    taster_name  \\\n",
              "0      87    NaN  Sicily & Sardinia     Etna      NaN  Kerin O’Keefe   \n",
              "1      87   15.0              Douro      NaN      NaN     Roger Voss   \n",
              "\n",
              "  taster_twitter_handle                                          title  \\\n",
              "0          @kerinokeefe              Nicosia 2013 Vulkà Bianco  (Etna)   \n",
              "1            @vossroger  Quinta dos Avidagos 2011 Avidagos Red (Douro)   \n",
              "\n",
              "          variety               winery  \n",
              "0     White Blend              Nicosia  \n",
              "1  Portuguese Red  Quinta dos Avidagos  "
            ],
            "text/html": [
              "\n",
              "  <div id=\"df-22ed726e-5fad-47da-9972-651bedda2f11\">\n",
              "    <div class=\"colab-df-container\">\n",
              "      <div>\n",
              "<style scoped>\n",
              "    .dataframe tbody tr th:only-of-type {\n",
              "        vertical-align: middle;\n",
              "    }\n",
              "\n",
              "    .dataframe tbody tr th {\n",
              "        vertical-align: top;\n",
              "    }\n",
              "\n",
              "    .dataframe thead th {\n",
              "        text-align: right;\n",
              "    }\n",
              "</style>\n",
              "<table border=\"1\" class=\"dataframe\">\n",
              "  <thead>\n",
              "    <tr style=\"text-align: right;\">\n",
              "      <th></th>\n",
              "      <th>country</th>\n",
              "      <th>description</th>\n",
              "      <th>designation</th>\n",
              "      <th>points</th>\n",
              "      <th>price</th>\n",
              "      <th>province</th>\n",
              "      <th>region_1</th>\n",
              "      <th>region_2</th>\n",
              "      <th>taster_name</th>\n",
              "      <th>taster_twitter_handle</th>\n",
              "      <th>title</th>\n",
              "      <th>variety</th>\n",
              "      <th>winery</th>\n",
              "    </tr>\n",
              "  </thead>\n",
              "  <tbody>\n",
              "    <tr>\n",
              "      <th>0</th>\n",
              "      <td>Italy</td>\n",
              "      <td>Aromas include tropical fruit, broom, brimston...</td>\n",
              "      <td>Vulkà Bianco</td>\n",
              "      <td>87</td>\n",
              "      <td>NaN</td>\n",
              "      <td>Sicily &amp; Sardinia</td>\n",
              "      <td>Etna</td>\n",
              "      <td>NaN</td>\n",
              "      <td>Kerin O’Keefe</td>\n",
              "      <td>@kerinokeefe</td>\n",
              "      <td>Nicosia 2013 Vulkà Bianco  (Etna)</td>\n",
              "      <td>White Blend</td>\n",
              "      <td>Nicosia</td>\n",
              "    </tr>\n",
              "    <tr>\n",
              "      <th>1</th>\n",
              "      <td>Portugal</td>\n",
              "      <td>This is ripe and fruity, a wine that is smooth...</td>\n",
              "      <td>Avidagos</td>\n",
              "      <td>87</td>\n",
              "      <td>15.0</td>\n",
              "      <td>Douro</td>\n",
              "      <td>NaN</td>\n",
              "      <td>NaN</td>\n",
              "      <td>Roger Voss</td>\n",
              "      <td>@vossroger</td>\n",
              "      <td>Quinta dos Avidagos 2011 Avidagos Red (Douro)</td>\n",
              "      <td>Portuguese Red</td>\n",
              "      <td>Quinta dos Avidagos</td>\n",
              "    </tr>\n",
              "  </tbody>\n",
              "</table>\n",
              "</div>\n",
              "      <button class=\"colab-df-convert\" onclick=\"convertToInteractive('df-22ed726e-5fad-47da-9972-651bedda2f11')\"\n",
              "              title=\"Convert this dataframe to an interactive table.\"\n",
              "              style=\"display:none;\">\n",
              "        \n",
              "  <svg xmlns=\"http://www.w3.org/2000/svg\" height=\"24px\"viewBox=\"0 0 24 24\"\n",
              "       width=\"24px\">\n",
              "    <path d=\"M0 0h24v24H0V0z\" fill=\"none\"/>\n",
              "    <path d=\"M18.56 5.44l.94 2.06.94-2.06 2.06-.94-2.06-.94-.94-2.06-.94 2.06-2.06.94zm-11 1L8.5 8.5l.94-2.06 2.06-.94-2.06-.94L8.5 2.5l-.94 2.06-2.06.94zm10 10l.94 2.06.94-2.06 2.06-.94-2.06-.94-.94-2.06-.94 2.06-2.06.94z\"/><path d=\"M17.41 7.96l-1.37-1.37c-.4-.4-.92-.59-1.43-.59-.52 0-1.04.2-1.43.59L10.3 9.45l-7.72 7.72c-.78.78-.78 2.05 0 2.83L4 21.41c.39.39.9.59 1.41.59.51 0 1.02-.2 1.41-.59l7.78-7.78 2.81-2.81c.8-.78.8-2.07 0-2.86zM5.41 20L4 18.59l7.72-7.72 1.47 1.35L5.41 20z\"/>\n",
              "  </svg>\n",
              "      </button>\n",
              "      \n",
              "  <style>\n",
              "    .colab-df-container {\n",
              "      display:flex;\n",
              "      flex-wrap:wrap;\n",
              "      gap: 12px;\n",
              "    }\n",
              "\n",
              "    .colab-df-convert {\n",
              "      background-color: #E8F0FE;\n",
              "      border: none;\n",
              "      border-radius: 50%;\n",
              "      cursor: pointer;\n",
              "      display: none;\n",
              "      fill: #1967D2;\n",
              "      height: 32px;\n",
              "      padding: 0 0 0 0;\n",
              "      width: 32px;\n",
              "    }\n",
              "\n",
              "    .colab-df-convert:hover {\n",
              "      background-color: #E2EBFA;\n",
              "      box-shadow: 0px 1px 2px rgba(60, 64, 67, 0.3), 0px 1px 3px 1px rgba(60, 64, 67, 0.15);\n",
              "      fill: #174EA6;\n",
              "    }\n",
              "\n",
              "    [theme=dark] .colab-df-convert {\n",
              "      background-color: #3B4455;\n",
              "      fill: #D2E3FC;\n",
              "    }\n",
              "\n",
              "    [theme=dark] .colab-df-convert:hover {\n",
              "      background-color: #434B5C;\n",
              "      box-shadow: 0px 1px 3px 1px rgba(0, 0, 0, 0.15);\n",
              "      filter: drop-shadow(0px 1px 2px rgba(0, 0, 0, 0.3));\n",
              "      fill: #FFFFFF;\n",
              "    }\n",
              "  </style>\n",
              "\n",
              "      <script>\n",
              "        const buttonEl =\n",
              "          document.querySelector('#df-22ed726e-5fad-47da-9972-651bedda2f11 button.colab-df-convert');\n",
              "        buttonEl.style.display =\n",
              "          google.colab.kernel.accessAllowed ? 'block' : 'none';\n",
              "\n",
              "        async function convertToInteractive(key) {\n",
              "          const element = document.querySelector('#df-22ed726e-5fad-47da-9972-651bedda2f11');\n",
              "          const dataTable =\n",
              "            await google.colab.kernel.invokeFunction('convertToInteractive',\n",
              "                                                     [key], {});\n",
              "          if (!dataTable) return;\n",
              "\n",
              "          const docLinkHtml = 'Like what you see? Visit the ' +\n",
              "            '<a target=\"_blank\" href=https://colab.research.google.com/notebooks/data_table.ipynb>data table notebook</a>'\n",
              "            + ' to learn more about interactive tables.';\n",
              "          element.innerHTML = '';\n",
              "          dataTable['output_type'] = 'display_data';\n",
              "          await google.colab.output.renderOutput(dataTable, element);\n",
              "          const docLink = document.createElement('div');\n",
              "          docLink.innerHTML = docLinkHtml;\n",
              "          element.appendChild(docLink);\n",
              "        }\n",
              "      </script>\n",
              "    </div>\n",
              "  </div>\n",
              "  "
            ]
          },
          "metadata": {},
          "execution_count": 17
        }
      ]
    },
    {
      "cell_type": "code",
      "source": [
        "import nltk"
      ],
      "metadata": {
        "id": "KJlL6HOpiTyI"
      },
      "execution_count": 18,
      "outputs": []
    },
    {
      "cell_type": "code",
      "source": [
        "from nltk.tokenize import sent_tokenize # importing useful library"
      ],
      "metadata": {
        "id": "MqkAg-dtiTuc"
      },
      "execution_count": 19,
      "outputs": []
    },
    {
      "cell_type": "code",
      "source": [
        "oversampled_miniority_lst = [] # empty list to store sentences as tokens miniority corpus\n",
        "\n",
        "# creating a function to use sentences as tokens for the miniority classes\n",
        "def over_sample_miniority(row):\n",
        "    doc_list = sent_tokenize(row['description'])\n",
        "    for sent in doc_list:\n",
        "        row['description'] = sent\n",
        "        oversampled_miniority_lst.append(list(row))"
      ],
      "metadata": {
        "id": "3HrUP1CSiTqp"
      },
      "execution_count": 20,
      "outputs": []
    },
    {
      "cell_type": "code",
      "source": [
        "nltk.download('punkt')"
      ],
      "metadata": {
        "colab": {
          "base_uri": "https://localhost:8080/"
        },
        "id": "QjiUhdO6k57j",
        "outputId": "c2fbf898-56f4-4068-8c36-57e69952ebca"
      },
      "execution_count": 21,
      "outputs": [
        {
          "output_type": "stream",
          "name": "stderr",
          "text": [
            "[nltk_data] Downloading package punkt to /root/nltk_data...\n",
            "[nltk_data]   Unzipping tokenizers/punkt.zip.\n"
          ]
        },
        {
          "output_type": "execute_result",
          "data": {
            "text/plain": [
              "True"
            ]
          },
          "metadata": {},
          "execution_count": 21
        }
      ]
    },
    {
      "cell_type": "code",
      "source": [
        "minority_df.apply(over_sample_miniority, axis=1); # over sample the miniority classes"
      ],
      "metadata": {
        "id": "pHjbBSAckme2"
      },
      "execution_count": 22,
      "outputs": []
    },
    {
      "cell_type": "code",
      "source": [
        "oversampled_miniority_lst[:2]"
      ],
      "metadata": {
        "colab": {
          "base_uri": "https://localhost:8080/"
        },
        "id": "XXXahrIfkxg-",
        "outputId": "69d65f24-f4b8-4af1-f218-df6f959346f6"
      },
      "execution_count": 23,
      "outputs": [
        {
          "output_type": "execute_result",
          "data": {
            "text/plain": [
              "[['Italy',\n",
              "  'Aromas include tropical fruit, broom, brimstone and dried herb.',\n",
              "  'Vulkà Bianco',\n",
              "  87,\n",
              "  nan,\n",
              "  'Sicily & Sardinia',\n",
              "  'Etna',\n",
              "  nan,\n",
              "  'Kerin O’Keefe',\n",
              "  '@kerinokeefe',\n",
              "  'Nicosia 2013 Vulkà Bianco  (Etna)',\n",
              "  'White Blend',\n",
              "  'Nicosia'],\n",
              " ['Italy',\n",
              "  \"The palate isn't overly expressive, offering unripened apple, citrus and dried sage alongside brisk acidity.\",\n",
              "  'Vulkà Bianco',\n",
              "  87,\n",
              "  nan,\n",
              "  'Sicily & Sardinia',\n",
              "  'Etna',\n",
              "  nan,\n",
              "  'Kerin O’Keefe',\n",
              "  '@kerinokeefe',\n",
              "  'Nicosia 2013 Vulkà Bianco  (Etna)',\n",
              "  'White Blend',\n",
              "  'Nicosia']]"
            ]
          },
          "metadata": {},
          "execution_count": 23
        }
      ]
    },
    {
      "cell_type": "code",
      "source": [
        "# converts oversampled_miniority_lst to a dataframe\n",
        "oversampled_miniority_df = pd.DataFrame(oversampled_miniority_lst, columns=minority_df.columns)\n",
        "oversampled_miniority_df.head(2)"
      ],
      "metadata": {
        "colab": {
          "base_uri": "https://localhost:8080/",
          "height": 315
        },
        "id": "OpQpD7mukxdY",
        "outputId": "0f9cb078-fe11-4ee7-9760-a7a3409deb4c"
      },
      "execution_count": 24,
      "outputs": [
        {
          "output_type": "execute_result",
          "data": {
            "text/plain": [
              "  country                                        description   designation  \\\n",
              "0   Italy  Aromas include tropical fruit, broom, brimston...  Vulkà Bianco   \n",
              "1   Italy  The palate isn't overly expressive, offering u...  Vulkà Bianco   \n",
              "\n",
              "   points  price           province region_1 region_2    taster_name  \\\n",
              "0      87    NaN  Sicily & Sardinia     Etna      NaN  Kerin O’Keefe   \n",
              "1      87    NaN  Sicily & Sardinia     Etna      NaN  Kerin O’Keefe   \n",
              "\n",
              "  taster_twitter_handle                              title      variety  \\\n",
              "0          @kerinokeefe  Nicosia 2013 Vulkà Bianco  (Etna)  White Blend   \n",
              "1          @kerinokeefe  Nicosia 2013 Vulkà Bianco  (Etna)  White Blend   \n",
              "\n",
              "    winery  \n",
              "0  Nicosia  \n",
              "1  Nicosia  "
            ],
            "text/html": [
              "\n",
              "  <div id=\"df-46b1d541-e29b-4970-9562-3a493a4b8726\">\n",
              "    <div class=\"colab-df-container\">\n",
              "      <div>\n",
              "<style scoped>\n",
              "    .dataframe tbody tr th:only-of-type {\n",
              "        vertical-align: middle;\n",
              "    }\n",
              "\n",
              "    .dataframe tbody tr th {\n",
              "        vertical-align: top;\n",
              "    }\n",
              "\n",
              "    .dataframe thead th {\n",
              "        text-align: right;\n",
              "    }\n",
              "</style>\n",
              "<table border=\"1\" class=\"dataframe\">\n",
              "  <thead>\n",
              "    <tr style=\"text-align: right;\">\n",
              "      <th></th>\n",
              "      <th>country</th>\n",
              "      <th>description</th>\n",
              "      <th>designation</th>\n",
              "      <th>points</th>\n",
              "      <th>price</th>\n",
              "      <th>province</th>\n",
              "      <th>region_1</th>\n",
              "      <th>region_2</th>\n",
              "      <th>taster_name</th>\n",
              "      <th>taster_twitter_handle</th>\n",
              "      <th>title</th>\n",
              "      <th>variety</th>\n",
              "      <th>winery</th>\n",
              "    </tr>\n",
              "  </thead>\n",
              "  <tbody>\n",
              "    <tr>\n",
              "      <th>0</th>\n",
              "      <td>Italy</td>\n",
              "      <td>Aromas include tropical fruit, broom, brimston...</td>\n",
              "      <td>Vulkà Bianco</td>\n",
              "      <td>87</td>\n",
              "      <td>NaN</td>\n",
              "      <td>Sicily &amp; Sardinia</td>\n",
              "      <td>Etna</td>\n",
              "      <td>NaN</td>\n",
              "      <td>Kerin O’Keefe</td>\n",
              "      <td>@kerinokeefe</td>\n",
              "      <td>Nicosia 2013 Vulkà Bianco  (Etna)</td>\n",
              "      <td>White Blend</td>\n",
              "      <td>Nicosia</td>\n",
              "    </tr>\n",
              "    <tr>\n",
              "      <th>1</th>\n",
              "      <td>Italy</td>\n",
              "      <td>The palate isn't overly expressive, offering u...</td>\n",
              "      <td>Vulkà Bianco</td>\n",
              "      <td>87</td>\n",
              "      <td>NaN</td>\n",
              "      <td>Sicily &amp; Sardinia</td>\n",
              "      <td>Etna</td>\n",
              "      <td>NaN</td>\n",
              "      <td>Kerin O’Keefe</td>\n",
              "      <td>@kerinokeefe</td>\n",
              "      <td>Nicosia 2013 Vulkà Bianco  (Etna)</td>\n",
              "      <td>White Blend</td>\n",
              "      <td>Nicosia</td>\n",
              "    </tr>\n",
              "  </tbody>\n",
              "</table>\n",
              "</div>\n",
              "      <button class=\"colab-df-convert\" onclick=\"convertToInteractive('df-46b1d541-e29b-4970-9562-3a493a4b8726')\"\n",
              "              title=\"Convert this dataframe to an interactive table.\"\n",
              "              style=\"display:none;\">\n",
              "        \n",
              "  <svg xmlns=\"http://www.w3.org/2000/svg\" height=\"24px\"viewBox=\"0 0 24 24\"\n",
              "       width=\"24px\">\n",
              "    <path d=\"M0 0h24v24H0V0z\" fill=\"none\"/>\n",
              "    <path d=\"M18.56 5.44l.94 2.06.94-2.06 2.06-.94-2.06-.94-.94-2.06-.94 2.06-2.06.94zm-11 1L8.5 8.5l.94-2.06 2.06-.94-2.06-.94L8.5 2.5l-.94 2.06-2.06.94zm10 10l.94 2.06.94-2.06 2.06-.94-2.06-.94-.94-2.06-.94 2.06-2.06.94z\"/><path d=\"M17.41 7.96l-1.37-1.37c-.4-.4-.92-.59-1.43-.59-.52 0-1.04.2-1.43.59L10.3 9.45l-7.72 7.72c-.78.78-.78 2.05 0 2.83L4 21.41c.39.39.9.59 1.41.59.51 0 1.02-.2 1.41-.59l7.78-7.78 2.81-2.81c.8-.78.8-2.07 0-2.86zM5.41 20L4 18.59l7.72-7.72 1.47 1.35L5.41 20z\"/>\n",
              "  </svg>\n",
              "      </button>\n",
              "      \n",
              "  <style>\n",
              "    .colab-df-container {\n",
              "      display:flex;\n",
              "      flex-wrap:wrap;\n",
              "      gap: 12px;\n",
              "    }\n",
              "\n",
              "    .colab-df-convert {\n",
              "      background-color: #E8F0FE;\n",
              "      border: none;\n",
              "      border-radius: 50%;\n",
              "      cursor: pointer;\n",
              "      display: none;\n",
              "      fill: #1967D2;\n",
              "      height: 32px;\n",
              "      padding: 0 0 0 0;\n",
              "      width: 32px;\n",
              "    }\n",
              "\n",
              "    .colab-df-convert:hover {\n",
              "      background-color: #E2EBFA;\n",
              "      box-shadow: 0px 1px 2px rgba(60, 64, 67, 0.3), 0px 1px 3px 1px rgba(60, 64, 67, 0.15);\n",
              "      fill: #174EA6;\n",
              "    }\n",
              "\n",
              "    [theme=dark] .colab-df-convert {\n",
              "      background-color: #3B4455;\n",
              "      fill: #D2E3FC;\n",
              "    }\n",
              "\n",
              "    [theme=dark] .colab-df-convert:hover {\n",
              "      background-color: #434B5C;\n",
              "      box-shadow: 0px 1px 3px 1px rgba(0, 0, 0, 0.15);\n",
              "      filter: drop-shadow(0px 1px 2px rgba(0, 0, 0, 0.3));\n",
              "      fill: #FFFFFF;\n",
              "    }\n",
              "  </style>\n",
              "\n",
              "      <script>\n",
              "        const buttonEl =\n",
              "          document.querySelector('#df-46b1d541-e29b-4970-9562-3a493a4b8726 button.colab-df-convert');\n",
              "        buttonEl.style.display =\n",
              "          google.colab.kernel.accessAllowed ? 'block' : 'none';\n",
              "\n",
              "        async function convertToInteractive(key) {\n",
              "          const element = document.querySelector('#df-46b1d541-e29b-4970-9562-3a493a4b8726');\n",
              "          const dataTable =\n",
              "            await google.colab.kernel.invokeFunction('convertToInteractive',\n",
              "                                                     [key], {});\n",
              "          if (!dataTable) return;\n",
              "\n",
              "          const docLinkHtml = 'Like what you see? Visit the ' +\n",
              "            '<a target=\"_blank\" href=https://colab.research.google.com/notebooks/data_table.ipynb>data table notebook</a>'\n",
              "            + ' to learn more about interactive tables.';\n",
              "          element.innerHTML = '';\n",
              "          dataTable['output_type'] = 'display_data';\n",
              "          await google.colab.output.renderOutput(dataTable, element);\n",
              "          const docLink = document.createElement('div');\n",
              "          docLink.innerHTML = docLinkHtml;\n",
              "          element.appendChild(docLink);\n",
              "        }\n",
              "      </script>\n",
              "    </div>\n",
              "  </div>\n",
              "  "
            ]
          },
          "metadata": {},
          "execution_count": 24
        }
      ]
    },
    {
      "cell_type": "code",
      "source": [
        "# selecting majority classes as a dataframe to concatenate to oversampled_miniority_lst\n",
        "majority_df = newdf[newdf['variety'].isin(top20df[top20df >= minority_threshold].dropna().index)]\n",
        "\n",
        "# concatenates majority_df to oversampled_miniority_lst\n",
        "balanced_df = pd.concat([majority_df, oversampled_miniority_df]) \n",
        "balanced_df = balanced_df.reset_index().drop('index', axis=1) # resets index\n",
        "print(balanced_df.shape)\n",
        "balanced_df.head(2)"
      ],
      "metadata": {
        "colab": {
          "base_uri": "https://localhost:8080/",
          "height": 420
        },
        "id": "sfGljTZ0kxZm",
        "outputId": "b1308d18-fcda-4f19-84b0-8d0f389ac83c"
      },
      "execution_count": 25,
      "outputs": [
        {
          "output_type": "stream",
          "name": "stdout",
          "text": [
            "(159648, 13)\n"
          ]
        },
        {
          "output_type": "execute_result",
          "data": {
            "text/plain": [
              "  country                                        description  \\\n",
              "0      US  Pineapple rind, lemon pith and orange blossom ...   \n",
              "1      US  Much like the regular bottling from 2012, this...   \n",
              "\n",
              "                          designation  points  price  province  \\\n",
              "0                Reserve Late Harvest      87   13.0  Michigan   \n",
              "1  Vintner's Reserve Wild Child Block      87   65.0    Oregon   \n",
              "\n",
              "              region_1           region_2         taster_name  \\\n",
              "0  Lake Michigan Shore                NaN  Alexander Peartree   \n",
              "1    Willamette Valley  Willamette Valley        Paul Gregutt   \n",
              "\n",
              "  taster_twitter_handle                                              title  \\\n",
              "0                   NaN  St. Julian 2013 Reserve Late Harvest Riesling ...   \n",
              "1           @paulgwine   Sweet Cheeks 2012 Vintner's Reserve Wild Child...   \n",
              "\n",
              "      variety        winery  \n",
              "0    Riesling    St. Julian  \n",
              "1  Pinot Noir  Sweet Cheeks  "
            ],
            "text/html": [
              "\n",
              "  <div id=\"df-e49a745b-8d65-4dff-9e0e-0236adc1e212\">\n",
              "    <div class=\"colab-df-container\">\n",
              "      <div>\n",
              "<style scoped>\n",
              "    .dataframe tbody tr th:only-of-type {\n",
              "        vertical-align: middle;\n",
              "    }\n",
              "\n",
              "    .dataframe tbody tr th {\n",
              "        vertical-align: top;\n",
              "    }\n",
              "\n",
              "    .dataframe thead th {\n",
              "        text-align: right;\n",
              "    }\n",
              "</style>\n",
              "<table border=\"1\" class=\"dataframe\">\n",
              "  <thead>\n",
              "    <tr style=\"text-align: right;\">\n",
              "      <th></th>\n",
              "      <th>country</th>\n",
              "      <th>description</th>\n",
              "      <th>designation</th>\n",
              "      <th>points</th>\n",
              "      <th>price</th>\n",
              "      <th>province</th>\n",
              "      <th>region_1</th>\n",
              "      <th>region_2</th>\n",
              "      <th>taster_name</th>\n",
              "      <th>taster_twitter_handle</th>\n",
              "      <th>title</th>\n",
              "      <th>variety</th>\n",
              "      <th>winery</th>\n",
              "    </tr>\n",
              "  </thead>\n",
              "  <tbody>\n",
              "    <tr>\n",
              "      <th>0</th>\n",
              "      <td>US</td>\n",
              "      <td>Pineapple rind, lemon pith and orange blossom ...</td>\n",
              "      <td>Reserve Late Harvest</td>\n",
              "      <td>87</td>\n",
              "      <td>13.0</td>\n",
              "      <td>Michigan</td>\n",
              "      <td>Lake Michigan Shore</td>\n",
              "      <td>NaN</td>\n",
              "      <td>Alexander Peartree</td>\n",
              "      <td>NaN</td>\n",
              "      <td>St. Julian 2013 Reserve Late Harvest Riesling ...</td>\n",
              "      <td>Riesling</td>\n",
              "      <td>St. Julian</td>\n",
              "    </tr>\n",
              "    <tr>\n",
              "      <th>1</th>\n",
              "      <td>US</td>\n",
              "      <td>Much like the regular bottling from 2012, this...</td>\n",
              "      <td>Vintner's Reserve Wild Child Block</td>\n",
              "      <td>87</td>\n",
              "      <td>65.0</td>\n",
              "      <td>Oregon</td>\n",
              "      <td>Willamette Valley</td>\n",
              "      <td>Willamette Valley</td>\n",
              "      <td>Paul Gregutt</td>\n",
              "      <td>@paulgwine</td>\n",
              "      <td>Sweet Cheeks 2012 Vintner's Reserve Wild Child...</td>\n",
              "      <td>Pinot Noir</td>\n",
              "      <td>Sweet Cheeks</td>\n",
              "    </tr>\n",
              "  </tbody>\n",
              "</table>\n",
              "</div>\n",
              "      <button class=\"colab-df-convert\" onclick=\"convertToInteractive('df-e49a745b-8d65-4dff-9e0e-0236adc1e212')\"\n",
              "              title=\"Convert this dataframe to an interactive table.\"\n",
              "              style=\"display:none;\">\n",
              "        \n",
              "  <svg xmlns=\"http://www.w3.org/2000/svg\" height=\"24px\"viewBox=\"0 0 24 24\"\n",
              "       width=\"24px\">\n",
              "    <path d=\"M0 0h24v24H0V0z\" fill=\"none\"/>\n",
              "    <path d=\"M18.56 5.44l.94 2.06.94-2.06 2.06-.94-2.06-.94-.94-2.06-.94 2.06-2.06.94zm-11 1L8.5 8.5l.94-2.06 2.06-.94-2.06-.94L8.5 2.5l-.94 2.06-2.06.94zm10 10l.94 2.06.94-2.06 2.06-.94-2.06-.94-.94-2.06-.94 2.06-2.06.94z\"/><path d=\"M17.41 7.96l-1.37-1.37c-.4-.4-.92-.59-1.43-.59-.52 0-1.04.2-1.43.59L10.3 9.45l-7.72 7.72c-.78.78-.78 2.05 0 2.83L4 21.41c.39.39.9.59 1.41.59.51 0 1.02-.2 1.41-.59l7.78-7.78 2.81-2.81c.8-.78.8-2.07 0-2.86zM5.41 20L4 18.59l7.72-7.72 1.47 1.35L5.41 20z\"/>\n",
              "  </svg>\n",
              "      </button>\n",
              "      \n",
              "  <style>\n",
              "    .colab-df-container {\n",
              "      display:flex;\n",
              "      flex-wrap:wrap;\n",
              "      gap: 12px;\n",
              "    }\n",
              "\n",
              "    .colab-df-convert {\n",
              "      background-color: #E8F0FE;\n",
              "      border: none;\n",
              "      border-radius: 50%;\n",
              "      cursor: pointer;\n",
              "      display: none;\n",
              "      fill: #1967D2;\n",
              "      height: 32px;\n",
              "      padding: 0 0 0 0;\n",
              "      width: 32px;\n",
              "    }\n",
              "\n",
              "    .colab-df-convert:hover {\n",
              "      background-color: #E2EBFA;\n",
              "      box-shadow: 0px 1px 2px rgba(60, 64, 67, 0.3), 0px 1px 3px 1px rgba(60, 64, 67, 0.15);\n",
              "      fill: #174EA6;\n",
              "    }\n",
              "\n",
              "    [theme=dark] .colab-df-convert {\n",
              "      background-color: #3B4455;\n",
              "      fill: #D2E3FC;\n",
              "    }\n",
              "\n",
              "    [theme=dark] .colab-df-convert:hover {\n",
              "      background-color: #434B5C;\n",
              "      box-shadow: 0px 1px 3px 1px rgba(0, 0, 0, 0.15);\n",
              "      filter: drop-shadow(0px 1px 2px rgba(0, 0, 0, 0.3));\n",
              "      fill: #FFFFFF;\n",
              "    }\n",
              "  </style>\n",
              "\n",
              "      <script>\n",
              "        const buttonEl =\n",
              "          document.querySelector('#df-e49a745b-8d65-4dff-9e0e-0236adc1e212 button.colab-df-convert');\n",
              "        buttonEl.style.display =\n",
              "          google.colab.kernel.accessAllowed ? 'block' : 'none';\n",
              "\n",
              "        async function convertToInteractive(key) {\n",
              "          const element = document.querySelector('#df-e49a745b-8d65-4dff-9e0e-0236adc1e212');\n",
              "          const dataTable =\n",
              "            await google.colab.kernel.invokeFunction('convertToInteractive',\n",
              "                                                     [key], {});\n",
              "          if (!dataTable) return;\n",
              "\n",
              "          const docLinkHtml = 'Like what you see? Visit the ' +\n",
              "            '<a target=\"_blank\" href=https://colab.research.google.com/notebooks/data_table.ipynb>data table notebook</a>'\n",
              "            + ' to learn more about interactive tables.';\n",
              "          element.innerHTML = '';\n",
              "          dataTable['output_type'] = 'display_data';\n",
              "          await google.colab.output.renderOutput(dataTable, element);\n",
              "          const docLink = document.createElement('div');\n",
              "          docLink.innerHTML = docLinkHtml;\n",
              "          element.appendChild(docLink);\n",
              "        }\n",
              "      </script>\n",
              "    </div>\n",
              "  </div>\n",
              "  "
            ]
          },
          "metadata": {},
          "execution_count": 25
        }
      ]
    },
    {
      "cell_type": "code",
      "source": [
        "balanced_df.isna().sum()"
      ],
      "metadata": {
        "colab": {
          "base_uri": "https://localhost:8080/"
        },
        "id": "7knujM9RkxVw",
        "outputId": "4b9cacd8-f20a-46f3-b784-7e2640ed6492"
      },
      "execution_count": 26,
      "outputs": [
        {
          "output_type": "execute_result",
          "data": {
            "text/plain": [
              "country                     69\n",
              "description                  0\n",
              "designation              43512\n",
              "points                       0\n",
              "price                     9325\n",
              "province                    69\n",
              "region_1                 25858\n",
              "region_2                 95561\n",
              "taster_name              30409\n",
              "taster_twitter_handle    35171\n",
              "title                        0\n",
              "variety                      0\n",
              "winery                       0\n",
              "dtype: int64"
            ]
          },
          "metadata": {},
          "execution_count": 26
        }
      ]
    },
    {
      "cell_type": "code",
      "source": [
        "balanced_variety = balanced_df['variety'].value_counts() # gets a Series of the variety count in balanced_df\n",
        "balanced_variety"
      ],
      "metadata": {
        "colab": {
          "base_uri": "https://localhost:8080/"
        },
        "id": "FRXIfps_kxSX",
        "outputId": "8f46a126-1e47-4949-9096-0ac1d1d89d0e"
      },
      "execution_count": 27,
      "outputs": [
        {
          "output_type": "execute_result",
          "data": {
            "text/plain": [
              "Pinot Noir                  13272\n",
              "Sauvignon Blanc             12801\n",
              "Chardonnay                  11753\n",
              "Syrah                       11128\n",
              "Cabernet Sauvignon           9472\n",
              "Rosé                         9207\n",
              "Red Blend                    8946\n",
              "Nebbiolo                     8107\n",
              "Malbec                       8047\n",
              "Merlot                       7874\n",
              "Portuguese Red               7734\n",
              "Sangiovese                   7432\n",
              "Bordeaux-style Red Blend     6915\n",
              "Zinfandel                    6512\n",
              "White Blend                  6034\n",
              "Sparkling Blend              5740\n",
              "Tempranillo                  5552\n",
              "Riesling                     5189\n",
              "Rhône-style Red Blend        3972\n",
              "Pinot Gris                   3961\n",
              "Name: variety, dtype: int64"
            ]
          },
          "metadata": {},
          "execution_count": 27
        }
      ]
    },
    {
      "cell_type": "code",
      "source": [
        "newdf = balanced_df.copy()"
      ],
      "metadata": {
        "id": "cS2QR97IkwTy"
      },
      "execution_count": 28,
      "outputs": []
    },
    {
      "cell_type": "code",
      "source": [
        "newdf.fillna('', inplace=True)"
      ],
      "metadata": {
        "id": "p6owzEeKnLmg"
      },
      "execution_count": 29,
      "outputs": []
    },
    {
      "cell_type": "code",
      "source": [
        "balanced_df['not vintage'] = newdf['country'] + ' ' + newdf['designation'] + ' ' + newdf['province']+ ' ' + newdf['region_1'] + ' ' + newdf['region_2'] + ' ' + newdf['winery']"
      ],
      "metadata": {
        "id": "M10nZCMwnO3o"
      },
      "execution_count": 30,
      "outputs": []
    },
    {
      "cell_type": "code",
      "source": [
        "balanced_df['sentences'] = balanced_df['description'] + ' ' + balanced_df['not vintage']"
      ],
      "metadata": {
        "id": "U0CdYqI-nQB7"
      },
      "execution_count": 31,
      "outputs": []
    },
    {
      "cell_type": "code",
      "source": [
        "balanced_df['sentences'][0]"
      ],
      "metadata": {
        "colab": {
          "base_uri": "https://localhost:8080/",
          "height": 71
        },
        "id": "mgCi66zknP-A",
        "outputId": "0f67848d-3f1c-45f7-d318-a7dbdd838d50"
      },
      "execution_count": 32,
      "outputs": [
        {
          "output_type": "execute_result",
          "data": {
            "text/plain": [
              "'Pineapple rind, lemon pith and orange blossom start off the aromas. The palate is a bit more opulent, with notes of honey-drizzled guava and mango giving way to a slightly astringent, semidry finish. US Reserve Late Harvest Michigan Lake Michigan Shore  St. Julian'"
            ],
            "application/vnd.google.colaboratory.intrinsic+json": {
              "type": "string"
            }
          },
          "metadata": {},
          "execution_count": 32
        }
      ]
    },
    {
      "cell_type": "code",
      "source": [
        "nlp = spacy.load(\"en_core_web_sm\", disable=['tagger', 'parser', 'ner'])\n",
        "spacy_stop_words = spacy.lang.en.STOP_WORDS # getting spacy's stop-words"
      ],
      "metadata": {
        "id": "ALmM-kM1nP6C"
      },
      "execution_count": 33,
      "outputs": []
    },
    {
      "cell_type": "markdown",
      "source": [
        "Extra Stopwords"
      ],
      "metadata": {
        "id": "t-uNiTNDpFVT"
      }
    },
    {
      "cell_type": "code",
      "source": [
        "stopwords = [ \"a\", \"about\", \"above\", \"after\", \"again\", \"against\", \"all\", \"am\", \"an\", \"and\", \"any\", \"are\", \"as\", \"at\", \"be\", \"because\", \"been\", \"before\", \"being\", \"below\", \"between\", \"both\", \"but\", \"by\", \"could\", \"did\", \"do\", \"does\", \"doing\", \"down\", \"during\", \"each\", \"few\", \"for\", \"from\", \"further\", \"had\", \"has\", \"have\", \"having\", \"he\", \"he'd\", \"he'll\", \"he's\", \"her\", \"here\", \"here's\", \"hers\", \"herself\", \"him\", \"himself\", \"his\", \"how\", \"how's\", \"i\", \"i'd\", \"i'll\", \"i'm\", \"i've\", \"if\", \"in\", \"into\", \"is\", \"it\", \"it's\", \"its\", \"itself\", \"let's\", \"me\", \"more\", \"most\", \"my\", \"myself\", \"nor\", \"of\", \"on\", \"once\", \"only\", \"or\", \"other\", \"ought\", \"our\", \"ours\", \"ourselves\", \"out\", \"over\", \"own\", \"same\", \"she\", \"she'd\", \"she'll\", \"she's\", \"should\", \"so\", \"some\", \"such\", \"than\", \"that\", \"that's\", \"the\", \"their\", \"theirs\", \"them\", \"themselves\", \"then\", \"there\", \"there's\", \"these\", \"they\", \"they'd\", \"they'll\", \"they're\", \"they've\", \"this\", \"those\", \"through\", \"to\", \"too\", \"under\", \"until\", \"up\", \"very\", \"was\", \"we\", \"we'd\", \"we'll\", \"we're\", \"we've\", \"were\", \"what\", \"what's\", \"when\", \"when's\", \"where\", \"where's\", \"which\", \"while\", \"who\", \"who's\", \"whom\", \"why\", \"why's\", \"with\", \"would\", \"you\", \"you'd\", \"you'll\", \"you're\", \"you've\", \"your\", \"yours\", \"yourself\", \"yourselves\" ]"
      ],
      "metadata": {
        "id": "DubFCJ2FnP2U"
      },
      "execution_count": 34,
      "outputs": []
    },
    {
      "cell_type": "code",
      "source": [
        "stop_words = list(set(list(spacy_stop_words) + stopwords))"
      ],
      "metadata": {
        "id": "gN0BmK4cnPzD"
      },
      "execution_count": 35,
      "outputs": []
    },
    {
      "cell_type": "code",
      "source": [
        "# lemmatized stopwords\n",
        "stopwords = list({word.lemma_.lower() for word in nlp(' '.join(stop_words))})"
      ],
      "metadata": {
        "colab": {
          "base_uri": "https://localhost:8080/"
        },
        "id": "UHs_S8EupL9C",
        "outputId": "4e83793a-d460-4a33-ed98-b5cc1114736b"
      },
      "execution_count": 36,
      "outputs": [
        {
          "output_type": "stream",
          "name": "stderr",
          "text": [
            "/usr/local/lib/python3.7/dist-packages/spacy/pipeline/lemmatizer.py:211: UserWarning: [W108] The rule-based lemmatizer did not find POS annotation for one or more tokens. Check that your pipeline includes components that assign token.pos, typically 'tagger'+'attribute_ruler' or 'morphologizer'.\n",
            "  warnings.warn(Warnings.W108)\n"
          ]
        }
      ]
    },
    {
      "cell_type": "code",
      "source": [
        "stopwords"
      ],
      "metadata": {
        "colab": {
          "base_uri": "https://localhost:8080/"
        },
        "id": "vl-1nJvLpQxh",
        "outputId": "89d40285-89e1-4efb-aa17-eb933acc270e"
      },
      "execution_count": 37,
      "outputs": [
        {
          "output_type": "execute_result",
          "data": {
            "text/plain": [
              "['amount',\n",
              " 'here',\n",
              " 'beside',\n",
              " 'among',\n",
              " 'about',\n",
              " 'to',\n",
              " 'someone',\n",
              " 'himself',\n",
              " 'yours',\n",
              " 'where',\n",
              " 'up',\n",
              " 'behind',\n",
              " 'as',\n",
              " 'make',\n",
              " 'the',\n",
              " 'except',\n",
              " 'out',\n",
              " 'under',\n",
              " 'already',\n",
              " 'have',\n",
              " 'can',\n",
              " 'for',\n",
              " 'name',\n",
              " 'many',\n",
              " 'either',\n",
              " 'keep',\n",
              " 'having',\n",
              " 'we',\n",
              " 'ourselves',\n",
              " 'nothing',\n",
              " 'put',\n",
              " 'sixty',\n",
              " 'our',\n",
              " 'seemed',\n",
              " 'that',\n",
              " 'upon',\n",
              " 'back',\n",
              " 'six',\n",
              " 'at',\n",
              " 'when',\n",
              " 'give',\n",
              " 'who',\n",
              " 'off',\n",
              " 'any',\n",
              " 'on',\n",
              " 'amongst',\n",
              " 'whose',\n",
              " 'thereafter',\n",
              " 've',\n",
              " 'in',\n",
              " 'seeming',\n",
              " 'down',\n",
              " 'has',\n",
              " 'me',\n",
              " 'mine',\n",
              " 'sometimes',\n",
              " 'than',\n",
              " 'all',\n",
              " 'nine',\n",
              " 'side',\n",
              " 'now',\n",
              " 'above',\n",
              " 'becoming',\n",
              " 'thereby',\n",
              " 'same',\n",
              " 'whence',\n",
              " 'but',\n",
              " 'serious',\n",
              " 'yourself',\n",
              " 'by',\n",
              " 'what',\n",
              " 'must',\n",
              " 'various',\n",
              " 'before',\n",
              " 'thus',\n",
              " 'm',\n",
              " 'll',\n",
              " 'itself',\n",
              " 'again',\n",
              " 'just',\n",
              " 'those',\n",
              " 'something',\n",
              " 'hers',\n",
              " 'hereupon',\n",
              " 'he',\n",
              " 'rather',\n",
              " 'hereby',\n",
              " 'toward',\n",
              " 'afterwards',\n",
              " 'your',\n",
              " 'other',\n",
              " 'over',\n",
              " 'others',\n",
              " \"n't\",\n",
              " 'should',\n",
              " 'towards',\n",
              " 'somehow',\n",
              " 'am',\n",
              " 'however',\n",
              " 'may',\n",
              " 'even',\n",
              " 'during',\n",
              " 'from',\n",
              " 'too',\n",
              " 'besides',\n",
              " 'did',\n",
              " 'us',\n",
              " 'been',\n",
              " 'ten',\n",
              " 'it',\n",
              " 'made',\n",
              " 'thence',\n",
              " 'could',\n",
              " 'often',\n",
              " 'not',\n",
              " 'first',\n",
              " 'be',\n",
              " 'everywhere',\n",
              " 'herein',\n",
              " 'although',\n",
              " 'and',\n",
              " 'sometime',\n",
              " 'this',\n",
              " 'another',\n",
              " 'such',\n",
              " 'forty',\n",
              " \"'m\",\n",
              " 'everyone',\n",
              " 'or',\n",
              " 'full',\n",
              " 'were',\n",
              " 'else',\n",
              " 'seem',\n",
              " 'until',\n",
              " 'thru',\n",
              " 'alone',\n",
              " 'elsewhere',\n",
              " 'ever',\n",
              " 'though',\n",
              " 'unless',\n",
              " '’ll',\n",
              " 'an',\n",
              " 'indeed',\n",
              " 'across',\n",
              " 'few',\n",
              " 'latter',\n",
              " 'very',\n",
              " 'together',\n",
              " 'front',\n",
              " 'used',\n",
              " 'which',\n",
              " 'its',\n",
              " 'somewhere',\n",
              " 'namely',\n",
              " 'noone',\n",
              " 'ought',\n",
              " 'throughout',\n",
              " '’d',\n",
              " 'one',\n",
              " 'eleven',\n",
              " 'both',\n",
              " 'regarding',\n",
              " 'i',\n",
              " 'whenever',\n",
              " 'hundred',\n",
              " 'fifteen',\n",
              " 'him',\n",
              " 'would',\n",
              " 'does',\n",
              " 'let',\n",
              " 'own',\n",
              " 'while',\n",
              " 'whom',\n",
              " 'theirs',\n",
              " 'doing',\n",
              " 'whither',\n",
              " 'yourselves',\n",
              " 'if',\n",
              " 'you',\n",
              " 'become',\n",
              " 'below',\n",
              " 'might',\n",
              " 'less',\n",
              " 'still',\n",
              " 'anyhow',\n",
              " 'with',\n",
              " 'why',\n",
              " 'these',\n",
              " 'top',\n",
              " 'do',\n",
              " 'otherwise',\n",
              " 'latterly',\n",
              " 'onto',\n",
              " 'only',\n",
              " 'therefore',\n",
              " 'move',\n",
              " 'myself',\n",
              " 'whether',\n",
              " 'seems',\n",
              " 'third',\n",
              " 'her',\n",
              " 'each',\n",
              " 'last',\n",
              " 'well',\n",
              " 'since',\n",
              " 'four',\n",
              " \"'\",\n",
              " \"'ve\",\n",
              " 'whoever',\n",
              " '’re',\n",
              " 'twelve',\n",
              " 'of',\n",
              " 'fifty',\n",
              " 'yet',\n",
              " 'part',\n",
              " 'wherein',\n",
              " 'them',\n",
              " 'thereupon',\n",
              " 'whereby',\n",
              " 'every',\n",
              " 'anything',\n",
              " 'meanwhile',\n",
              " 'always',\n",
              " 'really',\n",
              " 'becomes',\n",
              " 'moreover',\n",
              " 'between',\n",
              " 'against',\n",
              " 'whereupon',\n",
              " 'see',\n",
              " '‘',\n",
              " 'please',\n",
              " 'everything',\n",
              " '‘s',\n",
              " 'hence',\n",
              " 'being',\n",
              " 'was',\n",
              " '’s',\n",
              " 'perhaps',\n",
              " 'neither',\n",
              " 'once',\n",
              " 'then',\n",
              " 'quite',\n",
              " 'empty',\n",
              " 'two',\n",
              " 'into',\n",
              " 'next',\n",
              " 'his',\n",
              " 'more',\n",
              " 'twenty',\n",
              " 'after',\n",
              " 'themselves',\n",
              " 'go',\n",
              " 'became',\n",
              " 'so',\n",
              " 'had',\n",
              " 'via',\n",
              " 'beyond',\n",
              " 'my',\n",
              " 'anyone',\n",
              " 'call',\n",
              " 'nobody',\n",
              " 'whereas',\n",
              " 'further',\n",
              " 'whereafter',\n",
              " \"'s\",\n",
              " 'mostly',\n",
              " 'whatever',\n",
              " '’',\n",
              " 'will',\n",
              " 'ours',\n",
              " 'formerly',\n",
              " 'never',\n",
              " 'most',\n",
              " \"'re\",\n",
              " 'through',\n",
              " 'five',\n",
              " 'get',\n",
              " 'enough',\n",
              " 'therein',\n",
              " 'some',\n",
              " 'former',\n",
              " 'they',\n",
              " 'she',\n",
              " 'beforehand',\n",
              " 'several',\n",
              " 'show',\n",
              " 'n’t',\n",
              " 'herself',\n",
              " 'd',\n",
              " 'n‘t',\n",
              " 'hereafter',\n",
              " 'say',\n",
              " 'nor',\n",
              " 'done',\n",
              " 'also',\n",
              " 'whole',\n",
              " 'eight',\n",
              " 're',\n",
              " 'there',\n",
              " 'none',\n",
              " 'least',\n",
              " 'bottom',\n",
              " 'around',\n",
              " 'ca',\n",
              " 'are',\n",
              " 'nowhere',\n",
              " 'a',\n",
              " \"'d\",\n",
              " 'take',\n",
              " 'because',\n",
              " 'nevertheless',\n",
              " 'their',\n",
              " 'within',\n",
              " 'per',\n",
              " 'is',\n",
              " 'wherever',\n",
              " 'without',\n",
              " 'three',\n",
              " 'no',\n",
              " 'much',\n",
              " 'how',\n",
              " 'anyway',\n",
              " 'along',\n",
              " 'almost',\n",
              " 'due',\n",
              " 'anywhere',\n",
              " 'using']"
            ]
          },
          "metadata": {},
          "execution_count": 37
        }
      ]
    },
    {
      "cell_type": "code",
      "source": [
        "# defining tokenzer function to tokenize the lower case lemma of documents in a corpus and \n",
        "# filter out stop-words  \n",
        "def tokenizer_spacy(text):\n",
        "    return [word.lemma_.lower() for word in nlp(text) if word.is_alpha and word.lemma_.lower() not in stopwords]"
      ],
      "metadata": {
        "id": "u4tgiW-2pQtk"
      },
      "execution_count": 38,
      "outputs": []
    },
    {
      "cell_type": "code",
      "source": [
        "from sklearn.preprocessing import LabelEncoder\n",
        "from sklearn.model_selection import train_test_split, StratifiedKFold, RepeatedStratifiedKFold"
      ],
      "metadata": {
        "id": "x5hVbiLGpQqI"
      },
      "execution_count": 39,
      "outputs": []
    },
    {
      "cell_type": "code",
      "source": [
        "sentences = balanced_df['sentences']\n",
        "labels = balanced_df['variety']"
      ],
      "metadata": {
        "id": "k-58pJHZpQmF"
      },
      "execution_count": 40,
      "outputs": []
    },
    {
      "cell_type": "code",
      "source": [
        "# Label encoding\n",
        "encode = LabelEncoder()\n",
        "labels = encode.fit_transform(labels)"
      ],
      "metadata": {
        "id": "IA9xmzXGpQiN"
      },
      "execution_count": 41,
      "outputs": []
    },
    {
      "cell_type": "markdown",
      "source": [
        "Converted Labels to Numerical Values"
      ],
      "metadata": {
        "id": "uy_J2Mn-pvlm"
      }
    },
    {
      "cell_type": "code",
      "source": [
        "labels"
      ],
      "metadata": {
        "colab": {
          "base_uri": "https://localhost:8080/"
        },
        "id": "XE13QW9IpQdr",
        "outputId": "fcc6d3cf-2258-4002-d243-3e4685b1bcd6"
      },
      "execution_count": 42,
      "outputs": [
        {
          "output_type": "execute_result",
          "data": {
            "text/plain": [
              "array([11,  7,  1, ...,  6,  6,  6])"
            ]
          },
          "metadata": {},
          "execution_count": 42
        }
      ]
    },
    {
      "cell_type": "code",
      "source": [
        "embedding_dim = 300\n",
        "max_length = 100\n",
        "trunc_type='post'\n",
        "padding_type='post'\n",
        "oov_tok = \"<OOV>\"\n",
        "\n",
        "senten = []\n",
        "\n",
        "for sentence in sentences:\n",
        "  for word in stopwords:\n",
        "    token = \" \" + word + \" \"\n",
        "    sentence = sentence.lower().replace(token, \" \")\n",
        "    sentence = sentence.replace(\"  \", \" \")\n",
        "    sentence = sentence.replace(\"\\xa0\", \" \")\n",
        "  senten.append(sentence)\n",
        "\n",
        "senten = [word for word in senten if word not in stopwords] # stopword filtering\n",
        "\n"
      ],
      "metadata": {
        "id": "_dgLh4hypQZ0"
      },
      "execution_count": 43,
      "outputs": []
    },
    {
      "cell_type": "code",
      "source": [
        "senten = [' '.join(tokenizer_spacy(doc)) for doc in senten]"
      ],
      "metadata": {
        "id": "8XYWmnBlpPNj"
      },
      "execution_count": 44,
      "outputs": []
    },
    {
      "cell_type": "code",
      "source": [
        "# after filtering\n",
        "senten[0]"
      ],
      "metadata": {
        "colab": {
          "base_uri": "https://localhost:8080/",
          "height": 70
        },
        "id": "NpbMOV9lqF3b",
        "outputId": "7cfcf47b-eb82-459b-f762-3561766aff91"
      },
      "execution_count": 45,
      "outputs": [
        {
          "output_type": "execute_result",
          "data": {
            "text/plain": [
              "'pineapple rind lemon pith orange blossom start aromas palate bit opulent notes honey drizzled guava mango giving way slightly astringent semidry finish reserve late harvest michigan lake michigan shore st julian'"
            ],
            "application/vnd.google.colaboratory.intrinsic+json": {
              "type": "string"
            }
          },
          "metadata": {},
          "execution_count": 45
        }
      ]
    },
    {
      "cell_type": "code",
      "source": [
        "# word tokenizing\n",
        "tokenizer = Tokenizer(oov_token=oov_tok)\n",
        "tokenizer.fit_on_texts(senten)\n",
        "\n",
        "word_index = tokenizer.word_index"
      ],
      "metadata": {
        "id": "G534JPqMqFz0"
      },
      "execution_count": 46,
      "outputs": []
    },
    {
      "cell_type": "code",
      "source": [
        "vocab_size = len(word_index)"
      ],
      "metadata": {
        "id": "y_iEWapDqFvy"
      },
      "execution_count": 47,
      "outputs": []
    },
    {
      "cell_type": "code",
      "source": [
        "# converting texts to numbers\n",
        "training_sequences = tokenizer.texts_to_sequences(senten)\n",
        "training_padded = pad_sequences(training_sequences, maxlen=max_length, padding=padding_type, truncating=trunc_type)"
      ],
      "metadata": {
        "id": "R7cExY4MqFrv"
      },
      "execution_count": 48,
      "outputs": []
    },
    {
      "cell_type": "code",
      "source": [
        "# converting numbers to text, this is for the Word2vec model\n",
        "senten_corpus = tokenizer.sequences_to_texts(training_sequences)\n"
      ],
      "metadata": {
        "id": "jcJysDb8qFmb"
      },
      "execution_count": 49,
      "outputs": []
    },
    {
      "cell_type": "code",
      "source": [
        "# The last 3 sentences\n",
        "senten_corpus[-3:]"
      ],
      "metadata": {
        "colab": {
          "base_uri": "https://localhost:8080/"
        },
        "id": "bZmWKVaPqFhB",
        "outputId": "8ac75edd-a51e-4fe0-c6f7-28fb8710e2aa"
      },
      "execution_count": 50,
      "outputs": [
        {
          "output_type": "execute_result",
          "data": {
            "text/plain": [
              "['weight solid powerful core spice baked apple flavors france alsace alsace domaine marcel deiss',\n",
              " 'structure developing wine needs age france alsace alsace domaine marcel deiss',\n",
              " 'drink france alsace alsace domaine marcel deiss']"
            ]
          },
          "metadata": {},
          "execution_count": 50
        }
      ]
    },
    {
      "cell_type": "code",
      "source": [
        "sent_oversample_corpus = [doc.split() for doc in senten_corpus] # gets corpus as a list of lists\n",
        "\n",
        "sent_oversample_corpus[:2]"
      ],
      "metadata": {
        "colab": {
          "base_uri": "https://localhost:8080/"
        },
        "id": "JJJiBHdIqFcm",
        "outputId": "d378ae63-8903-4680-b030-6c0900c6f8d0"
      },
      "execution_count": 51,
      "outputs": [
        {
          "output_type": "execute_result",
          "data": {
            "text/plain": [
              "[['pineapple',\n",
              "  'rind',\n",
              "  'lemon',\n",
              "  'pith',\n",
              "  'orange',\n",
              "  'blossom',\n",
              "  'start',\n",
              "  'aromas',\n",
              "  'palate',\n",
              "  'bit',\n",
              "  'opulent',\n",
              "  'notes',\n",
              "  'honey',\n",
              "  'drizzled',\n",
              "  'guava',\n",
              "  'mango',\n",
              "  'giving',\n",
              "  'way',\n",
              "  'slightly',\n",
              "  'astringent',\n",
              "  'semidry',\n",
              "  'finish',\n",
              "  'reserve',\n",
              "  'late',\n",
              "  'harvest',\n",
              "  'michigan',\n",
              "  'lake',\n",
              "  'michigan',\n",
              "  'shore',\n",
              "  'st',\n",
              "  'julian'],\n",
              " ['like',\n",
              "  'regular',\n",
              "  'bottling',\n",
              "  'comes',\n",
              "  'rough',\n",
              "  'tannic',\n",
              "  'rustic',\n",
              "  'earthy',\n",
              "  'herbal',\n",
              "  'characteristics',\n",
              "  'nonetheless',\n",
              "  'think',\n",
              "  'pleasantly',\n",
              "  'unfussy',\n",
              "  'country',\n",
              "  'wine',\n",
              "  'good',\n",
              "  'companion',\n",
              "  'hearty',\n",
              "  'winter',\n",
              "  'stew',\n",
              "  'vintner',\n",
              "  'reserve',\n",
              "  'wild',\n",
              "  'child',\n",
              "  'block',\n",
              "  'oregon',\n",
              "  'willamette',\n",
              "  'valley',\n",
              "  'willamette',\n",
              "  'valley',\n",
              "  'sweet',\n",
              "  'cheeks']]"
            ]
          },
          "metadata": {},
          "execution_count": 51
        }
      ]
    },
    {
      "cell_type": "code",
      "source": [
        "# trains sent_oversample_corpus2 on Word2Vec. For sent_oversample_corpus2, min_count of 5 and iter (epoch) of 10 \n",
        "# seems to be the best\n",
        "sent_w2v_model = Word2Vec(sent_oversample_corpus, size=300, min_count=1, iter=10)\n",
        "\n",
        "print(sent_w2v_model) # sumarizes the word2vec"
      ],
      "metadata": {
        "colab": {
          "base_uri": "https://localhost:8080/"
        },
        "id": "RPo-mIk0qlUw",
        "outputId": "9406512c-27c9-4a8d-df31-cb9221c65287"
      },
      "execution_count": 52,
      "outputs": [
        {
          "output_type": "stream",
          "name": "stdout",
          "text": [
            "Word2Vec(vocab=43551, size=300, alpha=0.025)\n"
          ]
        }
      ]
    },
    {
      "cell_type": "code",
      "source": [
        "# just like king - man + woman = queen, we want to prove that portugal - estremadura + ontario = canada\n",
        "print(sent_w2v_model.wv.most_similar(positive=['portugal', 'ontario'], negative=['estremadura']))"
      ],
      "metadata": {
        "colab": {
          "base_uri": "https://localhost:8080/"
        },
        "id": "HK3aGUA9qlQn",
        "outputId": "81b375c8-c6d9-4d0f-81c6-59e10fdcea48"
      },
      "execution_count": 53,
      "outputs": [
        {
          "output_type": "stream",
          "name": "stdout",
          "text": [
            "[('canada', 0.5040909647941589), ('oregon', 0.4164368510246277), ('lickable', 0.40702593326568604), ('germany', 0.3575240671634674), ('austria', 0.34323328733444214), ('mclean', 0.3335692286491394), ('substantial', 0.3324718475341797), ('lip', 0.32250985503196716), ('abondante', 0.3222897946834564), ('completely', 0.3156469166278839)]\n"
          ]
        }
      ]
    },
    {
      "cell_type": "code",
      "source": [],
      "metadata": {
        "id": "mv1lmWdqqlMB"
      },
      "execution_count": 53,
      "outputs": []
    },
    {
      "cell_type": "code",
      "source": [
        "def get_embedding_matrix(model, word_index):\n",
        "    vocab_size = len(word_index) + 1\n",
        "    embedding_dim = model.wv.vector_size\n",
        "    embedding_matrix = np.zeros((vocab_size, embedding_dim))\n",
        "    \n",
        "    for word in model.wv.vocab:\n",
        "        ind = word_index[word]\n",
        "        embedding_matrix[ind] = model[word]\n",
        "        \n",
        "    return embedding_matrix"
      ],
      "metadata": {
        "id": "T_ejAhSFqlH2"
      },
      "execution_count": 54,
      "outputs": []
    },
    {
      "cell_type": "code",
      "source": [
        "embedding_matrix = get_embedding_matrix(sent_w2v_model, word_index)"
      ],
      "metadata": {
        "colab": {
          "base_uri": "https://localhost:8080/"
        },
        "id": "Y66MbEAoqtxm",
        "outputId": "cad3795d-8b55-4092-e80f-9e63d324a9b9"
      },
      "execution_count": 55,
      "outputs": [
        {
          "output_type": "stream",
          "name": "stderr",
          "text": [
            "/usr/local/lib/python3.7/dist-packages/ipykernel_launcher.py:8: DeprecationWarning: Call to deprecated `__getitem__` (Method will be removed in 4.0.0, use self.wv.__getitem__() instead).\n",
            "  \n"
          ]
        }
      ]
    },
    {
      "cell_type": "code",
      "source": [
        "embedding_matrix.shape"
      ],
      "metadata": {
        "colab": {
          "base_uri": "https://localhost:8080/"
        },
        "id": "dLPpTOcbqttG",
        "outputId": "a5d7361a-aae2-4821-ad54-01f0edea1810"
      },
      "execution_count": 56,
      "outputs": [
        {
          "output_type": "execute_result",
          "data": {
            "text/plain": [
              "(43553, 300)"
            ]
          },
          "metadata": {},
          "execution_count": 56
        }
      ]
    },
    {
      "cell_type": "code",
      "source": [
        "def nlp_model():\n",
        "  model = tf.keras.Sequential([\n",
        "    tf.keras.layers.Embedding(vocab_size+1, embedding_dim, input_length=max_length,  mask_zero=True, weights=[embedding_matrix], trainable=False),\n",
        "    tf.keras.layers.Dropout(0.5),\n",
        "    tf.keras.layers.Bidirectional(tf.keras.layers.LSTM(300)),\n",
        "    tf.keras.layers.Dropout(0.5),\n",
        "    tf.keras.layers.Dense(20, activation='softmax')\n",
        "  ])\n",
        "\n",
        "  model.compile(loss='sparse_categorical_crossentropy',optimizer='adam',metrics=['accuracy'])\n",
        "\n",
        "  return model"
      ],
      "metadata": {
        "id": "U6Sb4o_yqto_"
      },
      "execution_count": 57,
      "outputs": []
    },
    {
      "cell_type": "code",
      "source": [
        "model = nlp_model()\n",
        "model.summary()"
      ],
      "metadata": {
        "colab": {
          "base_uri": "https://localhost:8080/"
        },
        "id": "G8sxipVBrMAH",
        "outputId": "037df37e-7deb-495b-93c6-b5ace470eb62"
      },
      "execution_count": 58,
      "outputs": [
        {
          "output_type": "stream",
          "name": "stdout",
          "text": [
            "Model: \"sequential\"\n",
            "_________________________________________________________________\n",
            " Layer (type)                Output Shape              Param #   \n",
            "=================================================================\n",
            " embedding (Embedding)       (None, 100, 300)          13065900  \n",
            "                                                                 \n",
            " dropout (Dropout)           (None, 100, 300)          0         \n",
            "                                                                 \n",
            " bidirectional (Bidirectiona  (None, 600)              1442400   \n",
            " l)                                                              \n",
            "                                                                 \n",
            " dropout_1 (Dropout)         (None, 600)               0         \n",
            "                                                                 \n",
            " dense (Dense)               (None, 20)                12020     \n",
            "                                                                 \n",
            "=================================================================\n",
            "Total params: 14,520,320\n",
            "Trainable params: 1,454,420\n",
            "Non-trainable params: 13,065,900\n",
            "_________________________________________________________________\n"
          ]
        }
      ]
    },
    {
      "cell_type": "code",
      "source": [
        "# creating class weights to reduce class imbalance\n",
        "from sklearn.utils import class_weight\n",
        "class_weights = dict(zip(np.unique(labels), class_weight.compute_class_weight(class_weight ='balanced',\n",
        "                                                 classes = np.unique(labels),\n",
        "                                                 y = labels))) "
      ],
      "metadata": {
        "id": "9iYRcwWGwGmw"
      },
      "execution_count": 59,
      "outputs": []
    },
    {
      "cell_type": "code",
      "source": [
        "training_padded = np.array(training_padded)\n",
        "\n",
        "\n",
        "num_epochs = 20\n",
        "\n",
        "# earlystopping callback\n",
        "early_stopping = tf.keras.callbacks.EarlyStopping(monitor='val_loss',\n",
        "                               patience=5,\n",
        "                               verbose=1,\n",
        "                               min_delta=1e-4)\n",
        "\n",
        "# ReduceLROnPlateau callback\n",
        "lrp = tf.keraslrp = tf.keras.callbacks.ReduceLROnPlateau(monitor='val_loss',\n",
        "                                   factor=0.1,\n",
        "                                   patience=2,\n",
        "                                   cooldown=2,\n",
        "                                   verbose=1)\n",
        "\n",
        "# model training\n",
        "history = model.fit(training_padded, labels, epochs=num_epochs, class_weight=class_weights, \n",
        "                    validation_split=0.25,\n",
        "                    batch_size=128, verbose=1,\n",
        "                    callbacks=[early_stopping, lrp])\n"
      ],
      "metadata": {
        "colab": {
          "base_uri": "https://localhost:8080/"
        },
        "id": "1yaCa8HGrL8L",
        "outputId": "2c0e0226-cbc1-4d1d-8fb4-3942ef55f7bd"
      },
      "execution_count": 60,
      "outputs": [
        {
          "output_type": "stream",
          "name": "stdout",
          "text": [
            "Epoch 1/20\n",
            "936/936 [==============================] - 39s 29ms/step - loss: 0.6988 - accuracy: 0.7701 - val_loss: 0.6745 - val_accuracy: 0.7810 - lr: 0.0010\n",
            "Epoch 2/20\n",
            "936/936 [==============================] - 25s 27ms/step - loss: 0.5020 - accuracy: 0.8288 - val_loss: 0.6544 - val_accuracy: 0.7876 - lr: 0.0010\n",
            "Epoch 3/20\n",
            "936/936 [==============================] - 24s 25ms/step - loss: 0.4478 - accuracy: 0.8463 - val_loss: 0.6429 - val_accuracy: 0.7931 - lr: 0.0010\n",
            "Epoch 4/20\n",
            "936/936 [==============================] - 24s 25ms/step - loss: 0.4158 - accuracy: 0.8541 - val_loss: 0.5998 - val_accuracy: 0.8084 - lr: 0.0010\n",
            "Epoch 5/20\n",
            "936/936 [==============================] - 24s 25ms/step - loss: 0.3905 - accuracy: 0.8633 - val_loss: 0.5780 - val_accuracy: 0.8148 - lr: 0.0010\n",
            "Epoch 6/20\n",
            "936/936 [==============================] - 23s 25ms/step - loss: 0.3702 - accuracy: 0.8685 - val_loss: 0.5847 - val_accuracy: 0.8143 - lr: 0.0010\n",
            "Epoch 7/20\n",
            "935/936 [============================>.] - ETA: 0s - loss: 0.3495 - accuracy: 0.8755\n",
            "Epoch 7: ReduceLROnPlateau reducing learning rate to 0.00010000000474974513.\n",
            "936/936 [==============================] - 23s 25ms/step - loss: 0.3495 - accuracy: 0.8755 - val_loss: 0.5785 - val_accuracy: 0.8180 - lr: 0.0010\n",
            "Epoch 8/20\n",
            "936/936 [==============================] - 24s 26ms/step - loss: 0.3065 - accuracy: 0.8871 - val_loss: 0.5570 - val_accuracy: 0.8236 - lr: 1.0000e-04\n",
            "Epoch 9/20\n",
            "936/936 [==============================] - 23s 25ms/step - loss: 0.2929 - accuracy: 0.8930 - val_loss: 0.5600 - val_accuracy: 0.8236 - lr: 1.0000e-04\n",
            "Epoch 10/20\n",
            "936/936 [==============================] - 23s 25ms/step - loss: 0.2864 - accuracy: 0.8952 - val_loss: 0.5559 - val_accuracy: 0.8250 - lr: 1.0000e-04\n",
            "Epoch 11/20\n",
            "936/936 [==============================] - 23s 25ms/step - loss: 0.2832 - accuracy: 0.8965 - val_loss: 0.5533 - val_accuracy: 0.8262 - lr: 1.0000e-04\n",
            "Epoch 12/20\n",
            "936/936 [==============================] - 23s 25ms/step - loss: 0.2783 - accuracy: 0.8981 - val_loss: 0.5549 - val_accuracy: 0.8261 - lr: 1.0000e-04\n",
            "Epoch 13/20\n",
            "936/936 [==============================] - 24s 26ms/step - loss: 0.2708 - accuracy: 0.9004 - val_loss: 0.5526 - val_accuracy: 0.8273 - lr: 1.0000e-04\n",
            "Epoch 14/20\n",
            "936/936 [==============================] - 23s 25ms/step - loss: 0.2663 - accuracy: 0.9015 - val_loss: 0.5533 - val_accuracy: 0.8280 - lr: 1.0000e-04\n",
            "Epoch 15/20\n",
            "936/936 [==============================] - 23s 25ms/step - loss: 0.2644 - accuracy: 0.9011 - val_loss: 0.5521 - val_accuracy: 0.8282 - lr: 1.0000e-04\n",
            "Epoch 16/20\n",
            "936/936 [==============================] - 23s 25ms/step - loss: 0.2605 - accuracy: 0.9033 - val_loss: 0.5575 - val_accuracy: 0.8279 - lr: 1.0000e-04\n",
            "Epoch 17/20\n",
            "935/936 [============================>.] - ETA: 0s - loss: 0.2545 - accuracy: 0.9048\n",
            "Epoch 17: ReduceLROnPlateau reducing learning rate to 1.0000000474974514e-05.\n",
            "936/936 [==============================] - 23s 25ms/step - loss: 0.2545 - accuracy: 0.9048 - val_loss: 0.5574 - val_accuracy: 0.8278 - lr: 1.0000e-04\n",
            "Epoch 18/20\n",
            "936/936 [==============================] - 24s 26ms/step - loss: 0.2502 - accuracy: 0.9073 - val_loss: 0.5538 - val_accuracy: 0.8291 - lr: 1.0000e-05\n",
            "Epoch 19/20\n",
            "936/936 [==============================] - 23s 25ms/step - loss: 0.2496 - accuracy: 0.9073 - val_loss: 0.5543 - val_accuracy: 0.8288 - lr: 1.0000e-05\n",
            "Epoch 20/20\n",
            "936/936 [==============================] - ETA: 0s - loss: 0.2493 - accuracy: 0.9065\n",
            "Epoch 20: ReduceLROnPlateau reducing learning rate to 1.0000000656873453e-06.\n",
            "936/936 [==============================] - 23s 25ms/step - loss: 0.2493 - accuracy: 0.9065 - val_loss: 0.5542 - val_accuracy: 0.8291 - lr: 1.0000e-05\n",
            "Epoch 20: early stopping\n"
          ]
        }
      ]
    },
    {
      "cell_type": "code",
      "source": [
        "from tensorflow import keras\n",
        "keras.models.save_model(model,'/content/Predict_Variety_Wine.h5')\n"
      ],
      "metadata": {
        "id": "-J2uTu76rL0O"
      },
      "execution_count": 67,
      "outputs": []
    },
    {
      "cell_type": "code",
      "source": [
        "os.getcwd()"
      ],
      "metadata": {
        "colab": {
          "base_uri": "https://localhost:8080/",
          "height": 35
        },
        "id": "4l8VUWsQrQ-I",
        "outputId": "212bbe7f-51b8-4323-882a-684306587593"
      },
      "execution_count": 63,
      "outputs": [
        {
          "output_type": "execute_result",
          "data": {
            "text/plain": [
              "'/content'"
            ],
            "application/vnd.google.colaboratory.intrinsic+json": {
              "type": "string"
            }
          },
          "metadata": {},
          "execution_count": 63
        }
      ]
    },
    {
      "cell_type": "code",
      "source": [
        "def plot_graphs(history, string):\n",
        "  plt.figure(figsize=(12,7))\n",
        "  plt.plot(history.history[string])\n",
        "  plt.plot(history.history['val_'+string])\n",
        "  plt.xlabel(\"Epochs\")\n",
        "  plt.ylabel(string)\n",
        "  plt.legend([string, 'val_'+string])\n",
        "  plt.show()\n",
        "\n",
        "plot_graphs(history, 'accuracy')\n",
        "plot_graphs(history, 'loss')"
      ],
      "metadata": {
        "colab": {
          "base_uri": "https://localhost:8080/",
          "height": 867
        },
        "id": "IgB9LKU-rQ6D",
        "outputId": "380385eb-0f04-4512-822e-d97eaabc6a9a"
      },
      "execution_count": 68,
      "outputs": [
        {
          "output_type": "display_data",
          "data": {
            "text/plain": [
              "<Figure size 864x504 with 1 Axes>"
            ],
            "image/png": "[encoded data removed]"
          },
          "metadata": {
            "needs_background": "light"
          }
        },
        {
          "output_type": "display_data",
          "data": {
            "text/plain": [
              "<Figure size 864x504 with 1 Axes>"
            ],
            "image/png": "[encoded data removed]"
          },
          "metadata": {
            "needs_background": "light"
          }
        }
      ]
    },
    {
      "cell_type": "code",
      "source": [
        "# train-test split\n",
        "X_train, X_test, y_train, y_test = train_test_split(training_padded, labels, test_size=0.25, random_state=1)"
      ],
      "metadata": {
        "id": "H45qTeeKrQ1F"
      },
      "execution_count": 69,
      "outputs": []
    },
    {
      "cell_type": "code",
      "source": [
        "y_predtrain = model.predict(X_train)\n",
        "y_predtest = model.predict(X_test)\n",
        "print(y_predtest)"
      ],
      "metadata": {
        "colab": {
          "base_uri": "https://localhost:8080/"
        },
        "id": "xMYKHML7rQv_",
        "outputId": "cdb0f031-da35-4080-9ba3-04812ddeb4ea"
      },
      "execution_count": 73,
      "outputs": [
        {
          "output_type": "stream",
          "name": "stdout",
          "text": [
            "[[3.0563762e-05 3.3725246e-03 1.9330464e-05 ... 6.5599002e-02\n",
            "  2.1498225e-05 7.0511880e-03]\n",
            " [6.2125863e-13 2.1895505e-13 2.6871897e-13 ... 4.7396744e-09\n",
            "  8.8240158e-11 5.4697569e-11]\n",
            " [8.7586303e-09 3.2102989e-09 2.4360897e-06 ... 4.1554522e-06\n",
            "  9.9792898e-01 1.3130166e-08]\n",
            " ...\n",
            " [5.5200299e-08 3.6644582e-05 7.6237669e-08 ... 1.2043713e-04\n",
            "  6.4900824e-08 9.9640346e-01]\n",
            " [5.6080971e-08 1.1067890e-06 9.1389381e-08 ... 4.1011958e-06\n",
            "  2.4073865e-06 2.4375433e-05]\n",
            " [2.2360273e-05 4.5661829e-05 3.9835863e-06 ... 4.9672625e-04\n",
            "  4.0882488e-04 4.8380037e-04]]\n"
          ]
        }
      ]
    },
    {
      "cell_type": "code",
      "source": [
        "from sklearn.metrics import f1_score"
      ],
      "metadata": {
        "id": "iBQ7on75v8FT"
      },
      "execution_count": 78,
      "outputs": []
    },
    {
      "cell_type": "code",
      "source": [
        "y_predtest = [np.argmax(i) for i in y_predtest]"
      ],
      "metadata": {
        "id": "DYL_dA23v_Tv"
      },
      "execution_count": 80,
      "outputs": []
    },
    {
      "cell_type": "code",
      "source": [
        "print('Testing F1 score: {:.4f}'.format(f1_score(y_test, y_predtest, average='weighted')))"
      ],
      "metadata": {
        "colab": {
          "base_uri": "https://localhost:8080/"
        },
        "id": "lGnNHpDXv_P5",
        "outputId": "d531a696-8a47-4ff0-9be9-3c9b8fceb5fa"
      },
      "execution_count": 82,
      "outputs": [
        {
          "output_type": "stream",
          "name": "stdout",
          "text": [
            "Testing F1 score: 0.9122\n"
          ]
        }
      ]
    },
    {
      "cell_type": "code",
      "source": [],
      "metadata": {
        "id": "rI-29naHv_Lh"
      },
      "execution_count": null,
      "outputs": []
    },
    {
      "cell_type": "code",
      "source": [],
      "metadata": {
        "id": "NsXuY1gmv_GS"
      },
      "execution_count": null,
      "outputs": []
    }
  ]
}