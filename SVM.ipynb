{
  "nbformat": 4,
  "nbformat_minor": 0,
  "metadata": {
    "colab": {
      "name": "SVM",
      "provenance": [],
      "collapsed_sections": []
    },
    "kernelspec": {
      "name": "python3",
      "display_name": "Python 3"
    },
    "language_info": {
      "name": "python"
    }
  },
  "cells": [
    {
      "cell_type": "code",
      "execution_count": 14,
      "metadata": {
        "id": "fLNRCLDqc_Yp"
      },
      "outputs": [],
      "source": [
        "from sklearn.model_selection import train_test_split\n",
        "from sklearn.datasets import make_blobs\n",
        "import numpy as np"
      ]
    },
    {
      "cell_type": "code",
      "source": [
        "class SVM:\n",
        "    def __init__(self, learning_rate=1e-3, lambda_param=1e-2, n_iters=1000):\n",
        "        self.lr = learning_rate\n",
        "        self.lambda_param = lambda_param\n",
        "        self.n_iters = n_iters\n",
        "        self.w = None\n",
        "        self.b = None\n",
        "\n",
        "    def _init_weights_bias(self, X):\n",
        "        n_features = X.shape[1]\n",
        "        self.w = np.zeros(n_features)\n",
        "        self.b = 0\n",
        "\n",
        "    def _get_cls_map(self, y):\n",
        "        #np.where() is used as like if condition where the first -1 if it is true and 1 if false\n",
        "        return np.where(y <= 0, -1, 1)\n",
        "\n",
        "    def _satisfy_constraint(self, x, idx):\n",
        "        linear_model = np.dot(x, self.w) + self.b \n",
        "        return self.cls_map[idx] * linear_model >= 1\n",
        "    \n",
        "    def _get_gradients(self, constrain, x, idx):\n",
        "        # if data point lies on the correct side\n",
        "        if constrain:\n",
        "            dw = self.lambda_param * self.w\n",
        "            db = 0\n",
        "            return dw, db\n",
        "        # if data point is on the wrong side\n",
        "        dw = self.lambda_param * self.w - np.dot(self.cls_map[idx], x)\n",
        "        db = - self.cls_map[idx]\n",
        "        return dw, db\n",
        "    \n",
        "    def _update_weights_bias(self, dw, db):\n",
        "        self.w -= self.lr * dw\n",
        "        self.b -= self.lr * db\n",
        "    \n",
        "    def fit(self, X, y):\n",
        "        self._init_weights_bias(X)\n",
        "        # map binary class to {-1, 1}\n",
        "        self.cls_map = self._get_cls_map(y)\n",
        "\n",
        "        for _ in range(self.n_iters):\n",
        "            for idx, x in enumerate(X):\n",
        "                # check if data point satisfies the constraint\n",
        "                constrain = self._satisfy_constraint(x, idx)\n",
        "                # compute the gradients accordingly\n",
        "                dw, db = self._get_gradients(constrain, x, idx)\n",
        "                # update weights & biases\n",
        "                self._update_weights_bias(dw, db)\n",
        "    \n",
        "    def predict(self, X):\n",
        "        estimate = np.dot(X, self.w) + self.b\n",
        "        # compute the sign\n",
        "        prediction = np.sign(estimate)\n",
        "        return np.where(prediction == -1, 0, 1)"
      ],
      "metadata": {
        "id": "wVZMkFj7dJcH"
      },
      "execution_count": 35,
      "outputs": []
    },
    {
      "cell_type": "code",
      "source": [
        "X, y = make_blobs(\n",
        "    n_samples=250, n_features=2, centers=2, cluster_std=1.05, random_state=1\n",
        ")\n",
        "\n",
        "X_train, X_test, y_train, y_test = train_test_split(X, y, test_size=0.1, shuffle=True, random_state=1)\n",
        "\n",
        "clf = SVM(n_iters=1000)\n",
        "clf.fit(X_train, y_train)\n",
        "predictions = clf.predict(X_test)\n",
        "\n",
        "def accuracy(y_true, y_pred):\n",
        "    accuracy = np.sum(y_true==y_pred) / len(y_true)\n",
        "    return accuracy\n",
        "\n",
        "print(\"SVM Accuracy: \", accuracy(y_test, predictions))"
      ],
      "metadata": {
        "colab": {
          "base_uri": "https://localhost:8080/"
        },
        "id": "3POwkxmnd2iy",
        "outputId": "48e33b0c-af31-48f5-aee6-e3dbc6f94172"
      },
      "execution_count": 36,
      "outputs": [
        {
          "output_type": "stream",
          "name": "stdout",
          "text": [
            "SVM Accuracy:  1.0\n"
          ]
        }
      ]
    },
    {
      "cell_type": "code",
      "source": [
        ""
      ],
      "metadata": {
        "id": "unS2oOxteane"
      },
      "execution_count": null,
      "outputs": []
    }
  ]
}