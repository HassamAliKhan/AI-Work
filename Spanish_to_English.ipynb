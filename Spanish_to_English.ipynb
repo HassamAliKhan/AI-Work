{
  "cells": [
    {
      "cell_type": "code",
      "execution_count": null,
      "metadata": {
        "colab": {
          "base_uri": "https://localhost:8080/"
        },
        "id": "8-L14NMTcJjV",
        "outputId": "2cf0c713-c6c5-4312-c8fb-58378dfd5520"
      },
      "outputs": [
        {
          "output_type": "stream",
          "name": "stdout",
          "text": [
            "'/content/drive/MyDrive/spa-eng.zip' -> '/content/spa-eng.zip'\n"
          ]
        }
      ],
      "source": [
        "!cp -av /content/drive/MyDrive/spa-eng.zip /content/"
      ]
    },
    {
      "cell_type": "code",
      "execution_count": null,
      "metadata": {
        "colab": {
          "base_uri": "https://localhost:8080/"
        },
        "id": "Bi0ge8YjcxGV",
        "outputId": "49a92b76-df61-4e07-cb0b-eeee9f07b5f6"
      },
      "outputs": [
        {
          "output_type": "stream",
          "name": "stdout",
          "text": [
            "Archive:  /content/spa-eng.zip\n",
            "  inflating: _about.txt              \n",
            "  inflating: spa.txt                 \n"
          ]
        }
      ],
      "source": [
        "!unzip /content/spa-eng.zip"
      ]
    },
    {
      "cell_type": "markdown",
      "metadata": {
        "id": "qZGEaHAjfr5R"
      },
      "source": [
        "Import Library"
      ]
    },
    {
      "cell_type": "code",
      "execution_count": null,
      "metadata": {
        "id": "nnzxcrDEc0hI"
      },
      "outputs": [],
      "source": [
        "import string\n",
        "import re\n",
        "from numpy import array, argmax, random, take\n",
        "import pandas as pd\n",
        "import numpy\n",
        "from keras.models import Sequential\n",
        "from keras.layers import Dense, LSTM, Embedding, RepeatVector,Dropout\n",
        "from keras.preprocessing.text import Tokenizer\n",
        "from keras.callbacks import ModelCheckpoint\n",
        "from keras_preprocessing.sequence import pad_sequences\n",
        "from keras.models import load_model\n",
        "from keras import optimizers\n",
        "import matplotlib.pyplot as plt\n",
        "%matplotlib inline\n",
        "pd.set_option('display.max_colwidth', 200)"
      ]
    },
    {
      "cell_type": "markdown",
      "metadata": {
        "id": "2TfEAGnGfxUS"
      },
      "source": [
        "Read Data"
      ]
    },
    {
      "cell_type": "code",
      "execution_count": null,
      "metadata": {
        "id": "NYtMZRaWdU29"
      },
      "outputs": [],
      "source": [
        "# function to read raw text file\n",
        "def read_text(filename):\n",
        "    # open the file\n",
        "    file = open(filename, mode='rt', encoding='utf-8')\n",
        "    # read all text\n",
        "    text = file.read()\n",
        "    file.close()\n",
        "    return text"
      ]
    },
    {
      "cell_type": "code",
      "execution_count": null,
      "metadata": {
        "id": "ddDIR1Qxedkg"
      },
      "outputs": [],
      "source": [
        "# split a text into sentences\n",
        "def to_lines(text):\n",
        "    sents = text.strip().split('\\n')\n",
        "    sents = [i.split('\\t') for i in sents]\n",
        "    return sents"
      ]
    },
    {
      "cell_type": "code",
      "execution_count": null,
      "metadata": {
        "id": "kyoXra44egek"
      },
      "outputs": [],
      "source": [
        "data = read_text(\"spa.txt\")\n",
        "spa_eng = to_lines(data)\n",
        "spa_eng = array(spa_eng)"
      ]
    },
    {
      "cell_type": "markdown",
      "metadata": {
        "id": "51HgpHegfVCy"
      },
      "source": [
        "English:"
      ]
    },
    {
      "cell_type": "code",
      "execution_count": null,
      "metadata": {
        "colab": {
          "base_uri": "https://localhost:8080/"
        },
        "id": "yziEtg6Oek1F",
        "outputId": "810edcf3-7d66-46d1-bab5-a26fde3037e3"
      },
      "outputs": [
        {
          "output_type": "stream",
          "name": "stdout",
          "text": [
            "['Go.' 'Go.' 'Go.' ...\n",
            " 'If you want to sound like a native speaker, you must be willing to practice saying the same sentence over and over in the same way that banjo players practice the same phrase over and over until they can play it correctly and at the desired tempo.'\n",
            " 'It may be impossible to get a completely error-free corpus due to the nature of this kind of collaborative effort. However, if we encourage members to contribute sentences in their own languages rather than experiment in languages they are learning, we might be able to minimize errors.'\n",
            " \"One day, I woke up to find that God had put hair on my face. I shaved it off. The next day, I found that God had put it back on my face, so I shaved it off again. On the third day, when I found that God had put hair back on my face again, I decided to let God have his way. That's why I have a beard.\"]\n"
          ]
        }
      ],
      "source": [
        "print(spa_eng[:,0])"
      ]
    },
    {
      "cell_type": "markdown",
      "metadata": {
        "id": "FDKONps5fXCC"
      },
      "source": [
        "Spanish:"
      ]
    },
    {
      "cell_type": "code",
      "execution_count": null,
      "metadata": {
        "colab": {
          "base_uri": "https://localhost:8080/"
        },
        "id": "EngAEzB5ex8s",
        "outputId": "74c2edfc-03e5-45a4-f90b-05e69170a2a1"
      },
      "outputs": [
        {
          "output_type": "stream",
          "name": "stdout",
          "text": [
            "['Ve.' 'Vete.' 'Vaya.' ...\n",
            " 'Si quieres sonar como un hablante nativo, debes estar dispuesto a practicar diciendo la misma frase una y otra vez de la misma manera en que un músico de banjo practica el mismo fraseo una y otra vez hasta que lo puedan tocar correctamente y en el tiempo esperado.'\n",
            " 'Puede que sea imposible obtener un corpus completamente libre de errores debido a la naturaleza de este tipo de esfuerzo de colaboración. Sin embargo, si animamos a los miembros a contribuir frases en sus propios idiomas en lugar de experimentar con los idiomas que están aprendiendo, podríamos ser capaces de minimizar los errores.'\n",
            " 'Un día, me desperté y vi que Dios me había puesto pelo en la cara. Me lo afeité. Al día siguiente, vi que Dios me lo había vuelto a poner en la cara, así que me lo afeité otra vez. Al tercer día, cuando vi que Dios me había puesto pelo en la cara de nuevo, decidí que Dios se saliera con la suya. Por eso tengo barba.']\n"
          ]
        }
      ],
      "source": [
        "print(spa_eng[:,1])"
      ]
    },
    {
      "cell_type": "markdown",
      "metadata": {
        "id": "oBsRGn-0f0Bw"
      },
      "source": [
        "Text Preprocessing:"
      ]
    },
    {
      "cell_type": "code",
      "execution_count": null,
      "metadata": {
        "id": "WmZ2SPkhfaXQ"
      },
      "outputs": [],
      "source": [
        "# Remove punctuation\n",
        "spa_eng[:,0] = [s.translate(str.maketrans('', '', string.punctuation)) for s in spa_eng[:,0]]\n",
        "spa_eng[:,1] = [s.translate(str.maketrans('', '', string.punctuation)) for s in spa_eng[:,1]]"
      ]
    },
    {
      "cell_type": "code",
      "execution_count": null,
      "metadata": {
        "id": "g5CR0kjlf3QW"
      },
      "outputs": [],
      "source": [
        "spa_eng[:,0]=spa_eng[:,0]\n",
        "spa_eng[:,1]=spa_eng[:,1]"
      ]
    },
    {
      "cell_type": "code",
      "execution_count": null,
      "metadata": {
        "colab": {
          "base_uri": "https://localhost:8080/"
        },
        "id": "i-vWqv7Jf86Z",
        "outputId": "bc85ae4f-2578-4310-a95d-ad8b45ab3d64"
      },
      "outputs": [
        {
          "output_type": "stream",
          "name": "stdout",
          "text": [
            "CC-BY 2.0 (France) Attribution: tatoeba.org #2877272 (CM) & #4986655 (cueyayotl)\n"
          ]
        }
      ],
      "source": [
        "print(spa_eng[0,2])"
      ]
    },
    {
      "cell_type": "code",
      "execution_count": null,
      "metadata": {
        "id": "9BQXwvR0gLWo"
      },
      "outputs": [],
      "source": [
        "spa_eng=numpy.delete(spa_eng,2,axis=1)"
      ]
    },
    {
      "cell_type": "code",
      "execution_count": null,
      "metadata": {
        "colab": {
          "base_uri": "https://localhost:8080/"
        },
        "id": "4wPS006lg4bx",
        "outputId": "ca71f4fd-9c78-4be7-9026-d2e22814fd42"
      },
      "outputs": [
        {
          "output_type": "execute_result",
          "data": {
            "text/plain": [
              "array([['Go', 'Ve'],\n",
              "       ['Go', 'Vete'],\n",
              "       ['Go', 'Vaya'],\n",
              "       ...,\n",
              "       ['If you want to sound like a native speaker you must be willing to practice saying the same sentence over and over in the same way that banjo players practice the same phrase over and over until they can play it correctly and at the desired tempo',\n",
              "        'Si quieres sonar como un hablante nativo debes estar dispuesto a practicar diciendo la misma frase una y otra vez de la misma manera en que un músico de banjo practica el mismo fraseo una y otra vez hasta que lo puedan tocar correctamente y en el tiempo esperado'],\n",
              "       ['It may be impossible to get a completely errorfree corpus due to the nature of this kind of collaborative effort However if we encourage members to contribute sentences in their own languages rather than experiment in languages they are learning we might be able to minimize errors',\n",
              "        'Puede que sea imposible obtener un corpus completamente libre de errores debido a la naturaleza de este tipo de esfuerzo de colaboración Sin embargo si animamos a los miembros a contribuir frases en sus propios idiomas en lugar de experimentar con los idiomas que están aprendiendo podríamos ser capaces de minimizar los errores'],\n",
              "       ['One day I woke up to find that God had put hair on my face I shaved it off The next day I found that God had put it back on my face so I shaved it off again On the third day when I found that God had put hair back on my face again I decided to let God have his way Thats why I have a beard',\n",
              "        'Un día me desperté y vi que Dios me había puesto pelo en la cara Me lo afeité Al día siguiente vi que Dios me lo había vuelto a poner en la cara así que me lo afeité otra vez Al tercer día cuando vi que Dios me había puesto pelo en la cara de nuevo decidí que Dios se saliera con la suya Por eso tengo barba']],\n",
              "      dtype='<U332')"
            ]
          },
          "metadata": {},
          "execution_count": 11
        }
      ],
      "source": [
        "spa_eng"
      ]
    },
    {
      "cell_type": "code",
      "execution_count": null,
      "metadata": {
        "id": "usedPJ8YhG_m"
      },
      "outputs": [],
      "source": [
        "# convert to lowercase\n",
        "for i in range(len(spa_eng)):\n",
        "    spa_eng[i,0] = spa_eng[i,0].lower()\n",
        "    \n",
        "    spa_eng[i,1] = spa_eng[i,1].lower()"
      ]
    },
    {
      "cell_type": "code",
      "execution_count": null,
      "metadata": {
        "colab": {
          "base_uri": "https://localhost:8080/"
        },
        "id": "FtzqJPT3hUHq",
        "outputId": "43d61db9-a5c1-4617-c357-123a69eaea0b"
      },
      "outputs": [
        {
          "output_type": "execute_result",
          "data": {
            "text/plain": [
              "array([['go', 've'],\n",
              "       ['go', 'vete'],\n",
              "       ['go', 'vaya'],\n",
              "       ...,\n",
              "       ['if you want to sound like a native speaker you must be willing to practice saying the same sentence over and over in the same way that banjo players practice the same phrase over and over until they can play it correctly and at the desired tempo',\n",
              "        'si quieres sonar como un hablante nativo debes estar dispuesto a practicar diciendo la misma frase una y otra vez de la misma manera en que un músico de banjo practica el mismo fraseo una y otra vez hasta que lo puedan tocar correctamente y en el tiempo esperado'],\n",
              "       ['it may be impossible to get a completely errorfree corpus due to the nature of this kind of collaborative effort however if we encourage members to contribute sentences in their own languages rather than experiment in languages they are learning we might be able to minimize errors',\n",
              "        'puede que sea imposible obtener un corpus completamente libre de errores debido a la naturaleza de este tipo de esfuerzo de colaboración sin embargo si animamos a los miembros a contribuir frases en sus propios idiomas en lugar de experimentar con los idiomas que están aprendiendo podríamos ser capaces de minimizar los errores'],\n",
              "       ['one day i woke up to find that god had put hair on my face i shaved it off the next day i found that god had put it back on my face so i shaved it off again on the third day when i found that god had put hair back on my face again i decided to let god have his way thats why i have a beard',\n",
              "        'un día me desperté y vi que dios me había puesto pelo en la cara me lo afeité al día siguiente vi que dios me lo había vuelto a poner en la cara así que me lo afeité otra vez al tercer día cuando vi que dios me había puesto pelo en la cara de nuevo decidí que dios se saliera con la suya por eso tengo barba']],\n",
              "      dtype='<U332')"
            ]
          },
          "metadata": {},
          "execution_count": 13
        }
      ],
      "source": [
        "spa_eng"
      ]
    },
    {
      "cell_type": "markdown",
      "metadata": {
        "id": "TDmJmOIBhZjq"
      },
      "source": [
        "Text to Sequence conversion:"
      ]
    },
    {
      "cell_type": "code",
      "execution_count": null,
      "metadata": {
        "id": "nxHGNR2uhV2B"
      },
      "outputs": [],
      "source": [
        "# empty lists\n",
        "eng_l = []\n",
        "spa_l = []\n",
        "\n",
        "# populate the lists with sentence lengths\n",
        "for i in spa_eng[:,0]:\n",
        "    eng_l.append(len(i.split()))\n",
        "\n",
        "for i in spa_eng[:,1]:\n",
        "    spa_l.append(len(i.split()))"
      ]
    },
    {
      "cell_type": "code",
      "execution_count": null,
      "metadata": {
        "id": "xX5PjvIpiElS"
      },
      "outputs": [],
      "source": [
        "length_df = pd.DataFrame({'eng':eng_l, 'spa':spa_l})"
      ]
    },
    {
      "cell_type": "code",
      "execution_count": null,
      "metadata": {
        "colab": {
          "base_uri": "https://localhost:8080/",
          "height": 281
        },
        "id": "pbmQzSCziu1p",
        "outputId": "1df1d5d2-ec41-477c-f64a-d99daa4d356a"
      },
      "outputs": [
        {
          "output_type": "display_data",
          "data": {
            "text/plain": [
              "<Figure size 432x288 with 2 Axes>"
            ],
            "image/png": "[encoded data removed]"
          },
          "metadata": {
            "needs_background": "light"
          }
        }
      ],
      "source": [
        "length_df.hist(bins = 30)\n",
        "plt.show()"
      ]
    },
    {
      "cell_type": "markdown",
      "metadata": {
        "id": "qIwTM5crkbMN"
      },
      "source": [
        "The maximum length of the Spanish sentences is 20 and that of the English phrases is 20."
      ]
    },
    {
      "cell_type": "code",
      "execution_count": null,
      "metadata": {
        "id": "dCf13SlxkKpz"
      },
      "outputs": [],
      "source": [
        "# function to build a tokenizer\n",
        "def tokenization(lines):\n",
        "    tokenizer = Tokenizer()\n",
        "    tokenizer.fit_on_texts(lines)\n",
        "    return tokenizer"
      ]
    },
    {
      "cell_type": "code",
      "execution_count": null,
      "metadata": {
        "colab": {
          "base_uri": "https://localhost:8080/"
        },
        "id": "y-ol86Xrki2b",
        "outputId": "c5c03fe5-8e3d-4f0d-828f-8b2b8063fb43"
      },
      "outputs": [
        {
          "output_type": "stream",
          "name": "stdout",
          "text": [
            "English Vocabulary Size: 14440\n"
          ]
        }
      ],
      "source": [
        "# prepare english tokenizer\n",
        "eng_tokenizer = tokenization(spa_eng[:, 0])\n",
        "eng_vocab_size = len(eng_tokenizer.word_index) + 1\n",
        "\n",
        "eng_length = 20\n",
        "print('English Vocabulary Size: %d' % eng_vocab_size)"
      ]
    },
    {
      "cell_type": "code",
      "execution_count": null,
      "metadata": {
        "colab": {
          "base_uri": "https://localhost:8080/"
        },
        "id": "FRy1-RiOknf1",
        "outputId": "af0653e6-d276-4a8e-9f27-bfd4c669724b"
      },
      "outputs": [
        {
          "output_type": "stream",
          "name": "stdout",
          "text": [
            "Spanish Vocabulary Size: 29031\n"
          ]
        }
      ],
      "source": [
        "# prepare Deutch tokenizer\n",
        "spa_tokenizer = tokenization(spa_eng[:, 1])\n",
        "spa_vocab_size = len(spa_tokenizer.word_index) + 1\n",
        "\n",
        "spa_length = 20\n",
        "print('Spanish Vocabulary Size: %d' % spa_vocab_size)"
      ]
    },
    {
      "cell_type": "code",
      "execution_count": null,
      "metadata": {
        "id": "7AwZ2q8fk6jj"
      },
      "outputs": [],
      "source": [
        "# encode and pad sequences\n",
        "def encode_sequences(tokenizer, length, lines):\n",
        "    # integer encode sequences\n",
        "    seq = tokenizer.texts_to_sequences(lines)\n",
        "    # pad sequences with 0 values\n",
        "    seq = pad_sequences(seq, maxlen=length, padding='post')\n",
        "    return seq"
      ]
    },
    {
      "cell_type": "markdown",
      "metadata": {
        "id": "a-q4wpRhlSwA"
      },
      "source": [
        "Model Building:"
      ]
    },
    {
      "cell_type": "code",
      "execution_count": null,
      "metadata": {
        "id": "tSegOYr8lA3e"
      },
      "outputs": [],
      "source": [
        "from sklearn.model_selection import train_test_split\n",
        "train, test = train_test_split(spa_eng, test_size=0.2, random_state = 12)"
      ]
    },
    {
      "cell_type": "code",
      "execution_count": null,
      "metadata": {
        "id": "_BWhVsHllP0w"
      },
      "outputs": [],
      "source": [
        "# prepare training data\n",
        "trainX = encode_sequences(spa_tokenizer, spa_length, train[:, 1])\n",
        "trainY = encode_sequences(eng_tokenizer, eng_length, train[:, 0])"
      ]
    },
    {
      "cell_type": "code",
      "execution_count": null,
      "metadata": {
        "id": "krV3I3JIlZoH"
      },
      "outputs": [],
      "source": [
        "# prepare validation data\n",
        "testX = encode_sequences(spa_tokenizer, spa_length, test[:, 1])\n",
        "testY = encode_sequences(eng_tokenizer, eng_length, test[:, 0])"
      ]
    },
    {
      "cell_type": "code",
      "execution_count": null,
      "metadata": {
        "id": "t-FgCNvFliMg"
      },
      "outputs": [],
      "source": [
        "# build NMT model\n",
        "def build_model(in_vocab, out_vocab, in_timesteps, out_timesteps, units):\n",
        "    model = Sequential()\n",
        "    model.add(Embedding(in_vocab, units, input_length=in_timesteps, mask_zero=True))\n",
        "    model.add(LSTM(units))\n",
        "    model.add(Dropout(0.5))\n",
        "    model.add(RepeatVector(out_timesteps))\n",
        "    model.add(LSTM(units, return_sequences=True))\n",
        "    model.add(Dropout(0.25))\n",
        "    model.add(Dense(out_vocab, activation='softmax'))\n",
        "    return model"
      ]
    },
    {
      "cell_type": "code",
      "execution_count": null,
      "metadata": {
        "id": "xWKEeH_llos6"
      },
      "outputs": [],
      "source": [
        "model = build_model(spa_vocab_size, eng_vocab_size, spa_length, eng_length, 512)\n",
        "adam = optimizers.Adam(learning_rate=0.001)\n",
        "model.compile(optimizer=adam, loss='sparse_categorical_crossentropy')"
      ]
    },
    {
      "cell_type": "code",
      "execution_count": null,
      "metadata": {
        "colab": {
          "base_uri": "https://localhost:8080/"
        },
        "id": "Zmkky_Kkl1sr",
        "outputId": "4701c685-f7ac-4743-a1c1-188112d33e3a"
      },
      "outputs": [
        {
          "output_type": "stream",
          "name": "stdout",
          "text": [
            "Epoch 1/30\n",
            "2780/2781 [============================>.] - ETA: 0s - loss: 2.0720\n",
            "Epoch 1: val_loss improved from inf to 1.86511, saving model to model.h1.7_nov_22_2\n"
          ]
        },
        {
          "output_type": "stream",
          "name": "stderr",
          "text": [
            "WARNING:absl:Found untraced functions such as lstm_cell_layer_call_fn, lstm_cell_layer_call_and_return_conditional_losses, lstm_cell_1_layer_call_fn, lstm_cell_1_layer_call_and_return_conditional_losses while saving (showing 4 of 4). These functions will not be directly callable after loading.\n"
          ]
        },
        {
          "output_type": "stream",
          "name": "stdout",
          "text": [
            "\b\b\b\b\b\b\b\b\b\b\b\b\b\b\b\b\b\b\b\b\b\b\b\b\b\b\b\b\b\b\b\b\b\b\b\b\b\b\b\b\b\b\b\b\b\b\b\b\b\b\b\b\b\b\b\b\b\b\b\b\b\b\b\b\b\b\b\r2781/2781 [==============================] - 107s 36ms/step - loss: 2.0720 - val_loss: 1.8651\n",
            "Epoch 2/30\n",
            "2781/2781 [==============================] - ETA: 0s - loss: 1.7602\n",
            "Epoch 2: val_loss improved from 1.86511 to 1.60212, saving model to model.h1.7_nov_22_2\n"
          ]
        },
        {
          "output_type": "stream",
          "name": "stderr",
          "text": [
            "WARNING:absl:Found untraced functions such as lstm_cell_layer_call_fn, lstm_cell_layer_call_and_return_conditional_losses, lstm_cell_1_layer_call_fn, lstm_cell_1_layer_call_and_return_conditional_losses while saving (showing 4 of 4). These functions will not be directly callable after loading.\n"
          ]
        },
        {
          "output_type": "stream",
          "name": "stdout",
          "text": [
            "\b\b\b\b\b\b\b\b\b\b\b\b\b\b\b\b\b\b\b\b\b\b\b\b\b\b\b\b\b\b\b\b\b\b\b\b\b\b\b\b\b\b\b\b\b\b\b\b\b\b\b\b\b\b\b\b\b\b\b\b\b\b\b\b\b\b\b\r2781/2781 [==============================] - 100s 36ms/step - loss: 1.7602 - val_loss: 1.6021\n",
            "Epoch 3/30\n",
            "2779/2781 [============================>.] - ETA: 0s - loss: 1.5149\n",
            "Epoch 3: val_loss improved from 1.60212 to 1.39623, saving model to model.h1.7_nov_22_2\n"
          ]
        },
        {
          "output_type": "stream",
          "name": "stderr",
          "text": [
            "WARNING:absl:Found untraced functions such as lstm_cell_layer_call_fn, lstm_cell_layer_call_and_return_conditional_losses, lstm_cell_1_layer_call_fn, lstm_cell_1_layer_call_and_return_conditional_losses while saving (showing 4 of 4). These functions will not be directly callable after loading.\n"
          ]
        },
        {
          "output_type": "stream",
          "name": "stdout",
          "text": [
            "\b\b\b\b\b\b\b\b\b\b\b\b\b\b\b\b\b\b\b\b\b\b\b\b\b\b\b\b\b\b\b\b\b\b\b\b\b\b\b\b\b\b\b\b\b\b\b\b\b\b\b\b\b\b\b\b\b\b\b\b\b\b\b\b\b\b\b\r2781/2781 [==============================] - 100s 36ms/step - loss: 1.5149 - val_loss: 1.3962\n",
            "Epoch 4/30\n",
            "2779/2781 [============================>.] - ETA: 0s - loss: 1.3264\n",
            "Epoch 4: val_loss improved from 1.39623 to 1.26619, saving model to model.h1.7_nov_22_2\n"
          ]
        },
        {
          "output_type": "stream",
          "name": "stderr",
          "text": [
            "WARNING:absl:Found untraced functions such as lstm_cell_layer_call_fn, lstm_cell_layer_call_and_return_conditional_losses, lstm_cell_1_layer_call_fn, lstm_cell_1_layer_call_and_return_conditional_losses while saving (showing 4 of 4). These functions will not be directly callable after loading.\n"
          ]
        },
        {
          "output_type": "stream",
          "name": "stdout",
          "text": [
            "\b\b\b\b\b\b\b\b\b\b\b\b\b\b\b\b\b\b\b\b\b\b\b\b\b\b\b\b\b\b\b\b\b\b\b\b\b\b\b\b\b\b\b\b\b\b\b\b\b\b\b\b\b\b\b\b\b\b\b\b\b\b\b\b\b\b\b\r2781/2781 [==============================] - 101s 36ms/step - loss: 1.3263 - val_loss: 1.2662\n",
            "Epoch 5/30\n",
            "2781/2781 [==============================] - ETA: 0s - loss: 1.1886\n",
            "Epoch 5: val_loss improved from 1.26619 to 1.17901, saving model to model.h1.7_nov_22_2\n"
          ]
        },
        {
          "output_type": "stream",
          "name": "stderr",
          "text": [
            "WARNING:absl:Found untraced functions such as lstm_cell_layer_call_fn, lstm_cell_layer_call_and_return_conditional_losses, lstm_cell_1_layer_call_fn, lstm_cell_1_layer_call_and_return_conditional_losses while saving (showing 4 of 4). These functions will not be directly callable after loading.\n"
          ]
        },
        {
          "output_type": "stream",
          "name": "stdout",
          "text": [
            "\b\b\b\b\b\b\b\b\b\b\b\b\b\b\b\b\b\b\b\b\b\b\b\b\b\b\b\b\b\b\b\b\b\b\b\b\b\b\b\b\b\b\b\b\b\b\b\b\b\b\b\b\b\b\b\b\b\b\b\b\b\b\b\b\b\b\b\r2781/2781 [==============================] - 100s 36ms/step - loss: 1.1886 - val_loss: 1.1790\n",
            "Epoch 6/30\n",
            "2781/2781 [==============================] - ETA: 0s - loss: 1.0838\n",
            "Epoch 6: val_loss improved from 1.17901 to 1.12328, saving model to model.h1.7_nov_22_2\n"
          ]
        },
        {
          "output_type": "stream",
          "name": "stderr",
          "text": [
            "WARNING:absl:Found untraced functions such as lstm_cell_layer_call_fn, lstm_cell_layer_call_and_return_conditional_losses, lstm_cell_1_layer_call_fn, lstm_cell_1_layer_call_and_return_conditional_losses while saving (showing 4 of 4). These functions will not be directly callable after loading.\n"
          ]
        },
        {
          "output_type": "stream",
          "name": "stdout",
          "text": [
            "\b\b\b\b\b\b\b\b\b\b\b\b\b\b\b\b\b\b\b\b\b\b\b\b\b\b\b\b\b\b\b\b\b\b\b\b\b\b\b\b\b\b\b\b\b\b\b\b\b\b\b\b\b\b\b\b\b\b\b\b\b\b\b\b\b\b\b\r2781/2781 [==============================] - 100s 36ms/step - loss: 1.0838 - val_loss: 1.1233\n",
            "Epoch 7/30\n",
            "2781/2781 [==============================] - ETA: 0s - loss: 1.0035\n",
            "Epoch 7: val_loss improved from 1.12328 to 1.08245, saving model to model.h1.7_nov_22_2\n"
          ]
        },
        {
          "output_type": "stream",
          "name": "stderr",
          "text": [
            "WARNING:absl:Found untraced functions such as lstm_cell_layer_call_fn, lstm_cell_layer_call_and_return_conditional_losses, lstm_cell_1_layer_call_fn, lstm_cell_1_layer_call_and_return_conditional_losses while saving (showing 4 of 4). These functions will not be directly callable after loading.\n"
          ]
        },
        {
          "output_type": "stream",
          "name": "stdout",
          "text": [
            "\b\b\b\b\b\b\b\b\b\b\b\b\b\b\b\b\b\b\b\b\b\b\b\b\b\b\b\b\b\b\b\b\b\b\b\b\b\b\b\b\b\b\b\b\b\b\b\b\b\b\b\b\b\b\b\b\b\b\b\b\b\b\b\b\b\b\b\r2781/2781 [==============================] - 100s 36ms/step - loss: 1.0035 - val_loss: 1.0824\n",
            "Epoch 8/30\n",
            "2781/2781 [==============================] - ETA: 0s - loss: 0.9414\n",
            "Epoch 8: val_loss improved from 1.08245 to 1.05506, saving model to model.h1.7_nov_22_2\n"
          ]
        },
        {
          "output_type": "stream",
          "name": "stderr",
          "text": [
            "WARNING:absl:Found untraced functions such as lstm_cell_layer_call_fn, lstm_cell_layer_call_and_return_conditional_losses, lstm_cell_1_layer_call_fn, lstm_cell_1_layer_call_and_return_conditional_losses while saving (showing 4 of 4). These functions will not be directly callable after loading.\n"
          ]
        },
        {
          "output_type": "stream",
          "name": "stdout",
          "text": [
            "\b\b\b\b\b\b\b\b\b\b\b\b\b\b\b\b\b\b\b\b\b\b\b\b\b\b\b\b\b\b\b\b\b\b\b\b\b\b\b\b\b\b\b\b\b\b\b\b\b\b\b\b\b\b\b\b\b\b\b\b\b\b\b\b\b\b\b\r2781/2781 [==============================] - 100s 36ms/step - loss: 0.9414 - val_loss: 1.0551\n",
            "Epoch 9/30\n",
            "2779/2781 [============================>.] - ETA: 0s - loss: 0.8894\n",
            "Epoch 9: val_loss improved from 1.05506 to 1.03781, saving model to model.h1.7_nov_22_2\n"
          ]
        },
        {
          "output_type": "stream",
          "name": "stderr",
          "text": [
            "WARNING:absl:Found untraced functions such as lstm_cell_layer_call_fn, lstm_cell_layer_call_and_return_conditional_losses, lstm_cell_1_layer_call_fn, lstm_cell_1_layer_call_and_return_conditional_losses while saving (showing 4 of 4). These functions will not be directly callable after loading.\n"
          ]
        },
        {
          "output_type": "stream",
          "name": "stdout",
          "text": [
            "\b\b\b\b\b\b\b\b\b\b\b\b\b\b\b\b\b\b\b\b\b\b\b\b\b\b\b\b\b\b\b\b\b\b\b\b\b\b\b\b\b\b\b\b\b\b\b\b\b\b\b\b\b\b\b\b\b\b\b\b\b\b\b\b\b\b\b\r2781/2781 [==============================] - 100s 36ms/step - loss: 0.8894 - val_loss: 1.0378\n",
            "Epoch 10/30\n",
            "2779/2781 [============================>.] - ETA: 0s - loss: 0.8468\n",
            "Epoch 10: val_loss improved from 1.03781 to 1.02324, saving model to model.h1.7_nov_22_2\n"
          ]
        },
        {
          "output_type": "stream",
          "name": "stderr",
          "text": [
            "WARNING:absl:Found untraced functions such as lstm_cell_layer_call_fn, lstm_cell_layer_call_and_return_conditional_losses, lstm_cell_1_layer_call_fn, lstm_cell_1_layer_call_and_return_conditional_losses while saving (showing 4 of 4). These functions will not be directly callable after loading.\n"
          ]
        },
        {
          "output_type": "stream",
          "name": "stdout",
          "text": [
            "\b\b\b\b\b\b\b\b\b\b\b\b\b\b\b\b\b\b\b\b\b\b\b\b\b\b\b\b\b\b\b\b\b\b\b\b\b\b\b\b\b\b\b\b\b\b\b\b\b\b\b\b\b\b\b\b\b\b\b\b\b\b\b\b\b\b\b\r2781/2781 [==============================] - 100s 36ms/step - loss: 0.8468 - val_loss: 1.0232\n",
            "Epoch 11/30\n",
            "2781/2781 [==============================] - ETA: 0s - loss: 0.8075\n",
            "Epoch 11: val_loss improved from 1.02324 to 1.01694, saving model to model.h1.7_nov_22_2\n"
          ]
        },
        {
          "output_type": "stream",
          "name": "stderr",
          "text": [
            "WARNING:absl:Found untraced functions such as lstm_cell_layer_call_fn, lstm_cell_layer_call_and_return_conditional_losses, lstm_cell_1_layer_call_fn, lstm_cell_1_layer_call_and_return_conditional_losses while saving (showing 4 of 4). These functions will not be directly callable after loading.\n"
          ]
        },
        {
          "output_type": "stream",
          "name": "stdout",
          "text": [
            "\b\b\b\b\b\b\b\b\b\b\b\b\b\b\b\b\b\b\b\b\b\b\b\b\b\b\b\b\b\b\b\b\b\b\b\b\b\b\b\b\b\b\b\b\b\b\b\b\b\b\b\b\b\b\b\b\b\b\b\b\b\b\b\b\b\b\b\r2781/2781 [==============================] - 100s 36ms/step - loss: 0.8075 - val_loss: 1.0169\n",
            "Epoch 12/30\n",
            "2781/2781 [==============================] - ETA: 0s - loss: 0.7777\n",
            "Epoch 12: val_loss improved from 1.01694 to 1.01041, saving model to model.h1.7_nov_22_2\n"
          ]
        },
        {
          "output_type": "stream",
          "name": "stderr",
          "text": [
            "WARNING:absl:Found untraced functions such as lstm_cell_layer_call_fn, lstm_cell_layer_call_and_return_conditional_losses, lstm_cell_1_layer_call_fn, lstm_cell_1_layer_call_and_return_conditional_losses while saving (showing 4 of 4). These functions will not be directly callable after loading.\n"
          ]
        },
        {
          "output_type": "stream",
          "name": "stdout",
          "text": [
            "\b\b\b\b\b\b\b\b\b\b\b\b\b\b\b\b\b\b\b\b\b\b\b\b\b\b\b\b\b\b\b\b\b\b\b\b\b\b\b\b\b\b\b\b\b\b\b\b\b\b\b\b\b\b\b\b\b\b\b\b\b\b\b\b\b\b\b\r2781/2781 [==============================] - 100s 36ms/step - loss: 0.7777 - val_loss: 1.0104\n",
            "Epoch 13/30\n",
            "2781/2781 [==============================] - ETA: 0s - loss: 0.7516\n",
            "Epoch 13: val_loss improved from 1.01041 to 1.00742, saving model to model.h1.7_nov_22_2\n"
          ]
        },
        {
          "output_type": "stream",
          "name": "stderr",
          "text": [
            "WARNING:absl:Found untraced functions such as lstm_cell_layer_call_fn, lstm_cell_layer_call_and_return_conditional_losses, lstm_cell_1_layer_call_fn, lstm_cell_1_layer_call_and_return_conditional_losses while saving (showing 4 of 4). These functions will not be directly callable after loading.\n"
          ]
        },
        {
          "output_type": "stream",
          "name": "stdout",
          "text": [
            "\b\b\b\b\b\b\b\b\b\b\b\b\b\b\b\b\b\b\b\b\b\b\b\b\b\b\b\b\b\b\b\b\b\b\b\b\b\b\b\b\b\b\b\b\b\b\b\b\b\b\b\b\b\b\b\b\b\b\b\b\b\b\b\b\b\b\b\r2781/2781 [==============================] - 104s 37ms/step - loss: 0.7516 - val_loss: 1.0074\n",
            "Epoch 14/30\n",
            "2781/2781 [==============================] - ETA: 0s - loss: 0.7264\n",
            "Epoch 14: val_loss did not improve from 1.00742\n",
            "2781/2781 [==============================] - 86s 31ms/step - loss: 0.7264 - val_loss: 1.0079\n",
            "Epoch 15/30\n",
            "2779/2781 [============================>.] - ETA: 0s - loss: 0.7057\n",
            "Epoch 15: val_loss improved from 1.00742 to 1.00382, saving model to model.h1.7_nov_22_2\n"
          ]
        },
        {
          "output_type": "stream",
          "name": "stderr",
          "text": [
            "WARNING:absl:Found untraced functions such as lstm_cell_layer_call_fn, lstm_cell_layer_call_and_return_conditional_losses, lstm_cell_1_layer_call_fn, lstm_cell_1_layer_call_and_return_conditional_losses while saving (showing 4 of 4). These functions will not be directly callable after loading.\n"
          ]
        },
        {
          "output_type": "stream",
          "name": "stdout",
          "text": [
            "\b\b\b\b\b\b\b\b\b\b\b\b\b\b\b\b\b\b\b\b\b\b\b\b\b\b\b\b\b\b\b\b\b\b\b\b\b\b\b\b\b\b\b\b\b\b\b\b\b\b\b\b\b\b\b\b\b\b\b\b\b\b\b\b\b\b\b\r2781/2781 [==============================] - 99s 36ms/step - loss: 0.7058 - val_loss: 1.0038\n",
            "Epoch 16/30\n",
            "2781/2781 [==============================] - ETA: 0s - loss: 0.6864\n",
            "Epoch 16: val_loss did not improve from 1.00382\n",
            "2781/2781 [==============================] - 85s 31ms/step - loss: 0.6864 - val_loss: 1.0039\n",
            "Epoch 17/30\n",
            "2781/2781 [==============================] - ETA: 0s - loss: 0.6706\n",
            "Epoch 17: val_loss did not improve from 1.00382\n",
            "2781/2781 [==============================] - 86s 31ms/step - loss: 0.6706 - val_loss: 1.0049\n",
            "Epoch 18/30\n",
            "2781/2781 [==============================] - ETA: 0s - loss: 0.6538\n",
            "Epoch 18: val_loss did not improve from 1.00382\n",
            "2781/2781 [==============================] - 86s 31ms/step - loss: 0.6538 - val_loss: 1.0055\n",
            "Epoch 19/30\n",
            "2781/2781 [==============================] - ETA: 0s - loss: 0.6400\n",
            "Epoch 19: val_loss did not improve from 1.00382\n",
            "2781/2781 [==============================] - 86s 31ms/step - loss: 0.6400 - val_loss: 1.0094\n",
            "Epoch 20/30\n",
            "2779/2781 [============================>.] - ETA: 0s - loss: 0.6274\n",
            "Epoch 20: val_loss did not improve from 1.00382\n",
            "2781/2781 [==============================] - 86s 31ms/step - loss: 0.6274 - val_loss: 1.0066\n",
            "Epoch 21/30\n",
            "2779/2781 [============================>.] - ETA: 0s - loss: 0.6155\n",
            "Epoch 21: val_loss did not improve from 1.00382\n",
            "2781/2781 [==============================] - 86s 31ms/step - loss: 0.6155 - val_loss: 1.0087\n",
            "Epoch 22/30\n",
            "2781/2781 [==============================] - ETA: 0s - loss: 0.6047\n",
            "Epoch 22: val_loss did not improve from 1.00382\n",
            "2781/2781 [==============================] - 86s 31ms/step - loss: 0.6047 - val_loss: 1.0126\n",
            "Epoch 23/30\n",
            "2781/2781 [==============================] - ETA: 0s - loss: 0.5935\n",
            "Epoch 23: val_loss did not improve from 1.00382\n",
            "2781/2781 [==============================] - 86s 31ms/step - loss: 0.5935 - val_loss: 1.0210\n",
            "Epoch 24/30\n",
            "2781/2781 [==============================] - ETA: 0s - loss: 0.5848\n",
            "Epoch 24: val_loss did not improve from 1.00382\n",
            "2781/2781 [==============================] - 86s 31ms/step - loss: 0.5848 - val_loss: 1.0233\n",
            "Epoch 25/30\n",
            "2781/2781 [==============================] - ETA: 0s - loss: 0.5757\n",
            "Epoch 25: val_loss did not improve from 1.00382\n",
            "2781/2781 [==============================] - 86s 31ms/step - loss: 0.5757 - val_loss: 1.0220\n",
            "Epoch 26/30\n",
            "2781/2781 [==============================] - ETA: 0s - loss: 0.5666\n",
            "Epoch 26: val_loss did not improve from 1.00382\n",
            "2781/2781 [==============================] - 86s 31ms/step - loss: 0.5666 - val_loss: 1.0292\n",
            "Epoch 27/30\n",
            "2781/2781 [==============================] - ETA: 0s - loss: 0.5599\n",
            "Epoch 27: val_loss did not improve from 1.00382\n",
            "2781/2781 [==============================] - 86s 31ms/step - loss: 0.5599 - val_loss: 1.0271\n",
            "Epoch 28/30\n",
            "2781/2781 [==============================] - ETA: 0s - loss: 0.5527\n",
            "Epoch 28: val_loss did not improve from 1.00382\n",
            "2781/2781 [==============================] - 86s 31ms/step - loss: 0.5527 - val_loss: 1.0307\n",
            "Epoch 29/30\n",
            "2779/2781 [============================>.] - ETA: 0s - loss: 0.5451\n",
            "Epoch 29: val_loss did not improve from 1.00382\n",
            "2781/2781 [==============================] - 86s 31ms/step - loss: 0.5451 - val_loss: 1.0381\n",
            "Epoch 30/30\n",
            "2781/2781 [==============================] - ETA: 0s - loss: 0.5391\n",
            "Epoch 30: val_loss did not improve from 1.00382\n",
            "2781/2781 [==============================] - 87s 31ms/step - loss: 0.5391 - val_loss: 1.0412\n"
          ]
        }
      ],
      "source": [
        "filename = 'model.h1.7_nov_22_2'\n",
        "checkpoint = ModelCheckpoint(filename, monitor='val_loss', verbose=1, save_best_only=True, mode='min')\n",
        "\n",
        "history = model.fit(trainX, trainY.reshape(trainY.shape[0], trainY.shape[1], 1), \n",
        "          epochs=30, batch_size=32, \n",
        "          validation_split = 0.2,\n",
        "          callbacks=[checkpoint], verbose=1)"
      ]
    },
    {
      "cell_type": "code",
      "execution_count": null,
      "metadata": {
        "id": "8wVI-1G2mDYW",
        "colab": {
          "base_uri": "https://localhost:8080/",
          "height": 265
        },
        "outputId": "77807e26-fc02-4474-f601-df07a8ffa29b"
      },
      "outputs": [
        {
          "output_type": "display_data",
          "data": {
            "text/plain": [
              "<Figure size 432x288 with 1 Axes>"
            ],
            "image/png": "[encoded data removed]"
          },
          "metadata": {
            "needs_background": "light"
          }
        }
      ],
      "source": [
        "plt.plot(history.history['loss'])\n",
        "plt.plot(history.history['val_loss'])\n",
        "plt.legend(['train','validation'])\n",
        "plt.show()"
      ]
    },
    {
      "cell_type": "code",
      "source": [
        "!cp -av /content/drive/MyDrive/model.h1.7_nov_22_2 /content/"
      ],
      "metadata": {
        "colab": {
          "base_uri": "https://localhost:8080/"
        },
        "id": "Hy25j78rxAGg",
        "outputId": "17047cd1-22fd-4b95-a6c7-ebb146e46947"
      },
      "execution_count": null,
      "outputs": [
        {
          "output_type": "stream",
          "name": "stdout",
          "text": [
            "'/content/drive/MyDrive/model.h1.7_nov_22_2' -> '/content/model.h1.7_nov_22_2'\n",
            "'/content/drive/MyDrive/model.h1.7_nov_22_2/assets' -> '/content/model.h1.7_nov_22_2/assets'\n",
            "'/content/drive/MyDrive/model.h1.7_nov_22_2/variables' -> '/content/model.h1.7_nov_22_2/variables'\n",
            "'/content/drive/MyDrive/model.h1.7_nov_22_2/variables/variables.index' -> '/content/model.h1.7_nov_22_2/variables/variables.index'\n",
            "'/content/drive/MyDrive/model.h1.7_nov_22_2/variables/variables.data-00000-of-00001' -> '/content/model.h1.7_nov_22_2/variables/variables.data-00000-of-00001'\n",
            "'/content/drive/MyDrive/model.h1.7_nov_22_2/saved_model.pb' -> '/content/model.h1.7_nov_22_2/saved_model.pb'\n",
            "'/content/drive/MyDrive/model.h1.7_nov_22_2/keras_metadata.pb' -> '/content/model.h1.7_nov_22_2/keras_metadata.pb'\n"
          ]
        }
      ]
    },
    {
      "cell_type": "code",
      "source": [
        "testX=testX[1000:]"
      ],
      "metadata": {
        "id": "6wiuBGHoBcsv"
      },
      "execution_count": null,
      "outputs": []
    },
    {
      "cell_type": "code",
      "source": [
        "len(testX.reshape((testX.shape[0],testX.shape[1])))"
      ],
      "metadata": {
        "colab": {
          "base_uri": "https://localhost:8080/"
        },
        "id": "duCyCdlVyImW",
        "outputId": "ceacf06b-0314-43d7-9666-9390f814a029"
      },
      "execution_count": null,
      "outputs": [
        {
          "output_type": "execute_result",
          "data": {
            "text/plain": [
              "4703"
            ]
          },
          "metadata": {},
          "execution_count": 70
        }
      ]
    },
    {
      "cell_type": "code",
      "source": [
        "model = load_model('model.h1.7_nov_22_2')\n",
        "preds = model.predict(testX.reshape((testX.shape[0],testX.shape[1])),batch_size=2)"
      ],
      "metadata": {
        "colab": {
          "base_uri": "https://localhost:8080/"
        },
        "id": "GXFqfVHBu42C",
        "outputId": "17f9bce7-aeff-4b36-c481-da4a21bf9824"
      },
      "execution_count": null,
      "outputs": [
        {
          "output_type": "stream",
          "name": "stdout",
          "text": [
            "2352/2352 [==============================] - 161s 68ms/step\n"
          ]
        }
      ]
    },
    {
      "cell_type": "code",
      "source": [
        "def get_word(n, tokenizer):\n",
        "    for word, index in tokenizer.word_index.items():\n",
        "        if index == n:\n",
        "            return word\n",
        "    return None"
      ],
      "metadata": {
        "id": "-vAvde_nCZZR"
      },
      "execution_count": null,
      "outputs": []
    },
    {
      "cell_type": "code",
      "source": [
        "# convert predictions into text (English)\n",
        "preds_text = []\n",
        "for i in preds:\n",
        "    temp = []\n",
        "    for j in range(len(i)):\n",
        "        t = get_word(i[j], eng_tokenizer)\n",
        "        if j > 0:\n",
        "            if (t == get_word(i[j-1], eng_tokenizer)) or (t == None):\n",
        "                temp.append('')\n",
        "            else:\n",
        "                temp.append(t)\n",
        "             \n",
        "        else:\n",
        "            if(t == None):\n",
        "                temp.append('')\n",
        "            else:\n",
        "                temp.append(t)            \n",
        "        \n",
        "    preds_text.append(' '.join(temp))"
      ],
      "metadata": {
        "id": "ukqQGyHACZU_"
      },
      "execution_count": null,
      "outputs": []
    },
    {
      "cell_type": "code",
      "source": [
        "\n",
        "\n",
        "pred_df = pd.DataFrame({'actual' : test[:,0], 'predicted' : preds_text})\n",
        "\n",
        "pd.set_option('display.max_colwidth', 200)"
      ],
      "metadata": {
        "id": "wYIuNWzXCZRN"
      },
      "execution_count": null,
      "outputs": []
    },
    {
      "cell_type": "code",
      "source": [
        "pred_df.head(15)"
      ],
      "metadata": {
        "id": "SOR8wH7kC5S8"
      },
      "execution_count": null,
      "outputs": []
    },
    {
      "cell_type": "code",
      "source": [],
      "metadata": {
        "id": "yWZTIFPgC5OL"
      },
      "execution_count": null,
      "outputs": []
    },
    {
      "cell_type": "code",
      "source": [],
      "metadata": {
        "id": "RiDe8qHFC5JG"
      },
      "execution_count": null,
      "outputs": []
    },
    {
      "cell_type": "code",
      "source": [
        "!pip install numba"
      ],
      "metadata": {
        "colab": {
          "base_uri": "https://localhost:8080/"
        },
        "id": "WxDDObVGu8kj",
        "outputId": "c083990c-3540-4491-ff0a-b68183fa3cb4"
      },
      "execution_count": null,
      "outputs": [
        {
          "output_type": "stream",
          "name": "stdout",
          "text": [
            "Looking in indexes: https://pypi.org/simple, https://us-python.pkg.dev/colab-wheels/public/simple/\n",
            "Requirement already satisfied: numba in /usr/local/lib/python3.7/dist-packages (0.56.3)\n",
            "Requirement already satisfied: numpy<1.24,>=1.18 in /usr/local/lib/python3.7/dist-packages (from numba) (1.21.6)\n",
            "Requirement already satisfied: setuptools in /usr/local/lib/python3.7/dist-packages (from numba) (57.4.0)\n",
            "Requirement already satisfied: importlib-metadata in /usr/local/lib/python3.7/dist-packages (from numba) (4.13.0)\n",
            "Requirement already satisfied: llvmlite<0.40,>=0.39.0dev0 in /usr/local/lib/python3.7/dist-packages (from numba) (0.39.1)\n",
            "Requirement already satisfied: typing-extensions>=3.6.4 in /usr/local/lib/python3.7/dist-packages (from importlib-metadata->numba) (4.1.1)\n",
            "Requirement already satisfied: zipp>=0.5 in /usr/local/lib/python3.7/dist-packages (from importlib-metadata->numba) (3.10.0)\n"
          ]
        }
      ]
    },
    {
      "cell_type": "code",
      "source": [
        "from numba import cuda \n",
        "device = cuda.get_current_device()\n",
        "device.reset()"
      ],
      "metadata": {
        "id": "g4-xaLTrw2iQ"
      },
      "execution_count": null,
      "outputs": []
    },
    {
      "cell_type": "code",
      "source": [],
      "metadata": {
        "id": "dPZhOHVEw6J3"
      },
      "execution_count": null,
      "outputs": []
    }
  ],
  "metadata": {
    "colab": {
      "collapsed_sections": [],
      "provenance": []
    },
    "gpuClass": "standard",
    "kernelspec": {
      "display_name": "Python 3",
      "name": "python3"
    },
    "language_info": {
      "name": "python"
    }
  },
  "nbformat": 4,
  "nbformat_minor": 0
}