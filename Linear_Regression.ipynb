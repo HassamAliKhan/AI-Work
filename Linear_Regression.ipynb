{
  "nbformat": 4,
  "nbformat_minor": 0,
  "metadata": {
    "colab": {
      "name": "Linear_Regression.ipynb",
      "provenance": [],
      "collapsed_sections": []
    },
    "kernelspec": {
      "name": "python3",
      "display_name": "Python 3"
    },
    "language_info": {
      "name": "python"
    }
  },
  "cells": [
    {
      "cell_type": "code",
      "execution_count": null,
      "metadata": {
        "id": "K9sLVyouQF8z"
      },
      "outputs": [],
      "source": [
        "import math\n",
        "import pandas as pd\n",
        "from sklearn.model_selection import train_test_split"
      ]
    },
    {
      "cell_type": "code",
      "source": [
        "df = pd.read_csv('insurance.csv')"
      ],
      "metadata": {
        "id": "I1flyY7p32T4"
      },
      "execution_count": 265,
      "outputs": []
    },
    {
      "cell_type": "code",
      "source": [
        "df['X']=df['X'].str.replace('\\t','')"
      ],
      "metadata": {
        "id": "4iTYaDK29eVK"
      },
      "execution_count": 267,
      "outputs": []
    },
    {
      "cell_type": "code",
      "source": [
        "df['X']=df['X'].astype(int)"
      ],
      "metadata": {
        "id": "0nqn0Ze__83U"
      },
      "execution_count": 284,
      "outputs": []
    },
    {
      "cell_type": "code",
      "source": [
        "train, test = train_test_split(df, test_size=0.2)\n",
        "print(list(train['X']))"
      ],
      "metadata": {
        "colab": {
          "base_uri": "https://localhost:8080/"
        },
        "id": "YUIYjqjeFMhy",
        "outputId": "c53b18fe-2a3f-4621-a4a2-90d46431d881"
      },
      "execution_count": 293,
      "outputs": [
        {
          "output_type": "stream",
          "name": "stdout",
          "text": [
            "[2.0, 9.0, 6.0, 3.0, 9.0, 6.0, 9.0, 9.0, 2.0, 4.0, 6.0, 8.0, 2.0, 6.0, nan, nan, 9.0, 1.0, 3.0, 1.0, 4.0, 6.0, 8.0, 5.0, 6.0, 5.0, 2.0, 5.0, 8.0, 9.0, 1.0, 9.0, 7.0, 4.0, 5.0, 3.0, 8.0, 4.0, 9.0, 2.0, 9.0, 4.0, 5.0, nan, 1.0, 1.0, 6.0, 5.0, 7.0, 1.0]\n"
          ]
        }
      ]
    },
    {
      "cell_type": "code",
      "source": [
        "df['Y']=df['Y'].fillna(df['Y'].mean())"
      ],
      "metadata": {
        "id": "6ayb6e9cFMnS"
      },
      "execution_count": 313,
      "outputs": []
    },
    {
      "cell_type": "code",
      "source": [
        "df['Y'].head(20)"
      ],
      "metadata": {
        "colab": {
          "base_uri": "https://localhost:8080/"
        },
        "id": "JXrV2Hn1FMpw",
        "outputId": "372af6d6-a538-4426-c6b7-f6831949fac6"
      },
      "execution_count": 314,
      "outputs": [
        {
          "output_type": "execute_result",
          "data": {
            "text/plain": [
              "0     5.000000\n",
              "1     2.000000\n",
              "2     7.000000\n",
              "3     2.000000\n",
              "4     4.000000\n",
              "5     9.000000\n",
              "6     9.000000\n",
              "7     5.000000\n",
              "8     5.220339\n",
              "9     3.000000\n",
              "10    9.000000\n",
              "11    1.000000\n",
              "12    5.000000\n",
              "13    6.000000\n",
              "14    8.000000\n",
              "15    6.000000\n",
              "16    9.000000\n",
              "17    9.000000\n",
              "18    4.000000\n",
              "19    5.220339\n",
              "Name: Y, dtype: float64"
            ]
          },
          "metadata": {},
          "execution_count": 314
        }
      ]
    },
    {
      "cell_type": "code",
      "source": [
        "def mean(dataset):\n",
        "  return sum(dataset)/len(dataset)"
      ],
      "metadata": {
        "id": "lfNw9Oygxr4c"
      },
      "execution_count": 252,
      "outputs": []
    },
    {
      "cell_type": "code",
      "source": [
        "def varience(dataset,mean1):\n",
        "  var=0\n",
        "  for i in dataset:\n",
        "    var=var+sum([(i-mean1)**2])\n",
        "  return var"
      ],
      "metadata": {
        "id": "bP0M2VXlZ0ZC"
      },
      "execution_count": null,
      "outputs": []
    },
    {
      "cell_type": "code",
      "source": [
        "def covarience(x,y,m1,m2):\n",
        "  covar=0\n",
        "  for i in range(0,len(x)):\n",
        "    covar=covar+sum([(x[i]-m1)*(y[i]-m2)])\n",
        "  return covar"
      ],
      "metadata": {
        "id": "bIwe0vHEZ1X3"
      },
      "execution_count": null,
      "outputs": []
    },
    {
      "cell_type": "code",
      "source": [
        "def coefficients(df):\n",
        "  x=list(df['X'])\n",
        "  y=list(df['Y'])\n",
        "  m1=mean(x)\n",
        "  m2=mean(y)\n",
        "  B1=covarience(x,y,m1,m2)/varience(x,m1)\n",
        "  B0=m2-B1*m1\n",
        "  return [B0,B1]"
      ],
      "metadata": {
        "id": "wprGlEETdjO4"
      },
      "execution_count": 315,
      "outputs": []
    },
    {
      "cell_type": "code",
      "source": [
        ""
      ],
      "metadata": {
        "colab": {
          "base_uri": "https://localhost:8080/"
        },
        "id": "gvHPXx3tHF0W",
        "outputId": "43d1e43a-525f-4fc2-80e6-82c740c1fd21"
      },
      "execution_count": 316,
      "outputs": [
        {
          "output_type": "stream",
          "name": "stdout",
          "text": [
            "[5.249198178914011, -1.7556204724574415e-06]\n"
          ]
        }
      ]
    },
    {
      "cell_type": "code",
      "source": [
        "def simple_linear_regression(train,test):\n",
        "  predictions=list()\n",
        "  B0,B1=coefficients(train)\n",
        "  for i in test:\n",
        "      yhat=B0+(B1*i)\n",
        "      predictions.append(yhat)\n",
        "  print(predictions)\n",
        "  return predictions"
      ],
      "metadata": {
        "id": "CXhe8YMwf19D"
      },
      "execution_count": 328,
      "outputs": []
    },
    {
      "cell_type": "code",
      "source": [
        "def rsme_evaluate(actual,predicted):\n",
        "  sum_error=0\n",
        "  for i in range(0,len(actual)):\n",
        "    prediction_error=predicted[i]-actual[i]\n",
        "    sum_error=sum_error+(prediction_error**2)\n",
        "  mean_error=sum_error/len(actual)\n",
        "  return math.sqrt(mean_error)\n"
      ],
      "metadata": {
        "id": "XS7F8FXoiP4U"
      },
      "execution_count": 329,
      "outputs": []
    },
    {
      "cell_type": "code",
      "source": [
        "def evaluate_algorithm(df,algorithm):\n",
        "  train, test = train_test_split(df, test_size=0.2)\n",
        "  predicted=algorithm(train,list(test['Y']))\n",
        "  actual=list(df['Y'])\n",
        "  rsme=rsme_evaluate(actual,predicted)\n",
        "  return rsme"
      ],
      "metadata": {
        "id": "XzJgSVeugoyR"
      },
      "execution_count": 332,
      "outputs": []
    },
    {
      "cell_type": "code",
      "source": [
        "x=list()\n",
        "x=list(df['X'])\n",
        "y=list()\n",
        "y=list(df['Y'])"
      ],
      "metadata": {
        "id": "9FYYNRFXZ-wy"
      },
      "execution_count": 286,
      "outputs": []
    },
    {
      "cell_type": "code",
      "source": [
        "m1=mean(x)"
      ],
      "metadata": {
        "id": "2G179ycAZ-7V"
      },
      "execution_count": null,
      "outputs": []
    },
    {
      "cell_type": "code",
      "source": [
        "m2=mean(y)"
      ],
      "metadata": {
        "id": "7rRQiy9KZ_BU"
      },
      "execution_count": null,
      "outputs": []
    },
    {
      "cell_type": "code",
      "source": [
        "print(varience(x,m1))\n",
        "print(varience(y,m2))"
      ],
      "metadata": {
        "colab": {
          "base_uri": "https://localhost:8080/"
        },
        "id": "EgakCno9Z_Ep",
        "outputId": "112fc091-1cce-4246-e72b-c8428d5d67dd"
      },
      "execution_count": null,
      "outputs": [
        {
          "output_type": "stream",
          "name": "stdout",
          "text": [
            "10.0\n",
            "8.8\n"
          ]
        }
      ]
    },
    {
      "cell_type": "code",
      "source": [
        "print(covarience(x,y,m1,m2))"
      ],
      "metadata": {
        "colab": {
          "base_uri": "https://localhost:8080/"
        },
        "id": "t2ODnHtZRmyY",
        "outputId": "3539774e-8d8d-4e92-f413-da9f46d13e59"
      },
      "execution_count": null,
      "outputs": [
        {
          "output_type": "stream",
          "name": "stdout",
          "text": [
            "8.0\n"
          ]
        }
      ]
    },
    {
      "cell_type": "code",
      "source": [
        "print(coefficients(l1))"
      ],
      "metadata": {
        "colab": {
          "base_uri": "https://localhost:8080/"
        },
        "id": "fHMUZzeOSrBt",
        "outputId": "c8aa937a-651f-4e02-eb44-13b4980803ce"
      },
      "execution_count": null,
      "outputs": [
        {
          "output_type": "stream",
          "name": "stdout",
          "text": [
            "[0.39999999999999947, 0.8]\n"
          ]
        }
      ]
    },
    {
      "cell_type": "code",
      "source": [
        ""
      ],
      "metadata": {
        "colab": {
          "base_uri": "https://localhost:8080/"
        },
        "id": "Xibb2-OBLHQT",
        "outputId": "86cf829a-2716-4b80-f742-c5347daf3a3c"
      },
      "execution_count": 322,
      "outputs": [
        {
          "output_type": "execute_result",
          "data": {
            "text/plain": [
              "0     5.0\n",
              "1     2.0\n",
              "2     7.0\n",
              "3     2.0\n",
              "4     4.0\n",
              "     ... \n",
              "58    4.0\n",
              "59    8.0\n",
              "60    5.0\n",
              "61    6.0\n",
              "62    5.0\n",
              "Name: Y, Length: 63, dtype: float64"
            ]
          },
          "metadata": {},
          "execution_count": 322
        }
      ]
    },
    {
      "cell_type": "code",
      "source": [
        "rmse1=evaluate_algorithm(df,simple_linear_regression)\n",
        "print(rmse1)"
      ],
      "metadata": {
        "colab": {
          "base_uri": "https://localhost:8080/",
          "height": 374
        },
        "id": "Kd5tFfoTalOI",
        "outputId": "ef2f6686-4737-4542-f1a3-56e033d134ea"
      },
      "execution_count": 334,
      "outputs": [
        {
          "output_type": "stream",
          "name": "stdout",
          "text": [
            "[5.287482573756172, 5.287382707962935, 5.287457607307863, 5.287382707962935, 5.287382707962935, 5.28739519118709, 5.28739519118709, 5.287429890318639, 5.287420157635399, 5.287429890318639, 5.287457607307863, 5.287432640859554, 5.287457607307863]\n"
          ]
        },
        {
          "output_type": "error",
          "ename": "IndexError",
          "evalue": "ignored",
          "traceback": [
            "\u001b[0;31m---------------------------------------------------------------------------\u001b[0m",
            "\u001b[0;31mIndexError\u001b[0m                                Traceback (most recent call last)",
            "\u001b[0;32m<ipython-input-334-4232038f3ca7>\u001b[0m in \u001b[0;36m<module>\u001b[0;34m()\u001b[0m\n\u001b[0;32m----> 1\u001b[0;31m \u001b[0mrmse1\u001b[0m\u001b[0;34m=\u001b[0m\u001b[0mevaluate_algorithm\u001b[0m\u001b[0;34m(\u001b[0m\u001b[0mdf\u001b[0m\u001b[0;34m,\u001b[0m\u001b[0msimple_linear_regression\u001b[0m\u001b[0;34m)\u001b[0m\u001b[0;34m\u001b[0m\u001b[0;34m\u001b[0m\u001b[0m\n\u001b[0m\u001b[1;32m      2\u001b[0m \u001b[0mprint\u001b[0m\u001b[0;34m(\u001b[0m\u001b[0mrmse1\u001b[0m\u001b[0;34m)\u001b[0m\u001b[0;34m\u001b[0m\u001b[0;34m\u001b[0m\u001b[0m\n",
            "\u001b[0;32m<ipython-input-332-13fa37d41de3>\u001b[0m in \u001b[0;36mevaluate_algorithm\u001b[0;34m(df, algorithm)\u001b[0m\n\u001b[1;32m      3\u001b[0m   \u001b[0mpredicted\u001b[0m\u001b[0;34m=\u001b[0m\u001b[0malgorithm\u001b[0m\u001b[0;34m(\u001b[0m\u001b[0mtrain\u001b[0m\u001b[0;34m,\u001b[0m\u001b[0mlist\u001b[0m\u001b[0;34m(\u001b[0m\u001b[0mtest\u001b[0m\u001b[0;34m[\u001b[0m\u001b[0;34m'Y'\u001b[0m\u001b[0;34m]\u001b[0m\u001b[0;34m)\u001b[0m\u001b[0;34m)\u001b[0m\u001b[0;34m\u001b[0m\u001b[0;34m\u001b[0m\u001b[0m\n\u001b[1;32m      4\u001b[0m   \u001b[0mactual\u001b[0m\u001b[0;34m=\u001b[0m\u001b[0mlist\u001b[0m\u001b[0;34m(\u001b[0m\u001b[0mdf\u001b[0m\u001b[0;34m[\u001b[0m\u001b[0;34m'Y'\u001b[0m\u001b[0;34m]\u001b[0m\u001b[0;34m)\u001b[0m\u001b[0;34m\u001b[0m\u001b[0;34m\u001b[0m\u001b[0m\n\u001b[0;32m----> 5\u001b[0;31m   \u001b[0mrsme\u001b[0m\u001b[0;34m=\u001b[0m\u001b[0mrsme_evaluate\u001b[0m\u001b[0;34m(\u001b[0m\u001b[0mactual\u001b[0m\u001b[0;34m,\u001b[0m\u001b[0mpredicted\u001b[0m\u001b[0;34m)\u001b[0m\u001b[0;34m\u001b[0m\u001b[0;34m\u001b[0m\u001b[0m\n\u001b[0m\u001b[1;32m      6\u001b[0m   \u001b[0;32mreturn\u001b[0m \u001b[0mrsme\u001b[0m\u001b[0;34m\u001b[0m\u001b[0;34m\u001b[0m\u001b[0m\n",
            "\u001b[0;32m<ipython-input-329-cefca03aecaf>\u001b[0m in \u001b[0;36mrsme_evaluate\u001b[0;34m(actual, predicted)\u001b[0m\n\u001b[1;32m      2\u001b[0m   \u001b[0msum_error\u001b[0m\u001b[0;34m=\u001b[0m\u001b[0;36m0\u001b[0m\u001b[0;34m\u001b[0m\u001b[0;34m\u001b[0m\u001b[0m\n\u001b[1;32m      3\u001b[0m   \u001b[0;32mfor\u001b[0m \u001b[0mi\u001b[0m \u001b[0;32min\u001b[0m \u001b[0mrange\u001b[0m\u001b[0;34m(\u001b[0m\u001b[0;36m0\u001b[0m\u001b[0;34m,\u001b[0m\u001b[0mlen\u001b[0m\u001b[0;34m(\u001b[0m\u001b[0mactual\u001b[0m\u001b[0;34m)\u001b[0m\u001b[0;34m)\u001b[0m\u001b[0;34m:\u001b[0m\u001b[0;34m\u001b[0m\u001b[0;34m\u001b[0m\u001b[0m\n\u001b[0;32m----> 4\u001b[0;31m     \u001b[0mprediction_error\u001b[0m\u001b[0;34m=\u001b[0m\u001b[0mpredicted\u001b[0m\u001b[0;34m[\u001b[0m\u001b[0mi\u001b[0m\u001b[0;34m]\u001b[0m\u001b[0;34m-\u001b[0m\u001b[0mactual\u001b[0m\u001b[0;34m[\u001b[0m\u001b[0mi\u001b[0m\u001b[0;34m]\u001b[0m\u001b[0;34m\u001b[0m\u001b[0;34m\u001b[0m\u001b[0m\n\u001b[0m\u001b[1;32m      5\u001b[0m     \u001b[0msum_error\u001b[0m\u001b[0;34m=\u001b[0m\u001b[0msum_error\u001b[0m\u001b[0;34m+\u001b[0m\u001b[0;34m(\u001b[0m\u001b[0mprediction_error\u001b[0m\u001b[0;34m**\u001b[0m\u001b[0;36m2\u001b[0m\u001b[0;34m)\u001b[0m\u001b[0;34m\u001b[0m\u001b[0;34m\u001b[0m\u001b[0m\n\u001b[1;32m      6\u001b[0m   \u001b[0mmean_error\u001b[0m\u001b[0;34m=\u001b[0m\u001b[0msum_error\u001b[0m\u001b[0;34m/\u001b[0m\u001b[0mlen\u001b[0m\u001b[0;34m(\u001b[0m\u001b[0mactual\u001b[0m\u001b[0;34m)\u001b[0m\u001b[0;34m\u001b[0m\u001b[0;34m\u001b[0m\u001b[0m\n",
            "\u001b[0;31mIndexError\u001b[0m: list index out of range"
          ]
        }
      ]
    },
    {
      "cell_type": "code",
      "source": [
        "l2=[[1,2,3,4,5]]\n"
      ],
      "metadata": {
        "id": "OSsIthIkazEU"
      },
      "execution_count": null,
      "outputs": []
    },
    {
      "cell_type": "code",
      "source": [
        "print(l2)"
      ],
      "metadata": {
        "colab": {
          "base_uri": "https://localhost:8080/"
        },
        "id": "v6yFky7CsZw3",
        "outputId": "3cdb0560-ee17-4c94-efed-46f4ae758dbd"
      },
      "execution_count": null,
      "outputs": [
        {
          "output_type": "stream",
          "name": "stdout",
          "text": [
            "[[1, 2, 3, 4, 5]]\n"
          ]
        }
      ]
    },
    {
      "cell_type": "code",
      "source": [
        "for i in l2:\n",
        "  print(i)"
      ],
      "metadata": {
        "colab": {
          "base_uri": "https://localhost:8080/"
        },
        "id": "9wlUsyCxsa1v",
        "outputId": "e4c8c4dc-0dfe-4cd5-e41d-d4dbe35641d9"
      },
      "execution_count": null,
      "outputs": [
        {
          "output_type": "stream",
          "name": "stdout",
          "text": [
            "[1, 2, 3, 4, 5]\n"
          ]
        }
      ]
    },
    {
      "cell_type": "code",
      "source": [
        "for i in l2:\n",
        "  for j in i:\n",
        "    print(j)"
      ],
      "metadata": {
        "colab": {
          "base_uri": "https://localhost:8080/"
        },
        "id": "V6Ad-JCpselF",
        "outputId": "248a4b18-fd2e-402f-a919-56cfcdfcba6a"
      },
      "execution_count": null,
      "outputs": [
        {
          "output_type": "stream",
          "name": "stdout",
          "text": [
            "1\n",
            "2\n",
            "3\n",
            "4\n",
            "5\n"
          ]
        }
      ]
    },
    {
      "cell_type": "code",
      "source": [
        ""
      ],
      "metadata": {
        "id": "mcd6Mb9tsmoG"
      },
      "execution_count": null,
      "outputs": []
    }
  ]
}