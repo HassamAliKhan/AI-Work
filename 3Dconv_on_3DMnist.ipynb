{
  "nbformat": 4,
  "nbformat_minor": 0,
  "metadata": {
    "colab": {
      "name": "3Dconv_on_3DMnist.ipynb",
      "provenance": [],
      "collapsed_sections": []
    },
    "kernelspec": {
      "name": "python3",
      "display_name": "Python 3"
    },
    "language_info": {
      "name": "python"
    },
    "accelerator": "GPU",
    "gpuClass": "standard"
  },
  "cells": [
    {
      "cell_type": "code",
      "source": [
        "'''\n",
        "  A simple Conv3D example with TensorFlow 2 based Keras\n",
        "'''\n",
        "import tensorflow\n",
        "from tensorflow.keras.models import Sequential\n",
        "from tensorflow.keras.layers import Dense, Flatten, Conv3D, MaxPooling3D\n",
        "from tensorflow.keras.utils import to_categorical\n",
        "#Used for 3D file extraction\n",
        "import h5py\n",
        "import numpy as np\n",
        "import matplotlib.pyplot as plt\n",
        "from tensorflow.keras.layers import Dense, Flatten, Conv3D, MaxPooling3D, Dropout"
      ],
      "metadata": {
        "id": "-hy9sAAn_zdx"
      },
      "execution_count": 1,
      "outputs": []
    },
    {
      "cell_type": "code",
      "source": [
        "!pwd\n",
        "import os\n",
        "os.environ['KAGGLE_CONFIG_DIR']='/content'"
      ],
      "metadata": {
        "colab": {
          "base_uri": "https://localhost:8080/"
        },
        "id": "YdKQIA1rA_ln",
        "outputId": "f20e2b70-32d9-481f-f06b-930064300bbd"
      },
      "execution_count": 2,
      "outputs": [
        {
          "output_type": "stream",
          "name": "stdout",
          "text": [
            "/content\n"
          ]
        }
      ]
    },
    {
      "cell_type": "code",
      "source": [
        "! pip install -q kaggle"
      ],
      "metadata": {
        "id": "iK_cWNvTBGkH"
      },
      "execution_count": 3,
      "outputs": []
    },
    {
      "cell_type": "code",
      "source": [
        "! mkdir ~/.kaggle\n",
        "! cp kaggle.json ~/.kaggle/\n",
        "! chmod 600  ~/.kaggle/kaggle.json\n",
        "! kaggle datasets download -d daavoo/3d-mnist"
      ],
      "metadata": {
        "colab": {
          "base_uri": "https://localhost:8080/"
        },
        "id": "nPCs7uOLBIQu",
        "outputId": "e2c754a7-5805-4c6c-c00e-5e1d1e568a4b"
      },
      "execution_count": 4,
      "outputs": [
        {
          "output_type": "stream",
          "name": "stdout",
          "text": [
            "Warning: Your Kaggle API key is readable by other users on this system! To fix this, you can run 'chmod 600 /content/kaggle.json'\n",
            "Downloading 3d-mnist.zip to /content\n",
            " 95% 145M/153M [00:04<00:00, 35.0MB/s]\n",
            "100% 153M/153M [00:04<00:00, 34.0MB/s]\n"
          ]
        }
      ]
    },
    {
      "cell_type": "code",
      "source": [
        "! unzip 3d-mnist.zip"
      ],
      "metadata": {
        "colab": {
          "base_uri": "https://localhost:8080/"
        },
        "id": "5xSsO9mTC2qV",
        "outputId": "84a9c016-8931-453e-ddbe-cb14620d7efc"
      },
      "execution_count": 5,
      "outputs": [
        {
          "output_type": "stream",
          "name": "stdout",
          "text": [
            "Archive:  3d-mnist.zip\n",
            "  inflating: full_dataset_vectors.h5  \n",
            "  inflating: plot3D.py               \n",
            "  inflating: test_point_clouds.h5    \n",
            "  inflating: train_point_clouds.h5   \n",
            "  inflating: voxelgrid.py            \n"
          ]
        }
      ]
    },
    {
      "cell_type": "code",
      "source": [
        "# -- Preparatory code --\n",
        "# Model configuration\n",
        "batch_size = 100\n",
        "no_epochs = 100\n",
        "learning_rate = 0.001\n",
        "no_classes = 10\n",
        "validation_split = 0.2\n",
        "verbosity = 1\n",
        "\n",
        "# Convert 1D vector into 3D values, provided by the 3D MNIST authors at\n",
        "#Used for converting the channels from 1 to 3rgb\n",
        "# https://www.kaggle.com/daavoo/3d-mnist\n",
        "def array_to_color(array, cmap=\"Oranges\"):\n",
        "  s_m = plt.cm.ScalarMappable(cmap=cmap)\n",
        "  return s_m.to_rgba(array)[:,:-1]\n",
        "\n",
        "# Reshape data into format that can be handled by Conv3D layers.\n",
        "# Courtesy of Sam Berglin; Zheming Lian; Jiahui Jang - University of Wisconsin-Madison\n",
        "# Report - https://github.com/sberglin/Projects-and-Papers/blob/master/3D%20CNN/Report.pdf\n",
        "# Code - https://github.com/sberglin/Projects-and-Papers/blob/master/3D%20CNN/network_final_version.ipynb\n",
        "#Used for converting it into a 4d array with 1 being the channels rgb\n",
        "def rgb_data_transform(data):\n",
        "  data_t = []\n",
        "  for i in range(data.shape[0]):\n",
        "    data_t.append(array_to_color(data[i]).reshape(16, 16, 16, 3))\n",
        "  return np.asarray(data_t, dtype=np.float32)\n"
      ],
      "metadata": {
        "id": "8I-nMeAi_469"
      },
      "execution_count": 14,
      "outputs": []
    },
    {
      "cell_type": "code",
      "execution_count": 20,
      "metadata": {
        "colab": {
          "base_uri": "https://localhost:8080/",
          "height": 1000
        },
        "id": "8WtVre9p_qAI",
        "outputId": "1d74ff04-0bf4-4ed6-bd65-9b2b17d85cf2"
      },
      "outputs": [
        {
          "output_type": "stream",
          "name": "stdout",
          "text": [
            "Epoch 1/100\n",
            "80/80 [==============================] - 3s 30ms/step - loss: 3.0099 - accuracy: 0.1045 - val_loss: 2.3015 - val_accuracy: 0.1190\n",
            "Epoch 2/100\n",
            "80/80 [==============================] - 2s 26ms/step - loss: 2.3017 - accuracy: 0.1109 - val_loss: 2.2997 - val_accuracy: 0.1190\n",
            "Epoch 3/100\n",
            "80/80 [==============================] - 2s 27ms/step - loss: 2.3015 - accuracy: 0.1142 - val_loss: 2.2992 - val_accuracy: 0.1190\n",
            "Epoch 4/100\n",
            "80/80 [==============================] - 2s 26ms/step - loss: 2.3012 - accuracy: 0.1141 - val_loss: 2.2985 - val_accuracy: 0.1190\n",
            "Epoch 5/100\n",
            "80/80 [==============================] - 2s 26ms/step - loss: 2.3010 - accuracy: 0.1141 - val_loss: 2.2986 - val_accuracy: 0.1190\n",
            "Epoch 6/100\n",
            "80/80 [==============================] - 2s 26ms/step - loss: 2.3009 - accuracy: 0.1098 - val_loss: 2.2986 - val_accuracy: 0.1190\n",
            "Epoch 7/100\n",
            "80/80 [==============================] - 2s 28ms/step - loss: 2.3007 - accuracy: 0.1144 - val_loss: 2.2984 - val_accuracy: 0.1190\n",
            "Epoch 8/100\n",
            "80/80 [==============================] - 2s 28ms/step - loss: 2.3001 - accuracy: 0.1086 - val_loss: 2.2983 - val_accuracy: 0.1190\n",
            "Epoch 9/100\n",
            "80/80 [==============================] - 2s 26ms/step - loss: 2.2984 - accuracy: 0.1181 - val_loss: 2.2883 - val_accuracy: 0.1450\n",
            "Epoch 10/100\n",
            "80/80 [==============================] - 2s 28ms/step - loss: 2.2721 - accuracy: 0.1503 - val_loss: 2.2231 - val_accuracy: 0.2115\n",
            "Epoch 11/100\n",
            "80/80 [==============================] - 2s 28ms/step - loss: 2.2290 - accuracy: 0.1756 - val_loss: 2.1942 - val_accuracy: 0.2155\n",
            "Epoch 12/100\n",
            "80/80 [==============================] - 2s 27ms/step - loss: 2.1501 - accuracy: 0.2221 - val_loss: 2.0199 - val_accuracy: 0.2920\n",
            "Epoch 13/100\n",
            "80/80 [==============================] - 2s 27ms/step - loss: 2.0418 - accuracy: 0.2655 - val_loss: 1.9767 - val_accuracy: 0.3090\n",
            "Epoch 14/100\n",
            "80/80 [==============================] - 2s 27ms/step - loss: 1.9415 - accuracy: 0.3063 - val_loss: 1.7388 - val_accuracy: 0.3925\n",
            "Epoch 15/100\n",
            "80/80 [==============================] - 2s 27ms/step - loss: 1.8095 - accuracy: 0.3571 - val_loss: 1.6280 - val_accuracy: 0.4145\n",
            "Epoch 16/100\n",
            "80/80 [==============================] - 2s 28ms/step - loss: 1.7451 - accuracy: 0.3821 - val_loss: 1.5623 - val_accuracy: 0.4555\n",
            "Epoch 17/100\n",
            "80/80 [==============================] - 2s 28ms/step - loss: 1.6758 - accuracy: 0.4050 - val_loss: 1.4663 - val_accuracy: 0.4795\n",
            "Epoch 18/100\n",
            "80/80 [==============================] - 2s 28ms/step - loss: 1.5889 - accuracy: 0.4374 - val_loss: 1.4055 - val_accuracy: 0.5005\n",
            "Epoch 19/100\n",
            "80/80 [==============================] - 2s 27ms/step - loss: 1.5317 - accuracy: 0.4563 - val_loss: 1.3472 - val_accuracy: 0.5120\n",
            "Epoch 20/100\n",
            "80/80 [==============================] - 2s 26ms/step - loss: 1.4676 - accuracy: 0.4801 - val_loss: 1.3070 - val_accuracy: 0.5350\n",
            "Epoch 21/100\n",
            "80/80 [==============================] - 2s 28ms/step - loss: 1.4305 - accuracy: 0.4939 - val_loss: 1.2740 - val_accuracy: 0.5500\n",
            "Epoch 22/100\n",
            "80/80 [==============================] - 2s 26ms/step - loss: 1.4011 - accuracy: 0.5017 - val_loss: 1.2789 - val_accuracy: 0.5345\n",
            "Epoch 23/100\n",
            "80/80 [==============================] - 2s 28ms/step - loss: 1.3392 - accuracy: 0.5319 - val_loss: 1.1789 - val_accuracy: 0.5925\n",
            "Epoch 24/100\n",
            "80/80 [==============================] - 2s 26ms/step - loss: 1.3199 - accuracy: 0.5360 - val_loss: 1.1763 - val_accuracy: 0.5965\n",
            "Epoch 25/100\n",
            "80/80 [==============================] - 2s 26ms/step - loss: 1.2996 - accuracy: 0.5472 - val_loss: 1.1400 - val_accuracy: 0.6075\n",
            "Epoch 26/100\n",
            "80/80 [==============================] - 2s 28ms/step - loss: 1.2828 - accuracy: 0.5483 - val_loss: 1.1504 - val_accuracy: 0.6075\n",
            "Epoch 27/100\n",
            "80/80 [==============================] - 2s 28ms/step - loss: 1.2575 - accuracy: 0.5544 - val_loss: 1.1863 - val_accuracy: 0.5885\n",
            "Epoch 28/100\n",
            "80/80 [==============================] - 2s 28ms/step - loss: 1.2303 - accuracy: 0.5670 - val_loss: 1.1259 - val_accuracy: 0.6335\n",
            "Epoch 29/100\n",
            "80/80 [==============================] - 2s 28ms/step - loss: 1.2212 - accuracy: 0.5699 - val_loss: 1.1053 - val_accuracy: 0.6340\n",
            "Epoch 30/100\n",
            "80/80 [==============================] - 2s 30ms/step - loss: 1.2057 - accuracy: 0.5732 - val_loss: 1.1259 - val_accuracy: 0.6275\n",
            "Epoch 31/100\n",
            "80/80 [==============================] - 2s 28ms/step - loss: 1.2006 - accuracy: 0.5789 - val_loss: 1.0655 - val_accuracy: 0.6400\n",
            "Epoch 32/100\n",
            "80/80 [==============================] - 2s 26ms/step - loss: 1.1831 - accuracy: 0.5874 - val_loss: 1.0696 - val_accuracy: 0.6415\n",
            "Epoch 33/100\n",
            "80/80 [==============================] - 2s 28ms/step - loss: 1.1713 - accuracy: 0.5894 - val_loss: 1.0632 - val_accuracy: 0.6430\n",
            "Epoch 34/100\n",
            "80/80 [==============================] - 2s 28ms/step - loss: 1.1686 - accuracy: 0.5896 - val_loss: 1.0631 - val_accuracy: 0.6405\n",
            "Epoch 35/100\n",
            "80/80 [==============================] - 2s 27ms/step - loss: 1.1595 - accuracy: 0.5955 - val_loss: 1.0370 - val_accuracy: 0.6490\n",
            "Epoch 36/100\n",
            "80/80 [==============================] - 2s 26ms/step - loss: 1.1424 - accuracy: 0.5979 - val_loss: 1.0258 - val_accuracy: 0.6555\n",
            "Epoch 37/100\n",
            "80/80 [==============================] - 2s 26ms/step - loss: 1.1277 - accuracy: 0.6036 - val_loss: 1.0470 - val_accuracy: 0.6495\n",
            "Epoch 38/100\n",
            "80/80 [==============================] - 2s 26ms/step - loss: 1.1167 - accuracy: 0.6068 - val_loss: 1.0300 - val_accuracy: 0.6620\n",
            "Epoch 39/100\n",
            "80/80 [==============================] - 2s 27ms/step - loss: 1.1338 - accuracy: 0.6046 - val_loss: 1.0510 - val_accuracy: 0.6475\n",
            "Epoch 40/100\n",
            "80/80 [==============================] - 2s 27ms/step - loss: 1.0984 - accuracy: 0.6146 - val_loss: 1.0263 - val_accuracy: 0.6565\n",
            "Epoch 41/100\n",
            "80/80 [==============================] - 2s 28ms/step - loss: 1.1074 - accuracy: 0.6111 - val_loss: 1.0627 - val_accuracy: 0.6530\n",
            "Epoch 42/100\n",
            "80/80 [==============================] - 2s 26ms/step - loss: 1.0987 - accuracy: 0.6186 - val_loss: 1.0378 - val_accuracy: 0.6385\n",
            "Epoch 43/100\n",
            "80/80 [==============================] - 2s 28ms/step - loss: 1.0945 - accuracy: 0.6177 - val_loss: 1.0010 - val_accuracy: 0.6530\n",
            "Epoch 44/100\n",
            "80/80 [==============================] - 2s 26ms/step - loss: 1.0851 - accuracy: 0.6215 - val_loss: 1.0041 - val_accuracy: 0.6620\n",
            "Epoch 45/100\n",
            "80/80 [==============================] - 2s 26ms/step - loss: 1.0820 - accuracy: 0.6241 - val_loss: 1.0186 - val_accuracy: 0.6535\n",
            "Epoch 46/100\n",
            "80/80 [==============================] - 2s 26ms/step - loss: 1.0723 - accuracy: 0.6255 - val_loss: 1.0162 - val_accuracy: 0.6580\n",
            "Epoch 47/100\n",
            "80/80 [==============================] - 2s 26ms/step - loss: 1.0778 - accuracy: 0.6270 - val_loss: 0.9832 - val_accuracy: 0.6640\n",
            "Epoch 48/100\n",
            "80/80 [==============================] - 2s 28ms/step - loss: 1.0525 - accuracy: 0.6325 - val_loss: 0.9853 - val_accuracy: 0.6795\n",
            "Epoch 49/100\n",
            "80/80 [==============================] - 2s 28ms/step - loss: 1.0420 - accuracy: 0.6323 - val_loss: 1.0101 - val_accuracy: 0.6470\n",
            "Epoch 50/100\n",
            "80/80 [==============================] - 2s 26ms/step - loss: 1.0460 - accuracy: 0.6349 - val_loss: 0.9724 - val_accuracy: 0.6770\n",
            "Epoch 51/100\n",
            "80/80 [==============================] - 2s 26ms/step - loss: 1.0286 - accuracy: 0.6376 - val_loss: 0.9933 - val_accuracy: 0.6595\n",
            "Epoch 52/100\n",
            "80/80 [==============================] - 2s 28ms/step - loss: 1.0336 - accuracy: 0.6375 - val_loss: 0.9713 - val_accuracy: 0.6770\n",
            "Epoch 53/100\n",
            "80/80 [==============================] - 2s 26ms/step - loss: 1.0188 - accuracy: 0.6400 - val_loss: 0.9641 - val_accuracy: 0.6865\n",
            "Epoch 54/100\n",
            "80/80 [==============================] - 2s 28ms/step - loss: 1.0136 - accuracy: 0.6464 - val_loss: 0.9416 - val_accuracy: 0.6865\n",
            "Epoch 55/100\n",
            "80/80 [==============================] - 2s 28ms/step - loss: 1.0040 - accuracy: 0.6536 - val_loss: 0.9622 - val_accuracy: 0.6775\n",
            "Epoch 56/100\n",
            "80/80 [==============================] - 2s 26ms/step - loss: 1.0149 - accuracy: 0.6457 - val_loss: 0.9677 - val_accuracy: 0.6780\n",
            "Epoch 57/100\n",
            "80/80 [==============================] - 2s 28ms/step - loss: 0.9997 - accuracy: 0.6481 - val_loss: 0.9482 - val_accuracy: 0.6885\n",
            "Epoch 58/100\n",
            "80/80 [==============================] - 2s 26ms/step - loss: 0.9978 - accuracy: 0.6515 - val_loss: 0.9270 - val_accuracy: 0.6955\n",
            "Epoch 59/100\n",
            "80/80 [==============================] - 2s 28ms/step - loss: 0.9870 - accuracy: 0.6575 - val_loss: 0.9483 - val_accuracy: 0.6755\n",
            "Epoch 60/100\n",
            "80/80 [==============================] - 2s 26ms/step - loss: 0.9852 - accuracy: 0.6556 - val_loss: 0.9267 - val_accuracy: 0.6950\n",
            "Epoch 61/100\n",
            "80/80 [==============================] - 2s 28ms/step - loss: 0.9916 - accuracy: 0.6531 - val_loss: 0.9171 - val_accuracy: 0.6965\n",
            "Epoch 62/100\n",
            "80/80 [==============================] - 2s 28ms/step - loss: 0.9809 - accuracy: 0.6591 - val_loss: 0.9354 - val_accuracy: 0.6825\n",
            "Epoch 63/100\n",
            "80/80 [==============================] - 2s 28ms/step - loss: 0.9880 - accuracy: 0.6522 - val_loss: 0.9518 - val_accuracy: 0.6800\n",
            "Epoch 64/100\n",
            "80/80 [==============================] - 2s 28ms/step - loss: 0.9779 - accuracy: 0.6590 - val_loss: 0.9309 - val_accuracy: 0.6770\n",
            "Epoch 65/100\n",
            "80/80 [==============================] - 2s 28ms/step - loss: 0.9585 - accuracy: 0.6635 - val_loss: 0.9095 - val_accuracy: 0.6980\n",
            "Epoch 66/100\n",
            "80/80 [==============================] - 2s 28ms/step - loss: 0.9630 - accuracy: 0.6621 - val_loss: 0.9183 - val_accuracy: 0.6920\n",
            "Epoch 67/100\n",
            "80/80 [==============================] - 2s 26ms/step - loss: 0.9490 - accuracy: 0.6726 - val_loss: 0.9258 - val_accuracy: 0.6915\n",
            "Epoch 68/100\n",
            "80/80 [==============================] - 2s 26ms/step - loss: 0.9430 - accuracy: 0.6690 - val_loss: 0.9076 - val_accuracy: 0.6900\n",
            "Epoch 69/100\n",
            "80/80 [==============================] - 2s 28ms/step - loss: 0.9461 - accuracy: 0.6664 - val_loss: 0.9363 - val_accuracy: 0.6955\n",
            "Epoch 70/100\n",
            "80/80 [==============================] - 2s 26ms/step - loss: 0.9539 - accuracy: 0.6668 - val_loss: 0.9409 - val_accuracy: 0.6885\n",
            "Epoch 71/100\n",
            "80/80 [==============================] - 2s 28ms/step - loss: 0.9452 - accuracy: 0.6694 - val_loss: 0.9122 - val_accuracy: 0.6950\n",
            "Epoch 72/100\n",
            "80/80 [==============================] - 2s 28ms/step - loss: 0.9255 - accuracy: 0.6758 - val_loss: 0.9196 - val_accuracy: 0.6925\n",
            "Epoch 73/100\n",
            "80/80 [==============================] - 2s 26ms/step - loss: 0.9409 - accuracy: 0.6722 - val_loss: 0.9101 - val_accuracy: 0.6995\n",
            "Epoch 74/100\n",
            "80/80 [==============================] - 2s 26ms/step - loss: 0.9064 - accuracy: 0.6850 - val_loss: 0.8896 - val_accuracy: 0.7090\n",
            "Epoch 75/100\n",
            "80/80 [==============================] - 2s 28ms/step - loss: 0.9188 - accuracy: 0.6804 - val_loss: 0.8786 - val_accuracy: 0.7000\n",
            "Epoch 76/100\n",
            "80/80 [==============================] - 2s 26ms/step - loss: 0.9170 - accuracy: 0.6798 - val_loss: 0.8729 - val_accuracy: 0.7045\n",
            "Epoch 77/100\n",
            "80/80 [==============================] - 2s 26ms/step - loss: 0.9156 - accuracy: 0.6827 - val_loss: 0.8877 - val_accuracy: 0.7030\n",
            "Epoch 78/100\n",
            "80/80 [==============================] - 2s 26ms/step - loss: 0.9154 - accuracy: 0.6802 - val_loss: 0.9087 - val_accuracy: 0.6940\n",
            "Epoch 79/100\n",
            "80/80 [==============================] - 2s 28ms/step - loss: 0.9019 - accuracy: 0.6852 - val_loss: 0.8842 - val_accuracy: 0.7050\n",
            "Epoch 80/100\n",
            "80/80 [==============================] - 2s 28ms/step - loss: 0.8936 - accuracy: 0.6881 - val_loss: 0.8664 - val_accuracy: 0.7125\n",
            "Epoch 81/100\n",
            "80/80 [==============================] - 2s 26ms/step - loss: 0.8935 - accuracy: 0.6879 - val_loss: 0.8671 - val_accuracy: 0.7140\n",
            "Epoch 82/100\n",
            "80/80 [==============================] - 2s 28ms/step - loss: 0.9024 - accuracy: 0.6833 - val_loss: 0.8860 - val_accuracy: 0.6950\n",
            "Epoch 83/100\n",
            "80/80 [==============================] - 2s 28ms/step - loss: 0.8848 - accuracy: 0.6906 - val_loss: 0.8781 - val_accuracy: 0.7175\n",
            "Epoch 84/100\n",
            "80/80 [==============================] - 2s 28ms/step - loss: 0.8864 - accuracy: 0.6965 - val_loss: 0.8692 - val_accuracy: 0.7075\n",
            "Epoch 85/100\n",
            "80/80 [==============================] - 2s 28ms/step - loss: 0.8887 - accuracy: 0.6948 - val_loss: 0.8684 - val_accuracy: 0.7085\n",
            "Epoch 86/100\n",
            "80/80 [==============================] - 2s 28ms/step - loss: 0.8889 - accuracy: 0.6852 - val_loss: 0.8683 - val_accuracy: 0.7070\n",
            "Epoch 87/100\n",
            "80/80 [==============================] - 2s 26ms/step - loss: 0.8818 - accuracy: 0.6919 - val_loss: 0.8672 - val_accuracy: 0.7115\n",
            "Epoch 88/100\n",
            "80/80 [==============================] - 2s 26ms/step - loss: 0.8750 - accuracy: 0.6967 - val_loss: 0.8656 - val_accuracy: 0.7070\n",
            "Epoch 89/100\n",
            "80/80 [==============================] - 2s 26ms/step - loss: 0.8789 - accuracy: 0.6908 - val_loss: 0.8614 - val_accuracy: 0.7075\n",
            "Epoch 90/100\n",
            "80/80 [==============================] - 2s 26ms/step - loss: 0.8742 - accuracy: 0.6935 - val_loss: 0.8691 - val_accuracy: 0.7095\n",
            "Epoch 91/100\n",
            "80/80 [==============================] - 2s 26ms/step - loss: 0.8479 - accuracy: 0.7048 - val_loss: 0.8517 - val_accuracy: 0.7090\n",
            "Epoch 92/100\n",
            "80/80 [==============================] - 2s 29ms/step - loss: 0.8480 - accuracy: 0.7090 - val_loss: 0.8646 - val_accuracy: 0.7070\n",
            "Epoch 93/100\n",
            "80/80 [==============================] - 2s 27ms/step - loss: 0.8625 - accuracy: 0.7000 - val_loss: 0.8674 - val_accuracy: 0.7150\n",
            "Epoch 94/100\n",
            "80/80 [==============================] - 2s 26ms/step - loss: 0.8695 - accuracy: 0.6970 - val_loss: 0.8976 - val_accuracy: 0.7015\n",
            "Epoch 95/100\n",
            "80/80 [==============================] - 2s 26ms/step - loss: 0.8490 - accuracy: 0.7044 - val_loss: 0.8573 - val_accuracy: 0.7310\n",
            "Epoch 96/100\n",
            "80/80 [==============================] - 2s 28ms/step - loss: 0.8552 - accuracy: 0.7039 - val_loss: 0.8535 - val_accuracy: 0.7305\n",
            "Epoch 97/100\n",
            "80/80 [==============================] - 2s 26ms/step - loss: 0.8581 - accuracy: 0.7019 - val_loss: 0.8579 - val_accuracy: 0.7145\n",
            "Epoch 98/100\n",
            "80/80 [==============================] - 2s 28ms/step - loss: 0.8579 - accuracy: 0.7029 - val_loss: 0.8685 - val_accuracy: 0.7045\n",
            "Epoch 99/100\n",
            "80/80 [==============================] - 2s 26ms/step - loss: 0.8557 - accuracy: 0.7014 - val_loss: 0.8354 - val_accuracy: 0.7170\n",
            "Epoch 100/100\n",
            "80/80 [==============================] - 2s 26ms/step - loss: 0.8609 - accuracy: 0.7014 - val_loss: 0.8521 - val_accuracy: 0.7220\n",
            "Test loss: 0.8169367909431458 / Test accuracy: 0.7245000004768372\n"
          ]
        },
        {
          "output_type": "display_data",
          "data": {
            "text/plain": [
              "<Figure size 432x288 with 1 Axes>"
            ],
            "image/png": "[encoded data removed]"
          },
          "metadata": {
            "needs_background": "light"
          }
        }
      ],
      "source": [
        "\n",
        "# -- Process code --\n",
        "# Load the HDF5 data file\n",
        "with h5py.File(\"./full_dataset_vectors.h5\", \"r\") as hf:    \n",
        "\n",
        "    # Split the data into training/test features/targets\n",
        "    X_train = hf[\"X_train\"][:]\n",
        "    targets_train = hf[\"y_train\"][:]\n",
        "    X_test = hf[\"X_test\"][:] \n",
        "    targets_test = hf[\"y_test\"][:]\n",
        "\n",
        "    # Determine sample shape\n",
        "    sample_shape = (16, 16, 16, 3)\n",
        "\n",
        "    # Reshape data into 3D format\n",
        "    X_train = rgb_data_transform(X_train)\n",
        "    X_test = rgb_data_transform(X_test)\n",
        "\n",
        "    # Convert target vectors to categorical targets\n",
        "    targets_train = to_categorical(targets_train).astype(np.int64)\n",
        "    targets_test = to_categorical(targets_test).astype(np.int64)\n",
        "    \n",
        "    # Create the model\n",
        "    model = Sequential()\n",
        "    model.add(Conv3D(32, kernel_size=(3, 3, 3), activation='relu', kernel_initializer='he_uniform',padding='same', input_shape=sample_shape))\n",
        "    model.add(MaxPooling3D(pool_size=(2, 2, 2)))\n",
        "    model.add(Dropout(0.5))\n",
        "    model.add(Conv3D(64, kernel_size=(3, 3, 3), activation='relu', kernel_initializer='he_uniform',padding='same'))\n",
        "    model.add(MaxPooling3D(pool_size=(2, 2, 2)))\n",
        "    model.add(Dropout(0.5))\n",
        "    model.add(Conv3D(128, kernel_size=(3, 3, 3), activation='relu', kernel_initializer='he_uniform',padding='same'))\n",
        "    model.add(MaxPooling3D(pool_size=(2, 2, 2)))\n",
        "    model.add(Dropout(0.5))\n",
        "    model.add(Conv3D(256, kernel_size=(3, 3, 3), activation='relu', kernel_initializer='he_uniform',padding='same'))\n",
        "    model.add(MaxPooling3D(pool_size=(2, 2, 2)))\n",
        "    model.add(Dropout(0.5))\n",
        "    model.add(Flatten())\n",
        "    model.add(Dense(512, activation='relu', kernel_initializer='he_uniform'))\n",
        "    model.add(Dense(no_classes, activation='softmax'))\n",
        "\n",
        "    tensorflow.keras.backend.clear_session()\n",
        "    # Compile the model\n",
        "    model.compile(loss=tensorflow.keras.losses.categorical_crossentropy,\n",
        "                  optimizer=tensorflow.keras.optimizers.Adam(learning_rate=learning_rate),\n",
        "                  metrics=['accuracy'])\n",
        "\n",
        "    # Fit data to model\n",
        "    history = model.fit(X_train, targets_train,\n",
        "                batch_size=batch_size,\n",
        "                epochs=no_epochs,\n",
        "                verbose=verbosity,\n",
        "                validation_split=validation_split)\n",
        "\n",
        "    # Generate generalization metrics\n",
        "    score = model.evaluate(X_test, targets_test, verbose=0)\n",
        "    print(f'Test loss: {score[0]} / Test accuracy: {score[1]}')\n",
        "\n",
        "    # Plot history: Categorical crossentropy & Accuracy\n",
        "    plt.plot(history.history['loss'], label='Categorical crossentropy (training data)')\n",
        "    plt.plot(history.history['val_loss'], label='Categorical crossentropy (validation data)')\n",
        "    plt.plot(history.history['accuracy'], label='Accuracy (training data)')\n",
        "    plt.plot(history.history['val_accuracy'], label='Accuracy (validation data)')\n",
        "    plt.title('Model performance for 3D MNIST Keras Conv3D example')\n",
        "    plt.ylabel('Loss value')\n",
        "    plt.xlabel('No. epoch')\n",
        "    plt.legend(loc=\"upper left\")\n",
        "    plt.show()"
      ]
    },
    {
      "cell_type": "code",
      "source": [
        ""
      ],
      "metadata": {
        "id": "rlv5anC5Cwwt"
      },
      "execution_count": null,
      "outputs": []
    }
  ]
}