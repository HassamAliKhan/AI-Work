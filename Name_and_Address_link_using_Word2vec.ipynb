{
  "nbformat": 4,
  "nbformat_minor": 0,
  "metadata": {
    "colab": {
      "provenance": []
    },
    "kernelspec": {
      "name": "python3",
      "display_name": "Python 3"
    },
    "language_info": {
      "name": "python"
    }
  },
  "cells": [
    {
      "cell_type": "code",
      "execution_count": 24,
      "metadata": {
        "id": "GxIEDzp3Jd97"
      },
      "outputs": [],
      "source": []
    },
    {
      "cell_type": "code",
      "source": [
        "df = pd.read_csv('nameandaddress.csv',names=['Name','Address'])"
      ],
      "metadata": {
        "id": "YOIiIEO3JgwN"
      },
      "execution_count": 3,
      "outputs": []
    },
    {
      "cell_type": "code",
      "source": [
        "df"
      ],
      "metadata": {
        "colab": {
          "base_uri": "https://localhost:8080/",
          "height": 363
        },
        "id": "1H8FZQyTJjnt",
        "outputId": "9f95c08c-871e-4955-e1a7-ad30e78bbbf3"
      },
      "execution_count": 4,
      "outputs": [
        {
          "output_type": "execute_result",
          "data": {
            "text/plain": [
              "            Name   Address\n",
              "0    Hammad Khan   House#2\n",
              "1    Hassam Khan   House#1\n",
              "2    Haseeb Asif   House#3\n",
              "3   Asad Liaquat   House#4\n",
              "4   Azam Hussain   House#5\n",
              "5     Hamza Butt   House#6\n",
              "6     Zain Jamil   House#7\n",
              "7      Ali Nawaz   House#8\n",
              "8  Noor Ur Ameen   House#9\n",
              "9     Jan Nisaar  House#10"
            ],
            "text/html": [
              "\n",
              "  <div id=\"df-e5512acd-be5a-47ba-9572-54d25f460605\">\n",
              "    <div class=\"colab-df-container\">\n",
              "      <div>\n",
              "<style scoped>\n",
              "    .dataframe tbody tr th:only-of-type {\n",
              "        vertical-align: middle;\n",
              "    }\n",
              "\n",
              "    .dataframe tbody tr th {\n",
              "        vertical-align: top;\n",
              "    }\n",
              "\n",
              "    .dataframe thead th {\n",
              "        text-align: right;\n",
              "    }\n",
              "</style>\n",
              "<table border=\"1\" class=\"dataframe\">\n",
              "  <thead>\n",
              "    <tr style=\"text-align: right;\">\n",
              "      <th></th>\n",
              "      <th>Name</th>\n",
              "      <th>Address</th>\n",
              "    </tr>\n",
              "  </thead>\n",
              "  <tbody>\n",
              "    <tr>\n",
              "      <th>0</th>\n",
              "      <td>Hammad Khan</td>\n",
              "      <td>House#2</td>\n",
              "    </tr>\n",
              "    <tr>\n",
              "      <th>1</th>\n",
              "      <td>Hassam Khan</td>\n",
              "      <td>House#1</td>\n",
              "    </tr>\n",
              "    <tr>\n",
              "      <th>2</th>\n",
              "      <td>Haseeb Asif</td>\n",
              "      <td>House#3</td>\n",
              "    </tr>\n",
              "    <tr>\n",
              "      <th>3</th>\n",
              "      <td>Asad Liaquat</td>\n",
              "      <td>House#4</td>\n",
              "    </tr>\n",
              "    <tr>\n",
              "      <th>4</th>\n",
              "      <td>Azam Hussain</td>\n",
              "      <td>House#5</td>\n",
              "    </tr>\n",
              "    <tr>\n",
              "      <th>5</th>\n",
              "      <td>Hamza Butt</td>\n",
              "      <td>House#6</td>\n",
              "    </tr>\n",
              "    <tr>\n",
              "      <th>6</th>\n",
              "      <td>Zain Jamil</td>\n",
              "      <td>House#7</td>\n",
              "    </tr>\n",
              "    <tr>\n",
              "      <th>7</th>\n",
              "      <td>Ali Nawaz</td>\n",
              "      <td>House#8</td>\n",
              "    </tr>\n",
              "    <tr>\n",
              "      <th>8</th>\n",
              "      <td>Noor Ur Ameen</td>\n",
              "      <td>House#9</td>\n",
              "    </tr>\n",
              "    <tr>\n",
              "      <th>9</th>\n",
              "      <td>Jan Nisaar</td>\n",
              "      <td>House#10</td>\n",
              "    </tr>\n",
              "  </tbody>\n",
              "</table>\n",
              "</div>\n",
              "      <button class=\"colab-df-convert\" onclick=\"convertToInteractive('df-e5512acd-be5a-47ba-9572-54d25f460605')\"\n",
              "              title=\"Convert this dataframe to an interactive table.\"\n",
              "              style=\"display:none;\">\n",
              "        \n",
              "  <svg xmlns=\"http://www.w3.org/2000/svg\" height=\"24px\"viewBox=\"0 0 24 24\"\n",
              "       width=\"24px\">\n",
              "    <path d=\"M0 0h24v24H0V0z\" fill=\"none\"/>\n",
              "    <path d=\"M18.56 5.44l.94 2.06.94-2.06 2.06-.94-2.06-.94-.94-2.06-.94 2.06-2.06.94zm-11 1L8.5 8.5l.94-2.06 2.06-.94-2.06-.94L8.5 2.5l-.94 2.06-2.06.94zm10 10l.94 2.06.94-2.06 2.06-.94-2.06-.94-.94-2.06-.94 2.06-2.06.94z\"/><path d=\"M17.41 7.96l-1.37-1.37c-.4-.4-.92-.59-1.43-.59-.52 0-1.04.2-1.43.59L10.3 9.45l-7.72 7.72c-.78.78-.78 2.05 0 2.83L4 21.41c.39.39.9.59 1.41.59.51 0 1.02-.2 1.41-.59l7.78-7.78 2.81-2.81c.8-.78.8-2.07 0-2.86zM5.41 20L4 18.59l7.72-7.72 1.47 1.35L5.41 20z\"/>\n",
              "  </svg>\n",
              "      </button>\n",
              "      \n",
              "  <style>\n",
              "    .colab-df-container {\n",
              "      display:flex;\n",
              "      flex-wrap:wrap;\n",
              "      gap: 12px;\n",
              "    }\n",
              "\n",
              "    .colab-df-convert {\n",
              "      background-color: #E8F0FE;\n",
              "      border: none;\n",
              "      border-radius: 50%;\n",
              "      cursor: pointer;\n",
              "      display: none;\n",
              "      fill: #1967D2;\n",
              "      height: 32px;\n",
              "      padding: 0 0 0 0;\n",
              "      width: 32px;\n",
              "    }\n",
              "\n",
              "    .colab-df-convert:hover {\n",
              "      background-color: #E2EBFA;\n",
              "      box-shadow: 0px 1px 2px rgba(60, 64, 67, 0.3), 0px 1px 3px 1px rgba(60, 64, 67, 0.15);\n",
              "      fill: #174EA6;\n",
              "    }\n",
              "\n",
              "    [theme=dark] .colab-df-convert {\n",
              "      background-color: #3B4455;\n",
              "      fill: #D2E3FC;\n",
              "    }\n",
              "\n",
              "    [theme=dark] .colab-df-convert:hover {\n",
              "      background-color: #434B5C;\n",
              "      box-shadow: 0px 1px 3px 1px rgba(0, 0, 0, 0.15);\n",
              "      filter: drop-shadow(0px 1px 2px rgba(0, 0, 0, 0.3));\n",
              "      fill: #FFFFFF;\n",
              "    }\n",
              "  </style>\n",
              "\n",
              "      <script>\n",
              "        const buttonEl =\n",
              "          document.querySelector('#df-e5512acd-be5a-47ba-9572-54d25f460605 button.colab-df-convert');\n",
              "        buttonEl.style.display =\n",
              "          google.colab.kernel.accessAllowed ? 'block' : 'none';\n",
              "\n",
              "        async function convertToInteractive(key) {\n",
              "          const element = document.querySelector('#df-e5512acd-be5a-47ba-9572-54d25f460605');\n",
              "          const dataTable =\n",
              "            await google.colab.kernel.invokeFunction('convertToInteractive',\n",
              "                                                     [key], {});\n",
              "          if (!dataTable) return;\n",
              "\n",
              "          const docLinkHtml = 'Like what you see? Visit the ' +\n",
              "            '<a target=\"_blank\" href=https://colab.research.google.com/notebooks/data_table.ipynb>data table notebook</a>'\n",
              "            + ' to learn more about interactive tables.';\n",
              "          element.innerHTML = '';\n",
              "          dataTable['output_type'] = 'display_data';\n",
              "          await google.colab.output.renderOutput(dataTable, element);\n",
              "          const docLink = document.createElement('div');\n",
              "          docLink.innerHTML = docLinkHtml;\n",
              "          element.appendChild(docLink);\n",
              "        }\n",
              "      </script>\n",
              "    </div>\n",
              "  </div>\n",
              "  "
            ]
          },
          "metadata": {},
          "execution_count": 4
        }
      ]
    },
    {
      "cell_type": "code",
      "source": [
        "df2= df['Name'].astype(str) +\"-\"+ df[\"Address\"]"
      ],
      "metadata": {
        "id": "n5MfBDm7JjlK"
      },
      "execution_count": 6,
      "outputs": []
    },
    {
      "cell_type": "code",
      "source": [
        "corpus=list(df2)"
      ],
      "metadata": {
        "id": "MukNv9Y_Jjig"
      },
      "execution_count": 8,
      "outputs": []
    },
    {
      "cell_type": "code",
      "source": [
        "corpus"
      ],
      "metadata": {
        "colab": {
          "base_uri": "https://localhost:8080/"
        },
        "id": "7nuVbsbXTTff",
        "outputId": "c4783e14-83f5-48a7-c65b-64e4049ac3bc"
      },
      "execution_count": 9,
      "outputs": [
        {
          "output_type": "execute_result",
          "data": {
            "text/plain": [
              "['Hammad Khan-House#2',\n",
              " 'Hassam Khan-House#1',\n",
              " 'Haseeb Asif-House#3',\n",
              " 'Asad Liaquat-House#4',\n",
              " 'Azam Hussain-House#5',\n",
              " 'Hamza Butt-House#6',\n",
              " 'Zain Jamil-House#7',\n",
              " 'Ali Nawaz-House#8',\n",
              " 'Noor Ur Ameen-House#9',\n",
              " 'Jan Nisaar-House#10']"
            ]
          },
          "metadata": {},
          "execution_count": 9
        }
      ]
    },
    {
      "cell_type": "code",
      "source": [
        "def remove_stop_words(corpus):\n",
        "    stop_words = ['#']\n",
        "    results = []\n",
        "    for text in corpus:\n",
        "        tmp = text.split('-')\n",
        "        for stop_word in stop_words:\n",
        "            if stop_word in tmp:\n",
        "                tmp.remove(stop_word)\n",
        "        results.append(\" \".join(tmp))\n",
        "    \n",
        "    return results"
      ],
      "metadata": {
        "id": "GFuOZ-2MJjgA"
      },
      "execution_count": 14,
      "outputs": []
    },
    {
      "cell_type": "code",
      "source": [
        "corpus = remove_stop_words(corpus)"
      ],
      "metadata": {
        "id": "jdN_EZm5JjdV"
      },
      "execution_count": 15,
      "outputs": []
    },
    {
      "cell_type": "code",
      "source": [
        "corpus"
      ],
      "metadata": {
        "id": "ChM-OADQJjas",
        "colab": {
          "base_uri": "https://localhost:8080/"
        },
        "outputId": "afbe05f2-7312-445c-8207-020241f304f8"
      },
      "execution_count": 16,
      "outputs": [
        {
          "output_type": "execute_result",
          "data": {
            "text/plain": [
              "['Hammad Khan House#2',\n",
              " 'Hassam Khan House#1',\n",
              " 'Haseeb Asif House#3',\n",
              " 'Asad Liaquat House#4',\n",
              " 'Azam Hussain House#5',\n",
              " 'Hamza Butt House#6',\n",
              " 'Zain Jamil House#7',\n",
              " 'Ali Nawaz House#8',\n",
              " 'Noor Ur Ameen House#9',\n",
              " 'Jan Nisaar House#10']"
            ]
          },
          "metadata": {},
          "execution_count": 16
        }
      ]
    },
    {
      "cell_type": "code",
      "source": [
        "words = []\n",
        "for text in corpus:\n",
        "    for word in text.split(' '):\n",
        "        words.append(word)\n",
        "\n",
        "words = set(words)"
      ],
      "metadata": {
        "id": "raUlFS1eJjYD"
      },
      "execution_count": 18,
      "outputs": []
    },
    {
      "cell_type": "code",
      "source": [
        "words"
      ],
      "metadata": {
        "id": "sdwsJ_-sJjVc",
        "colab": {
          "base_uri": "https://localhost:8080/"
        },
        "outputId": "de707b06-8027-46ab-e222-718187f58e6e"
      },
      "execution_count": 19,
      "outputs": [
        {
          "output_type": "execute_result",
          "data": {
            "text/plain": [
              "{'Ali',\n",
              " 'Ameen',\n",
              " 'Asad',\n",
              " 'Asif',\n",
              " 'Azam',\n",
              " 'Butt',\n",
              " 'Hammad',\n",
              " 'Hamza',\n",
              " 'Haseeb',\n",
              " 'Hassam',\n",
              " 'House#1',\n",
              " 'House#10',\n",
              " 'House#2',\n",
              " 'House#3',\n",
              " 'House#4',\n",
              " 'House#5',\n",
              " 'House#6',\n",
              " 'House#7',\n",
              " 'House#8',\n",
              " 'House#9',\n",
              " 'Hussain',\n",
              " 'Jamil',\n",
              " 'Jan',\n",
              " 'Khan',\n",
              " 'Liaquat',\n",
              " 'Nawaz',\n",
              " 'Nisaar',\n",
              " 'Noor',\n",
              " 'Ur',\n",
              " 'Zain'}"
            ]
          },
          "metadata": {},
          "execution_count": 19
        }
      ]
    },
    {
      "cell_type": "code",
      "source": [
        "\n",
        "\n",
        "word2int = {}\n",
        "\n",
        "for i,word in enumerate(words):\n",
        "    word2int[word] = i\n",
        "\n",
        "sentences = []\n",
        "for sentence in corpus:\n",
        "    sentences.append(sentence.split())\n",
        "    \n",
        "WINDOW_SIZE = 2\n",
        "\n",
        "data = []\n",
        "for sentence in sentences:\n",
        "    for idx, word in enumerate(sentence):\n",
        "        for neighbor in sentence[max(idx - WINDOW_SIZE, 0) : min(idx + WINDOW_SIZE, len(sentence)) + 1] : \n",
        "            if neighbor != word:\n",
        "                data.append([word, neighbor])\n",
        "\n"
      ],
      "metadata": {
        "id": "yMSGNs4XTuR3"
      },
      "execution_count": 20,
      "outputs": []
    },
    {
      "cell_type": "code",
      "source": [
        "\n",
        "\n",
        "import pandas as pd\n",
        "for text in corpus:\n",
        "    print(text)\n",
        "\n",
        "df = pd.DataFrame(data, columns = ['input', 'label'])\n",
        "\n"
      ],
      "metadata": {
        "colab": {
          "base_uri": "https://localhost:8080/"
        },
        "id": "xPKHkxImT1Cx",
        "outputId": "af45c2c4-8b75-4613-f88a-dcede84631ed"
      },
      "execution_count": 21,
      "outputs": [
        {
          "output_type": "stream",
          "name": "stdout",
          "text": [
            "Hammad Khan House#2\n",
            "Hassam Khan House#1\n",
            "Haseeb Asif House#3\n",
            "Asad Liaquat House#4\n",
            "Azam Hussain House#5\n",
            "Hamza Butt House#6\n",
            "Zain Jamil House#7\n",
            "Ali Nawaz House#8\n",
            "Noor Ur Ameen House#9\n",
            "Jan Nisaar House#10\n"
          ]
        }
      ]
    },
    {
      "cell_type": "code",
      "source": [
        "word2int"
      ],
      "metadata": {
        "colab": {
          "base_uri": "https://localhost:8080/"
        },
        "id": "uxLzp4SVT3yh",
        "outputId": "30cac6c7-b880-4b91-8053-ebcd19c59ba8"
      },
      "execution_count": 22,
      "outputs": [
        {
          "output_type": "execute_result",
          "data": {
            "text/plain": [
              "{'Asad': 0,\n",
              " 'House#9': 1,\n",
              " 'Noor': 2,\n",
              " 'Ali': 3,\n",
              " 'Hussain': 4,\n",
              " 'Haseeb': 5,\n",
              " 'Butt': 6,\n",
              " 'House#7': 7,\n",
              " 'House#6': 8,\n",
              " 'House#4': 9,\n",
              " 'House#5': 10,\n",
              " 'House#3': 11,\n",
              " 'Hamza': 12,\n",
              " 'House#2': 13,\n",
              " 'House#10': 14,\n",
              " 'Hassam': 15,\n",
              " 'Khan': 16,\n",
              " 'Nisaar': 17,\n",
              " 'Azam': 18,\n",
              " 'Jan': 19,\n",
              " 'Ur': 20,\n",
              " 'House#1': 21,\n",
              " 'Jamil': 22,\n",
              " 'Ameen': 23,\n",
              " 'Nawaz': 24,\n",
              " 'Hammad': 25,\n",
              " 'Asif': 26,\n",
              " 'House#8': 27,\n",
              " 'Zain': 28,\n",
              " 'Liaquat': 29}"
            ]
          },
          "metadata": {},
          "execution_count": 22
        }
      ]
    },
    {
      "cell_type": "code",
      "source": [
        "import tensorflow.compat.v1 as tf\n",
        "tf.disable_v2_behavior()\n",
        "import numpy as np\n",
        "\n",
        "ONE_HOT_DIM = len(words)\n",
        "\n",
        "# function to convert numbers to one hot vectors\n",
        "def to_one_hot_encoding(data_point_index):\n",
        "    one_hot_encoding = np.zeros(ONE_HOT_DIM)\n",
        "    one_hot_encoding[data_point_index] = 1\n",
        "    return one_hot_encoding\n",
        "\n",
        "X = [] # input word\n",
        "Y = [] # target word\n",
        "\n",
        "for x, y in zip(df['input'], df['label']):\n",
        "    X.append(to_one_hot_encoding(word2int[ x ]))\n",
        "    Y.append(to_one_hot_encoding(word2int[ y ]))\n",
        "\n",
        "# convert them to numpy arrays\n",
        "X_train = np.asarray(X)\n",
        "Y_train = np.asarray(Y)\n",
        "\n",
        "# making placeholders for X_train and Y_train\n",
        "x = tf.placeholder(tf.float32, shape=(None, ONE_HOT_DIM))\n",
        "y_label = tf.placeholder(tf.float32, shape=(None, ONE_HOT_DIM))\n",
        "\n",
        "# word embedding will be 2 dimension for 2d visualization\n",
        "EMBEDDING_DIM = 2 \n",
        "\n",
        "# hidden layer: which represents word vector eventually\n",
        "W1 = tf.Variable(tf.random_normal([ONE_HOT_DIM, EMBEDDING_DIM]))\n",
        "b1 = tf.Variable(tf.random_normal([1])) #bias\n",
        "hidden_layer = tf.add(tf.matmul(x,W1), b1)\n",
        "\n",
        "# output layer\n",
        "W2 = tf.Variable(tf.random_normal([EMBEDDING_DIM, ONE_HOT_DIM]))\n",
        "b2 = tf.Variable(tf.random_normal([1]))\n",
        "prediction = tf.nn.softmax(tf.add( tf.matmul(hidden_layer, W2), b2))\n",
        "\n",
        "# loss function: cross entropy\n",
        "loss = tf.reduce_mean(-tf.reduce_sum(y_label * tf.log(prediction), axis=[1]))\n",
        "\n",
        "# training operation\n",
        "train_op = tf.train.GradientDescentOptimizer(0.05).minimize(loss)\n",
        "\n"
      ],
      "metadata": {
        "colab": {
          "base_uri": "https://localhost:8080/"
        },
        "id": "My8IDUE_T7im",
        "outputId": "7aea357c-ae96-4e57-e93e-d2e069d281bb"
      },
      "execution_count": 24,
      "outputs": [
        {
          "output_type": "stream",
          "name": "stderr",
          "text": [
            "WARNING:tensorflow:From /usr/local/lib/python3.7/dist-packages/tensorflow/python/compat/v2_compat.py:107: disable_resource_variables (from tensorflow.python.ops.variable_scope) is deprecated and will be removed in a future version.\n",
            "Instructions for updating:\n",
            "non-resource variables are not supported in the long term\n"
          ]
        }
      ]
    },
    {
      "cell_type": "code",
      "source": [
        "\n",
        "\n",
        "sess = tf.Session()\n",
        "init = tf.global_variables_initializer()\n",
        "sess.run(init) \n",
        "\n",
        "iteration = 20000\n",
        "for i in range(iteration):\n",
        "    # input is X_train which is one hot encoded word\n",
        "    # label is Y_train which is one hot encoded neighbor word\n",
        "    sess.run(train_op, feed_dict={x: X_train, y_label: Y_train})\n",
        "    if i % 3000 == 0:\n",
        "        print('iteration '+str(i)+' loss is : ', sess.run(loss, feed_dict={x: X_train, y_label: Y_train}))\n",
        "\n"
      ],
      "metadata": {
        "colab": {
          "base_uri": "https://localhost:8080/"
        },
        "id": "Iq1mDzdHUHcW",
        "outputId": "b7647e65-fd46-41eb-da36-6cb627045f80"
      },
      "execution_count": 25,
      "outputs": [
        {
          "output_type": "stream",
          "name": "stdout",
          "text": [
            "iteration 0 loss is :  4.3604164\n",
            "iteration 3000 loss is :  2.2083018\n",
            "iteration 6000 loss is :  1.6882948\n",
            "iteration 9000 loss is :  1.4349109\n",
            "iteration 12000 loss is :  1.2960012\n",
            "iteration 15000 loss is :  1.2348921\n",
            "iteration 18000 loss is :  1.2004014\n"
          ]
        }
      ]
    },
    {
      "cell_type": "code",
      "source": [
        "# Now the hidden layer (W1 + b1) is actually the word look up table\n",
        "vectors = sess.run(W1 + b1)\n",
        "print(vectors)"
      ],
      "metadata": {
        "colab": {
          "base_uri": "https://localhost:8080/"
        },
        "id": "2Idly1-aUcka",
        "outputId": "bf2ab814-bf8b-4d1a-ae69-60440b715a9a"
      },
      "execution_count": 26,
      "outputs": [
        {
          "output_type": "stream",
          "name": "stdout",
          "text": [
            "[[-2.8526192  -3.728136  ]\n",
            " [ 5.1363196  -0.26639622]\n",
            " [ 5.145522   -0.2664742 ]\n",
            " [-1.8750072   3.6172578 ]\n",
            " [-3.8696365  -0.82371676]\n",
            " [ 0.29586014  5.081428  ]\n",
            " [-4.169472    2.5683508 ]\n",
            " [ 2.0117922  -3.4677646 ]\n",
            " [-3.9331355   1.8561329 ]\n",
            " [-3.157585   -3.21637   ]\n",
            " [-4.592163   -0.524796  ]\n",
            " [ 0.78503907  4.2416434 ]\n",
            " [-4.2181067   1.777081  ]\n",
            " [ 3.017746    3.560306  ]\n",
            " [-0.5475287  -4.3204184 ]\n",
            " [ 4.196253    2.0022824 ]\n",
            " [ 1.7234284   1.3225521 ]\n",
            " [ 0.05991638 -5.297912  ]\n",
            " [-3.8747773  -0.8267437 ]\n",
            " [-0.9101496  -4.657701  ]\n",
            " [ 4.2516985  -1.9575346 ]\n",
            " [ 2.9822814   3.4616303 ]\n",
            " [ 1.8533869  -3.0689979 ]\n",
            " [ 4.286761   -1.9762378 ]\n",
            " [-1.9578338   3.718462  ]\n",
            " [ 4.30884     2.1223435 ]\n",
            " [ 0.9357774   4.4076867 ]\n",
            " [-1.8560998   3.5779073 ]\n",
            " [ 1.8532543  -3.0693324 ]\n",
            " [-3.4524753  -3.330092  ]]\n"
          ]
        }
      ]
    },
    {
      "cell_type": "code",
      "source": [
        "w2v_df = pd.DataFrame(vectors, columns = ['x1', 'x2'])\n",
        "w2v_df['word'] = list(words)\n",
        "w2v_df = w2v_df[['word', 'x1', 'x2']]\n",
        "w2v_df"
      ],
      "metadata": {
        "colab": {
          "base_uri": "https://localhost:8080/",
          "height": 990
        },
        "id": "YSBGg3IqUe1g",
        "outputId": "02ba7b4d-dd5e-4cc1-f9bb-d8a0d1730afe"
      },
      "execution_count": 28,
      "outputs": [
        {
          "output_type": "execute_result",
          "data": {
            "text/plain": [
              "        word        x1        x2\n",
              "0       Asad -2.852619 -3.728136\n",
              "1    House#9  5.136320 -0.266396\n",
              "2       Noor  5.145522 -0.266474\n",
              "3        Ali -1.875007  3.617258\n",
              "4    Hussain -3.869637 -0.823717\n",
              "5     Haseeb  0.295860  5.081428\n",
              "6       Butt -4.169472  2.568351\n",
              "7    House#7  2.011792 -3.467765\n",
              "8    House#6 -3.933136  1.856133\n",
              "9    House#4 -3.157585 -3.216370\n",
              "10   House#5 -4.592163 -0.524796\n",
              "11   House#3  0.785039  4.241643\n",
              "12     Hamza -4.218107  1.777081\n",
              "13   House#2  3.017746  3.560306\n",
              "14  House#10 -0.547529 -4.320418\n",
              "15    Hassam  4.196253  2.002282\n",
              "16      Khan  1.723428  1.322552\n",
              "17    Nisaar  0.059916 -5.297912\n",
              "18      Azam -3.874777 -0.826744\n",
              "19       Jan -0.910150 -4.657701\n",
              "20        Ur  4.251698 -1.957535\n",
              "21   House#1  2.982281  3.461630\n",
              "22     Jamil  1.853387 -3.068998\n",
              "23     Ameen  4.286761 -1.976238\n",
              "24     Nawaz -1.957834  3.718462\n",
              "25    Hammad  4.308840  2.122344\n",
              "26      Asif  0.935777  4.407687\n",
              "27   House#8 -1.856100  3.577907\n",
              "28      Zain  1.853254 -3.069332\n",
              "29   Liaquat -3.452475 -3.330092"
            ],
            "text/html": [
              "\n",
              "  <div id=\"df-67fffb75-7288-452d-a61d-2f543d43ac14\">\n",
              "    <div class=\"colab-df-container\">\n",
              "      <div>\n",
              "<style scoped>\n",
              "    .dataframe tbody tr th:only-of-type {\n",
              "        vertical-align: middle;\n",
              "    }\n",
              "\n",
              "    .dataframe tbody tr th {\n",
              "        vertical-align: top;\n",
              "    }\n",
              "\n",
              "    .dataframe thead th {\n",
              "        text-align: right;\n",
              "    }\n",
              "</style>\n",
              "<table border=\"1\" class=\"dataframe\">\n",
              "  <thead>\n",
              "    <tr style=\"text-align: right;\">\n",
              "      <th></th>\n",
              "      <th>word</th>\n",
              "      <th>x1</th>\n",
              "      <th>x2</th>\n",
              "    </tr>\n",
              "  </thead>\n",
              "  <tbody>\n",
              "    <tr>\n",
              "      <th>0</th>\n",
              "      <td>Asad</td>\n",
              "      <td>-2.852619</td>\n",
              "      <td>-3.728136</td>\n",
              "    </tr>\n",
              "    <tr>\n",
              "      <th>1</th>\n",
              "      <td>House#9</td>\n",
              "      <td>5.136320</td>\n",
              "      <td>-0.266396</td>\n",
              "    </tr>\n",
              "    <tr>\n",
              "      <th>2</th>\n",
              "      <td>Noor</td>\n",
              "      <td>5.145522</td>\n",
              "      <td>-0.266474</td>\n",
              "    </tr>\n",
              "    <tr>\n",
              "      <th>3</th>\n",
              "      <td>Ali</td>\n",
              "      <td>-1.875007</td>\n",
              "      <td>3.617258</td>\n",
              "    </tr>\n",
              "    <tr>\n",
              "      <th>4</th>\n",
              "      <td>Hussain</td>\n",
              "      <td>-3.869637</td>\n",
              "      <td>-0.823717</td>\n",
              "    </tr>\n",
              "    <tr>\n",
              "      <th>5</th>\n",
              "      <td>Haseeb</td>\n",
              "      <td>0.295860</td>\n",
              "      <td>5.081428</td>\n",
              "    </tr>\n",
              "    <tr>\n",
              "      <th>6</th>\n",
              "      <td>Butt</td>\n",
              "      <td>-4.169472</td>\n",
              "      <td>2.568351</td>\n",
              "    </tr>\n",
              "    <tr>\n",
              "      <th>7</th>\n",
              "      <td>House#7</td>\n",
              "      <td>2.011792</td>\n",
              "      <td>-3.467765</td>\n",
              "    </tr>\n",
              "    <tr>\n",
              "      <th>8</th>\n",
              "      <td>House#6</td>\n",
              "      <td>-3.933136</td>\n",
              "      <td>1.856133</td>\n",
              "    </tr>\n",
              "    <tr>\n",
              "      <th>9</th>\n",
              "      <td>House#4</td>\n",
              "      <td>-3.157585</td>\n",
              "      <td>-3.216370</td>\n",
              "    </tr>\n",
              "    <tr>\n",
              "      <th>10</th>\n",
              "      <td>House#5</td>\n",
              "      <td>-4.592163</td>\n",
              "      <td>-0.524796</td>\n",
              "    </tr>\n",
              "    <tr>\n",
              "      <th>11</th>\n",
              "      <td>House#3</td>\n",
              "      <td>0.785039</td>\n",
              "      <td>4.241643</td>\n",
              "    </tr>\n",
              "    <tr>\n",
              "      <th>12</th>\n",
              "      <td>Hamza</td>\n",
              "      <td>-4.218107</td>\n",
              "      <td>1.777081</td>\n",
              "    </tr>\n",
              "    <tr>\n",
              "      <th>13</th>\n",
              "      <td>House#2</td>\n",
              "      <td>3.017746</td>\n",
              "      <td>3.560306</td>\n",
              "    </tr>\n",
              "    <tr>\n",
              "      <th>14</th>\n",
              "      <td>House#10</td>\n",
              "      <td>-0.547529</td>\n",
              "      <td>-4.320418</td>\n",
              "    </tr>\n",
              "    <tr>\n",
              "      <th>15</th>\n",
              "      <td>Hassam</td>\n",
              "      <td>4.196253</td>\n",
              "      <td>2.002282</td>\n",
              "    </tr>\n",
              "    <tr>\n",
              "      <th>16</th>\n",
              "      <td>Khan</td>\n",
              "      <td>1.723428</td>\n",
              "      <td>1.322552</td>\n",
              "    </tr>\n",
              "    <tr>\n",
              "      <th>17</th>\n",
              "      <td>Nisaar</td>\n",
              "      <td>0.059916</td>\n",
              "      <td>-5.297912</td>\n",
              "    </tr>\n",
              "    <tr>\n",
              "      <th>18</th>\n",
              "      <td>Azam</td>\n",
              "      <td>-3.874777</td>\n",
              "      <td>-0.826744</td>\n",
              "    </tr>\n",
              "    <tr>\n",
              "      <th>19</th>\n",
              "      <td>Jan</td>\n",
              "      <td>-0.910150</td>\n",
              "      <td>-4.657701</td>\n",
              "    </tr>\n",
              "    <tr>\n",
              "      <th>20</th>\n",
              "      <td>Ur</td>\n",
              "      <td>4.251698</td>\n",
              "      <td>-1.957535</td>\n",
              "    </tr>\n",
              "    <tr>\n",
              "      <th>21</th>\n",
              "      <td>House#1</td>\n",
              "      <td>2.982281</td>\n",
              "      <td>3.461630</td>\n",
              "    </tr>\n",
              "    <tr>\n",
              "      <th>22</th>\n",
              "      <td>Jamil</td>\n",
              "      <td>1.853387</td>\n",
              "      <td>-3.068998</td>\n",
              "    </tr>\n",
              "    <tr>\n",
              "      <th>23</th>\n",
              "      <td>Ameen</td>\n",
              "      <td>4.286761</td>\n",
              "      <td>-1.976238</td>\n",
              "    </tr>\n",
              "    <tr>\n",
              "      <th>24</th>\n",
              "      <td>Nawaz</td>\n",
              "      <td>-1.957834</td>\n",
              "      <td>3.718462</td>\n",
              "    </tr>\n",
              "    <tr>\n",
              "      <th>25</th>\n",
              "      <td>Hammad</td>\n",
              "      <td>4.308840</td>\n",
              "      <td>2.122344</td>\n",
              "    </tr>\n",
              "    <tr>\n",
              "      <th>26</th>\n",
              "      <td>Asif</td>\n",
              "      <td>0.935777</td>\n",
              "      <td>4.407687</td>\n",
              "    </tr>\n",
              "    <tr>\n",
              "      <th>27</th>\n",
              "      <td>House#8</td>\n",
              "      <td>-1.856100</td>\n",
              "      <td>3.577907</td>\n",
              "    </tr>\n",
              "    <tr>\n",
              "      <th>28</th>\n",
              "      <td>Zain</td>\n",
              "      <td>1.853254</td>\n",
              "      <td>-3.069332</td>\n",
              "    </tr>\n",
              "    <tr>\n",
              "      <th>29</th>\n",
              "      <td>Liaquat</td>\n",
              "      <td>-3.452475</td>\n",
              "      <td>-3.330092</td>\n",
              "    </tr>\n",
              "  </tbody>\n",
              "</table>\n",
              "</div>\n",
              "      <button class=\"colab-df-convert\" onclick=\"convertToInteractive('df-67fffb75-7288-452d-a61d-2f543d43ac14')\"\n",
              "              title=\"Convert this dataframe to an interactive table.\"\n",
              "              style=\"display:none;\">\n",
              "        \n",
              "  <svg xmlns=\"http://www.w3.org/2000/svg\" height=\"24px\"viewBox=\"0 0 24 24\"\n",
              "       width=\"24px\">\n",
              "    <path d=\"M0 0h24v24H0V0z\" fill=\"none\"/>\n",
              "    <path d=\"M18.56 5.44l.94 2.06.94-2.06 2.06-.94-2.06-.94-.94-2.06-.94 2.06-2.06.94zm-11 1L8.5 8.5l.94-2.06 2.06-.94-2.06-.94L8.5 2.5l-.94 2.06-2.06.94zm10 10l.94 2.06.94-2.06 2.06-.94-2.06-.94-.94-2.06-.94 2.06-2.06.94z\"/><path d=\"M17.41 7.96l-1.37-1.37c-.4-.4-.92-.59-1.43-.59-.52 0-1.04.2-1.43.59L10.3 9.45l-7.72 7.72c-.78.78-.78 2.05 0 2.83L4 21.41c.39.39.9.59 1.41.59.51 0 1.02-.2 1.41-.59l7.78-7.78 2.81-2.81c.8-.78.8-2.07 0-2.86zM5.41 20L4 18.59l7.72-7.72 1.47 1.35L5.41 20z\"/>\n",
              "  </svg>\n",
              "      </button>\n",
              "      \n",
              "  <style>\n",
              "    .colab-df-container {\n",
              "      display:flex;\n",
              "      flex-wrap:wrap;\n",
              "      gap: 12px;\n",
              "    }\n",
              "\n",
              "    .colab-df-convert {\n",
              "      background-color: #E8F0FE;\n",
              "      border: none;\n",
              "      border-radius: 50%;\n",
              "      cursor: pointer;\n",
              "      display: none;\n",
              "      fill: #1967D2;\n",
              "      height: 32px;\n",
              "      padding: 0 0 0 0;\n",
              "      width: 32px;\n",
              "    }\n",
              "\n",
              "    .colab-df-convert:hover {\n",
              "      background-color: #E2EBFA;\n",
              "      box-shadow: 0px 1px 2px rgba(60, 64, 67, 0.3), 0px 1px 3px 1px rgba(60, 64, 67, 0.15);\n",
              "      fill: #174EA6;\n",
              "    }\n",
              "\n",
              "    [theme=dark] .colab-df-convert {\n",
              "      background-color: #3B4455;\n",
              "      fill: #D2E3FC;\n",
              "    }\n",
              "\n",
              "    [theme=dark] .colab-df-convert:hover {\n",
              "      background-color: #434B5C;\n",
              "      box-shadow: 0px 1px 3px 1px rgba(0, 0, 0, 0.15);\n",
              "      filter: drop-shadow(0px 1px 2px rgba(0, 0, 0, 0.3));\n",
              "      fill: #FFFFFF;\n",
              "    }\n",
              "  </style>\n",
              "\n",
              "      <script>\n",
              "        const buttonEl =\n",
              "          document.querySelector('#df-67fffb75-7288-452d-a61d-2f543d43ac14 button.colab-df-convert');\n",
              "        buttonEl.style.display =\n",
              "          google.colab.kernel.accessAllowed ? 'block' : 'none';\n",
              "\n",
              "        async function convertToInteractive(key) {\n",
              "          const element = document.querySelector('#df-67fffb75-7288-452d-a61d-2f543d43ac14');\n",
              "          const dataTable =\n",
              "            await google.colab.kernel.invokeFunction('convertToInteractive',\n",
              "                                                     [key], {});\n",
              "          if (!dataTable) return;\n",
              "\n",
              "          const docLinkHtml = 'Like what you see? Visit the ' +\n",
              "            '<a target=\"_blank\" href=https://colab.research.google.com/notebooks/data_table.ipynb>data table notebook</a>'\n",
              "            + ' to learn more about interactive tables.';\n",
              "          element.innerHTML = '';\n",
              "          dataTable['output_type'] = 'display_data';\n",
              "          await google.colab.output.renderOutput(dataTable, element);\n",
              "          const docLink = document.createElement('div');\n",
              "          docLink.innerHTML = docLinkHtml;\n",
              "          element.appendChild(docLink);\n",
              "        }\n",
              "      </script>\n",
              "    </div>\n",
              "  </div>\n",
              "  "
            ]
          },
          "metadata": {},
          "execution_count": 28
        }
      ]
    },
    {
      "cell_type": "code",
      "source": [
        "import matplotlib.pyplot as plt\n",
        "\n",
        "fig, ax = plt.subplots()\n",
        "\n",
        "for word, x1, x2 in zip(w2v_df['word'], w2v_df['x1'], w2v_df['x2']):\n",
        "    ax.annotate(word, (x1,x2 ))\n",
        "    \n",
        "PADDING = 1.0\n",
        "x_axis_min = np.amin(vectors, axis=0)[0] - PADDING\n",
        "y_axis_min = np.amin(vectors, axis=0)[1] - PADDING\n",
        "x_axis_max = np.amax(vectors, axis=0)[0] + PADDING\n",
        "y_axis_max = np.amax(vectors, axis=0)[1] + PADDING\n",
        " \n",
        "plt.xlim(x_axis_min,x_axis_max)\n",
        "plt.ylim(y_axis_min,y_axis_max)\n",
        "plt.rcParams[\"figure.figsize\"] = (10,10)\n",
        "\n",
        "plt.show()"
      ],
      "metadata": {
        "colab": {
          "base_uri": "https://localhost:8080/",
          "height": 268
        },
        "id": "xEglNAIoUd0K",
        "outputId": "3875f4f7-6876-4733-a81d-f1abf5f4cf26"
      },
      "execution_count": 29,
      "outputs": [
        {
          "output_type": "display_data",
          "data": {
            "text/plain": [
              "<Figure size 432x288 with 1 Axes>"
            ],
            "image/png": "[encoded data removed]"
          },
          "metadata": {
            "needs_background": "light"
          }
        }
      ]
    },
    {
      "cell_type": "code",
      "source": [],
      "metadata": {
        "id": "dJ2TOMXuUdpv"
      },
      "execution_count": null,
      "outputs": []
    }
  ]
}