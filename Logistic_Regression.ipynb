{
  "nbformat": 4,
  "nbformat_minor": 0,
  "metadata": {
    "colab": {
      "name": "Logistic_Regression.ipynb",
      "provenance": [],
      "collapsed_sections": []
    },
    "kernelspec": {
      "name": "python3",
      "display_name": "Python 3"
    },
    "language_info": {
      "name": "python"
    }
  },
  "cells": [
    {
      "cell_type": "code",
      "execution_count": 252,
      "metadata": {
        "id": "58vDmDZuon6S"
      },
      "outputs": [],
      "source": [
        "import numpy as np\n",
        "import matplotlib.pyplot as plt\n",
        "from sklearn.datasets import make_classification\n",
        "from sklearn.model_selection import train_test_split\n",
        "from numpy import log,dot,e,shape"
      ]
    },
    {
      "cell_type": "code",
      "source": [
        "x,y=make_classification(n_features=4,n_classes=2)"
      ],
      "metadata": {
        "id": "nVuP7C3Lrbfn"
      },
      "execution_count": 253,
      "outputs": []
    },
    {
      "cell_type": "code",
      "source": [
        "np.shape(y)"
      ],
      "metadata": {
        "colab": {
          "base_uri": "https://localhost:8080/"
        },
        "id": "8C4ZCz9uR_fX",
        "outputId": "c8d8e8bc-6a51-4e2a-e536-711985d61cf2"
      },
      "execution_count": 254,
      "outputs": [
        {
          "output_type": "execute_result",
          "data": {
            "text/plain": [
              "(100,)"
            ]
          },
          "metadata": {},
          "execution_count": 254
        }
      ]
    },
    {
      "cell_type": "code",
      "source": [
        "x_tr,x_te,y_tr,y_te=train_test_split(x,y,test_size=0.1)"
      ],
      "metadata": {
        "id": "BF2m9_qMsIme"
      },
      "execution_count": 255,
      "outputs": []
    },
    {
      "cell_type": "code",
      "source": [
        "print((np.shape(x_tr)))"
      ],
      "metadata": {
        "colab": {
          "base_uri": "https://localhost:8080/"
        },
        "id": "Q0-uCgqKsJwO",
        "outputId": "a9528855-6951-4140-99d5-bc60fc7b86f5"
      },
      "execution_count": 256,
      "outputs": [
        {
          "output_type": "stream",
          "name": "stdout",
          "text": [
            "(90, 4)\n"
          ]
        }
      ]
    },
    {
      "cell_type": "code",
      "source": [
        "print((np.shape(x_tr)[0]))"
      ],
      "metadata": {
        "colab": {
          "base_uri": "https://localhost:8080/"
        },
        "id": "KfaU9VaZuPFl",
        "outputId": "70ba3f60-859a-4f55-a9f2-f295d8203922"
      },
      "execution_count": 257,
      "outputs": [
        {
          "output_type": "stream",
          "name": "stdout",
          "text": [
            "90\n"
          ]
        }
      ]
    },
    {
      "cell_type": "code",
      "source": [
        "print((np.shape(x_tr)[1]))"
      ],
      "metadata": {
        "colab": {
          "base_uri": "https://localhost:8080/"
        },
        "id": "gutVQmolwc8C",
        "outputId": "202c2ade-feef-4e72-fc00-e3800d01bc5f"
      },
      "execution_count": 258,
      "outputs": [
        {
          "output_type": "stream",
          "name": "stdout",
          "text": [
            "4\n"
          ]
        }
      ]
    },
    {
      "cell_type": "code",
      "source": [
        "# TO Print Values of Feature x0 with all the datapoints of x\n",
        "print((x_tr[:,0]))"
      ],
      "metadata": {
        "colab": {
          "base_uri": "https://localhost:8080/"
        },
        "id": "Hl6I_Cvywfcw",
        "outputId": "c9c0ca0f-2140-4150-a837-ca4b4ed62a5f"
      },
      "execution_count": 259,
      "outputs": [
        {
          "output_type": "stream",
          "name": "stdout",
          "text": [
            "[-0.59645307  1.60515112  1.61463918  0.480125    1.22168234  1.28676044\n",
            "  1.17345922  0.79581487  0.73369751 -2.83129959 -2.23976045  1.00048174\n",
            " -0.40690339 -1.3510575  -2.12946844  1.17835562 -1.73434576 -2.09297606\n",
            "  1.43514626 -0.86584717  0.0347593  -0.19674219  0.98978315  1.35112428\n",
            " -1.38306362 -0.10798586 -2.50426237 -1.74882771  2.37919831  1.89192578\n",
            "  1.34098837  1.5030506  -2.08671487  1.2341173   0.46876631 -1.83853934\n",
            " -0.29263104  0.83013328  0.61767519  0.50587533 -1.88120966 -1.16236659\n",
            " -2.44054328 -0.13627732 -2.27026439  1.07300498  1.62257959 -1.27157462\n",
            "  1.96703865  0.28429112  0.90009332  1.09331988  1.36155768 -2.53872531\n",
            "  0.45056647  0.81175032  1.50975246 -2.13055341  1.731864    0.65775266\n",
            " -0.98321698 -0.58761044  0.28341761 -1.36170123  0.52461256  2.170236\n",
            " -2.04396341  0.77371298  2.42435376 -1.28920845 -2.31136941 -0.65846269\n",
            "  1.66003827  2.06781711  1.12440981 -1.32670128 -0.2185159  -0.92850873\n",
            "  1.59738556  2.02096569  0.311909    0.12397914 -1.41306686 -1.50277213\n",
            " -1.50164707 -1.72379933  1.2565737   1.0457351  -0.67291421 -2.1450523 ]\n"
          ]
        }
      ]
    },
    {
      "cell_type": "code",
      "source": [
        "def standardize(x_tr):\n",
        "  for i in range(0,np.shape(x_tr)[1]):\n",
        "    x_tr[:,i]=(x_tr[:,i]-np.mean(x_tr[:,i]))/np.std(x_tr[:,i])"
      ],
      "metadata": {
        "id": "el9W5kF0wqUq"
      },
      "execution_count": 260,
      "outputs": []
    },
    {
      "cell_type": "code",
      "source": [
        "# To print weights which are always one more than feature x0,x1...xn \n",
        "# y=mx+c where m are the weights\n",
        "#weights = np.zeros((np.shape(x_tr)[1]+1,1))\n",
        "#print(weights)\n",
        "# This will add another Column in the data\n",
        "#x = np.c_[np.ones((np.shape(x_tr)[0],1)),x_tr]\n",
        "#print(x)"
      ],
      "metadata": {
        "id": "qWbi3D8-xpI1"
      },
      "execution_count": 261,
      "outputs": []
    },
    {
      "cell_type": "code",
      "source": [
        "#Used for the concatination of Matrix\n",
        "a=np.c_[np.array([1,2,3]), np.array([4,5,6])]\n",
        "print(a)"
      ],
      "metadata": {
        "colab": {
          "base_uri": "https://localhost:8080/"
        },
        "id": "KEcSG1KF0O6a",
        "outputId": "fd07fd51-df5c-4fb3-9d5a-f43474683fdb"
      },
      "execution_count": 262,
      "outputs": [
        {
          "output_type": "stream",
          "name": "stdout",
          "text": [
            "[[1 4]\n",
            " [2 5]\n",
            " [3 6]]\n"
          ]
        }
      ]
    },
    {
      "cell_type": "code",
      "source": [
        "def F1_score(y,y_hat):\n",
        "  tp,fn,fp,tn=0,0,0,0\n",
        "  for i in range(len(y)):\n",
        "    if y[i]==1 and y_hat[i]==1:\n",
        "      tp=tp+1\n",
        "    elif y[i]==1 and y_hat[i]==0:\n",
        "      fn=fn+1\n",
        "    elif y[i]==0 and y_hat[i]==1:\n",
        "      fp=fp+1\n",
        "    elif y[i]==0 and y_hat[i]==0:\n",
        "      tn=tn+1\n",
        "  precision=tp/(tp+fp)\n",
        "  recall=tp/(tp+fn)\n",
        "  f1_score=2*precision*recall/(precision+recall)\n",
        "  return f1_score\n"
      ],
      "metadata": {
        "id": "-CvuRGtGHXwi"
      },
      "execution_count": 263,
      "outputs": []
    },
    {
      "cell_type": "code",
      "source": [
        "class logitRegression:\n",
        "  def sigmoid(self,z):\n",
        "    sig=1/(1+np.e**(-z))\n",
        "    return sig\n",
        "  def initialize(self,x):\n",
        "    weights = np.zeros((np.shape(x)[1]+1,1))\n",
        "    x = np.c_[np.ones((np.shape(x)[0],1)),x]\n",
        "    return weights,x\n",
        "  def fit(self,x,y,alpha=0.001,iter=100):\n",
        "    weights,x = self.initialize(x)\n",
        "    def cost(theta):\n",
        "      z=np.dot(x,theta)\n",
        "      cost0=y.T.dot(np.log(self.sigmoid(z)))\n",
        "      cost1=(1-y).T.dot(np.log(1-self.sigmoid(z)))\n",
        "      cost=-((cost0+cost1))/len(y)\n",
        "      return cost\n",
        "    cost_list = np.zeros(iter,)\n",
        "    for i in range(iter):\n",
        "      #Giving Weights the new values and updating them\n",
        "      weights = weights - alpha * np.dot(x.T, self.sigmoid(np.dot(x,weights)) - np.reshape(y,(len(y),1)))\n",
        "      cost_list[i] = cost(weights)\n",
        "    self.weights = weights\n",
        "    return cost_list\n",
        "  def predict(self,x):\n",
        "    z=np.dot(self.initialize(x)[1],self.weights)\n",
        "    lis=[]\n",
        "    for i in self.sigmoid(z):\n",
        "      if i>=0.5:\n",
        "        lis.append(1)\n",
        "      elif i<0.5:\n",
        "        lis.append(0)\n",
        "    return lis\n"
      ],
      "metadata": {
        "id": "Z4JtAN0XKNn5"
      },
      "execution_count": 264,
      "outputs": []
    },
    {
      "cell_type": "code",
      "source": [
        "#Main of the Logistic Regression from Scratch\n",
        "standardize(x_tr)\n",
        "standardize(x_te)\n",
        "obj1 = logitRegression()\n",
        "model= obj1.fit(x_tr,y_tr)\n",
        "y_pred = obj1.predict(x_te)\n",
        "y_train = obj1.predict(x_tr)\n",
        "#Let's see the f1-score for training and testing data\n",
        "f1_score_tr = F1_score(y_tr,y_train)\n",
        "f1_score_te = F1_score(y_te,y_pred)\n",
        "print(f1_score_tr)\n",
        "print(f1_score_te)"
      ],
      "metadata": {
        "colab": {
          "base_uri": "https://localhost:8080/"
        },
        "id": "bdDaPqeoNVE-",
        "outputId": "55588185-7cb9-442d-de2f-e011ca093864"
      },
      "execution_count": 265,
      "outputs": [
        {
          "output_type": "stream",
          "name": "stdout",
          "text": [
            "0.8936170212765957\n",
            "1.0\n"
          ]
        }
      ]
    },
    {
      "cell_type": "code",
      "source": [
        "from sklearn.linear_model import LogisticRegression\n",
        "from sklearn.metrics import f1_score\n",
        "model=LogisticRegression().fit(x_tr,y_tr)\n",
        "y_pred=model.predict(x_te)\n",
        "print(f1_score(y_te,y_pred))"
      ],
      "metadata": {
        "colab": {
          "base_uri": "https://localhost:8080/"
        },
        "id": "CMxoNLPoObF-",
        "outputId": "29d25505-8f1c-4b41-d15d-27166ff116c1"
      },
      "execution_count": 273,
      "outputs": [
        {
          "output_type": "stream",
          "name": "stdout",
          "text": [
            "1.0\n"
          ]
        }
      ]
    },
    {
      "cell_type": "code",
      "source": [
        ""
      ],
      "metadata": {
        "id": "WTR0CqzpWRHT"
      },
      "execution_count": null,
      "outputs": []
    }
  ]
}